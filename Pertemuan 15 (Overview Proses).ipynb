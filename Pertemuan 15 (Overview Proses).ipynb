{
 "cells": [
  {
   "cell_type": "code",
   "execution_count": 1,
   "id": "207da49b",
   "metadata": {},
   "outputs": [],
   "source": [
    "import pandas as pd\n",
    "import numpy as np\n",
    "import matplotlib.pyplot as plt\n",
    "import seaborn as sns\n",
    "%matplotlib inline"
   ]
  },
  {
   "cell_type": "code",
   "execution_count": 2,
   "id": "967e4ca4",
   "metadata": {},
   "outputs": [],
   "source": [
    "data = pd.read_csv('data/spaceship-titanic/train.csv')\n",
    "data_test = pd.read_csv('data/spaceship-titanic/test.csv')"
   ]
  },
  {
   "cell_type": "code",
   "execution_count": 4,
   "id": "88e5bf36",
   "metadata": {},
   "outputs": [],
   "source": [
    "from sklearn.model_selection import train_test_split\n",
    "\n",
    "data_train, data_dev = train_test_split(data, test_size=0.3)"
   ]
  },
  {
   "cell_type": "code",
   "execution_count": 6,
   "id": "ca98cf6f",
   "metadata": {},
   "outputs": [
    {
     "data": {
      "text/plain": [
       "(6085, 14)"
      ]
     },
     "execution_count": 6,
     "metadata": {},
     "output_type": "execute_result"
    }
   ],
   "source": [
    "data_train.shape"
   ]
  },
  {
   "cell_type": "code",
   "execution_count": 7,
   "id": "95a5b73b",
   "metadata": {},
   "outputs": [
    {
     "data": {
      "text/plain": [
       "(2608, 14)"
      ]
     },
     "execution_count": 7,
     "metadata": {},
     "output_type": "execute_result"
    }
   ],
   "source": [
    "data_dev.shape"
   ]
  },
  {
   "cell_type": "code",
   "execution_count": 8,
   "id": "42b2bdaa",
   "metadata": {},
   "outputs": [
    {
     "name": "stdout",
     "output_type": "stream",
     "text": [
      "<class 'pandas.core.frame.DataFrame'>\n",
      "Int64Index: 6085 entries, 6051 to 3051\n",
      "Data columns (total 14 columns):\n",
      " #   Column        Non-Null Count  Dtype  \n",
      "---  ------        --------------  -----  \n",
      " 0   PassengerId   6085 non-null   object \n",
      " 1   HomePlanet    5944 non-null   object \n",
      " 2   CryoSleep     5927 non-null   object \n",
      " 3   Cabin         5955 non-null   object \n",
      " 4   Destination   5967 non-null   object \n",
      " 5   Age           5969 non-null   float64\n",
      " 6   VIP           5929 non-null   object \n",
      " 7   RoomService   5951 non-null   float64\n",
      " 8   FoodCourt     5956 non-null   float64\n",
      " 9   ShoppingMall  5934 non-null   float64\n",
      " 10  Spa           5963 non-null   float64\n",
      " 11  VRDeck        5946 non-null   float64\n",
      " 12  Name          5950 non-null   object \n",
      " 13  Transported   6085 non-null   bool   \n",
      "dtypes: bool(1), float64(6), object(7)\n",
      "memory usage: 671.5+ KB\n"
     ]
    }
   ],
   "source": [
    "data_train.info()"
   ]
  },
  {
   "cell_type": "code",
   "execution_count": 9,
   "id": "8a2a7a9c",
   "metadata": {},
   "outputs": [
    {
     "data": {
      "text/html": [
       "<div>\n",
       "<style scoped>\n",
       "    .dataframe tbody tr th:only-of-type {\n",
       "        vertical-align: middle;\n",
       "    }\n",
       "\n",
       "    .dataframe tbody tr th {\n",
       "        vertical-align: top;\n",
       "    }\n",
       "\n",
       "    .dataframe thead th {\n",
       "        text-align: right;\n",
       "    }\n",
       "</style>\n",
       "<table border=\"1\" class=\"dataframe\">\n",
       "  <thead>\n",
       "    <tr style=\"text-align: right;\">\n",
       "      <th></th>\n",
       "      <th>Age</th>\n",
       "      <th>RoomService</th>\n",
       "      <th>FoodCourt</th>\n",
       "      <th>ShoppingMall</th>\n",
       "      <th>Spa</th>\n",
       "      <th>VRDeck</th>\n",
       "    </tr>\n",
       "  </thead>\n",
       "  <tbody>\n",
       "    <tr>\n",
       "      <th>count</th>\n",
       "      <td>5969.000000</td>\n",
       "      <td>5951.000000</td>\n",
       "      <td>5956.000000</td>\n",
       "      <td>5934.000000</td>\n",
       "      <td>5963.000000</td>\n",
       "      <td>5946.000000</td>\n",
       "    </tr>\n",
       "    <tr>\n",
       "      <th>mean</th>\n",
       "      <td>28.713855</td>\n",
       "      <td>230.827256</td>\n",
       "      <td>449.393385</td>\n",
       "      <td>175.186889</td>\n",
       "      <td>308.836156</td>\n",
       "      <td>306.518836</td>\n",
       "    </tr>\n",
       "    <tr>\n",
       "      <th>std</th>\n",
       "      <td>14.432282</td>\n",
       "      <td>690.737956</td>\n",
       "      <td>1582.575005</td>\n",
       "      <td>604.216444</td>\n",
       "      <td>1156.211949</td>\n",
       "      <td>1135.665240</td>\n",
       "    </tr>\n",
       "    <tr>\n",
       "      <th>min</th>\n",
       "      <td>0.000000</td>\n",
       "      <td>0.000000</td>\n",
       "      <td>0.000000</td>\n",
       "      <td>0.000000</td>\n",
       "      <td>0.000000</td>\n",
       "      <td>0.000000</td>\n",
       "    </tr>\n",
       "    <tr>\n",
       "      <th>25%</th>\n",
       "      <td>19.000000</td>\n",
       "      <td>0.000000</td>\n",
       "      <td>0.000000</td>\n",
       "      <td>0.000000</td>\n",
       "      <td>0.000000</td>\n",
       "      <td>0.000000</td>\n",
       "    </tr>\n",
       "    <tr>\n",
       "      <th>50%</th>\n",
       "      <td>27.000000</td>\n",
       "      <td>0.000000</td>\n",
       "      <td>0.000000</td>\n",
       "      <td>0.000000</td>\n",
       "      <td>0.000000</td>\n",
       "      <td>0.000000</td>\n",
       "    </tr>\n",
       "    <tr>\n",
       "      <th>75%</th>\n",
       "      <td>37.000000</td>\n",
       "      <td>52.000000</td>\n",
       "      <td>77.000000</td>\n",
       "      <td>30.000000</td>\n",
       "      <td>53.500000</td>\n",
       "      <td>44.000000</td>\n",
       "    </tr>\n",
       "    <tr>\n",
       "      <th>max</th>\n",
       "      <td>79.000000</td>\n",
       "      <td>14327.000000</td>\n",
       "      <td>29813.000000</td>\n",
       "      <td>23492.000000</td>\n",
       "      <td>22408.000000</td>\n",
       "      <td>17306.000000</td>\n",
       "    </tr>\n",
       "  </tbody>\n",
       "</table>\n",
       "</div>"
      ],
      "text/plain": [
       "               Age   RoomService     FoodCourt  ShoppingMall           Spa  \\\n",
       "count  5969.000000   5951.000000   5956.000000   5934.000000   5963.000000   \n",
       "mean     28.713855    230.827256    449.393385    175.186889    308.836156   \n",
       "std      14.432282    690.737956   1582.575005    604.216444   1156.211949   \n",
       "min       0.000000      0.000000      0.000000      0.000000      0.000000   \n",
       "25%      19.000000      0.000000      0.000000      0.000000      0.000000   \n",
       "50%      27.000000      0.000000      0.000000      0.000000      0.000000   \n",
       "75%      37.000000     52.000000     77.000000     30.000000     53.500000   \n",
       "max      79.000000  14327.000000  29813.000000  23492.000000  22408.000000   \n",
       "\n",
       "             VRDeck  \n",
       "count   5946.000000  \n",
       "mean     306.518836  \n",
       "std     1135.665240  \n",
       "min        0.000000  \n",
       "25%        0.000000  \n",
       "50%        0.000000  \n",
       "75%       44.000000  \n",
       "max    17306.000000  "
      ]
     },
     "execution_count": 9,
     "metadata": {},
     "output_type": "execute_result"
    }
   ],
   "source": [
    "data_train.describe()"
   ]
  },
  {
   "cell_type": "code",
   "execution_count": 18,
   "id": "11ce7f88",
   "metadata": {},
   "outputs": [],
   "source": [
    "x = data_train['PassengerId'].str.split('_',expand=True)[0].astype(int).unique()\n",
    "y = data_dev['PassengerId'].str.split('_',expand=True)[0].astype(int).unique()\n",
    "z = data_test['PassengerId'].str.split('_',expand=True)[0].astype(int).unique()"
   ]
  },
  {
   "cell_type": "code",
   "execution_count": 16,
   "id": "29653634",
   "metadata": {},
   "outputs": [
    {
     "data": {
      "text/plain": [
       "4668"
      ]
     },
     "execution_count": 16,
     "metadata": {},
     "output_type": "execute_result"
    }
   ],
   "source": [
    "len(x)"
   ]
  },
  {
   "cell_type": "code",
   "execution_count": 17,
   "id": "c138a2e0",
   "metadata": {},
   "outputs": [
    {
     "data": {
      "text/plain": [
       "2304"
      ]
     },
     "execution_count": 17,
     "metadata": {},
     "output_type": "execute_result"
    }
   ],
   "source": [
    "len(y)"
   ]
  },
  {
   "cell_type": "code",
   "execution_count": 20,
   "id": "4f9d24d4",
   "metadata": {},
   "outputs": [
    {
     "data": {
      "text/plain": [
       "3063"
      ]
     },
     "execution_count": 20,
     "metadata": {},
     "output_type": "execute_result"
    }
   ],
   "source": [
    "len(z)"
   ]
  },
  {
   "cell_type": "code",
   "execution_count": 26,
   "id": "8e687c7a",
   "metadata": {},
   "outputs": [
    {
     "data": {
      "text/plain": [
       "755"
      ]
     },
     "execution_count": 26,
     "metadata": {},
     "output_type": "execute_result"
    }
   ],
   "source": [
    "len(np.intersect1d(x,y))"
   ]
  },
  {
   "cell_type": "code",
   "execution_count": 27,
   "id": "2ac0c143",
   "metadata": {},
   "outputs": [
    {
     "data": {
      "text/plain": [
       "0"
      ]
     },
     "execution_count": 27,
     "metadata": {},
     "output_type": "execute_result"
    }
   ],
   "source": [
    "len(np.intersect1d(x,z))"
   ]
  },
  {
   "cell_type": "code",
   "execution_count": 30,
   "id": "704e43ba",
   "metadata": {},
   "outputs": [],
   "source": [
    "def extract_group(x):\n",
    "    return int(x.split(\"_\")[0])\n",
    "\n",
    "data['Group'] = data['PassengerId'].apply(extract_group)"
   ]
  },
  {
   "cell_type": "code",
   "execution_count": 37,
   "id": "60941175",
   "metadata": {},
   "outputs": [],
   "source": [
    "x = data[['PassengerId','Group']].groupby('Group').nunique().rename({'PassengerId':\"GroupSize\"},axis=1).reset_index()\n",
    "data = pd.merge(left=data, right=x, how='left', on='Group')"
   ]
  },
  {
   "cell_type": "code",
   "execution_count": 40,
   "id": "ef68e82a",
   "metadata": {},
   "outputs": [],
   "source": [
    "data_test['Group'] = data_test['PassengerId'].apply(extract_group)\n",
    "x = data_test[['PassengerId','Group']].groupby('Group').nunique().rename({'PassengerId':\"GroupSize\"},axis=1).reset_index()\n",
    "data_test = pd.merge(left=data_test, right=x, how='left', on='Group')"
   ]
  },
  {
   "cell_type": "code",
   "execution_count": 63,
   "id": "5d5d5909",
   "metadata": {},
   "outputs": [
    {
     "data": {
      "text/html": [
       "<div>\n",
       "<style scoped>\n",
       "    .dataframe tbody tr th:only-of-type {\n",
       "        vertical-align: middle;\n",
       "    }\n",
       "\n",
       "    .dataframe tbody tr th {\n",
       "        vertical-align: top;\n",
       "    }\n",
       "\n",
       "    .dataframe thead th {\n",
       "        text-align: right;\n",
       "    }\n",
       "</style>\n",
       "<table border=\"1\" class=\"dataframe\">\n",
       "  <thead>\n",
       "    <tr style=\"text-align: right;\">\n",
       "      <th></th>\n",
       "      <th>PassengerId</th>\n",
       "      <th>HomePlanet</th>\n",
       "      <th>CryoSleep</th>\n",
       "      <th>Cabin</th>\n",
       "      <th>Destination</th>\n",
       "      <th>Age</th>\n",
       "      <th>VIP</th>\n",
       "      <th>RoomService</th>\n",
       "      <th>FoodCourt</th>\n",
       "      <th>ShoppingMall</th>\n",
       "      <th>Spa</th>\n",
       "      <th>VRDeck</th>\n",
       "      <th>Name</th>\n",
       "      <th>Group</th>\n",
       "      <th>GroupSize</th>\n",
       "    </tr>\n",
       "  </thead>\n",
       "  <tbody>\n",
       "    <tr>\n",
       "      <th>0</th>\n",
       "      <td>0013_01</td>\n",
       "      <td>Earth</td>\n",
       "      <td>True</td>\n",
       "      <td>G/3/S</td>\n",
       "      <td>TRAPPIST-1e</td>\n",
       "      <td>27.0</td>\n",
       "      <td>False</td>\n",
       "      <td>0.0</td>\n",
       "      <td>0.0</td>\n",
       "      <td>0.0</td>\n",
       "      <td>0.0</td>\n",
       "      <td>0.0</td>\n",
       "      <td>Nelly Carsoning</td>\n",
       "      <td>13</td>\n",
       "      <td>1</td>\n",
       "    </tr>\n",
       "    <tr>\n",
       "      <th>1</th>\n",
       "      <td>0018_01</td>\n",
       "      <td>Earth</td>\n",
       "      <td>False</td>\n",
       "      <td>F/4/S</td>\n",
       "      <td>TRAPPIST-1e</td>\n",
       "      <td>19.0</td>\n",
       "      <td>False</td>\n",
       "      <td>0.0</td>\n",
       "      <td>9.0</td>\n",
       "      <td>0.0</td>\n",
       "      <td>2823.0</td>\n",
       "      <td>0.0</td>\n",
       "      <td>Lerome Peckers</td>\n",
       "      <td>18</td>\n",
       "      <td>1</td>\n",
       "    </tr>\n",
       "    <tr>\n",
       "      <th>2</th>\n",
       "      <td>0019_01</td>\n",
       "      <td>Europa</td>\n",
       "      <td>True</td>\n",
       "      <td>C/0/S</td>\n",
       "      <td>55 Cancri e</td>\n",
       "      <td>31.0</td>\n",
       "      <td>False</td>\n",
       "      <td>0.0</td>\n",
       "      <td>0.0</td>\n",
       "      <td>0.0</td>\n",
       "      <td>0.0</td>\n",
       "      <td>0.0</td>\n",
       "      <td>Sabih Unhearfus</td>\n",
       "      <td>19</td>\n",
       "      <td>1</td>\n",
       "    </tr>\n",
       "    <tr>\n",
       "      <th>3</th>\n",
       "      <td>0021_01</td>\n",
       "      <td>Europa</td>\n",
       "      <td>False</td>\n",
       "      <td>C/1/S</td>\n",
       "      <td>TRAPPIST-1e</td>\n",
       "      <td>38.0</td>\n",
       "      <td>False</td>\n",
       "      <td>0.0</td>\n",
       "      <td>6652.0</td>\n",
       "      <td>0.0</td>\n",
       "      <td>181.0</td>\n",
       "      <td>585.0</td>\n",
       "      <td>Meratz Caltilter</td>\n",
       "      <td>21</td>\n",
       "      <td>1</td>\n",
       "    </tr>\n",
       "    <tr>\n",
       "      <th>4</th>\n",
       "      <td>0023_01</td>\n",
       "      <td>Earth</td>\n",
       "      <td>False</td>\n",
       "      <td>F/5/S</td>\n",
       "      <td>TRAPPIST-1e</td>\n",
       "      <td>20.0</td>\n",
       "      <td>False</td>\n",
       "      <td>10.0</td>\n",
       "      <td>0.0</td>\n",
       "      <td>635.0</td>\n",
       "      <td>0.0</td>\n",
       "      <td>0.0</td>\n",
       "      <td>Brence Harperez</td>\n",
       "      <td>23</td>\n",
       "      <td>1</td>\n",
       "    </tr>\n",
       "    <tr>\n",
       "      <th>...</th>\n",
       "      <td>...</td>\n",
       "      <td>...</td>\n",
       "      <td>...</td>\n",
       "      <td>...</td>\n",
       "      <td>...</td>\n",
       "      <td>...</td>\n",
       "      <td>...</td>\n",
       "      <td>...</td>\n",
       "      <td>...</td>\n",
       "      <td>...</td>\n",
       "      <td>...</td>\n",
       "      <td>...</td>\n",
       "      <td>...</td>\n",
       "      <td>...</td>\n",
       "      <td>...</td>\n",
       "    </tr>\n",
       "    <tr>\n",
       "      <th>4272</th>\n",
       "      <td>9266_02</td>\n",
       "      <td>Earth</td>\n",
       "      <td>True</td>\n",
       "      <td>G/1496/S</td>\n",
       "      <td>TRAPPIST-1e</td>\n",
       "      <td>34.0</td>\n",
       "      <td>False</td>\n",
       "      <td>0.0</td>\n",
       "      <td>0.0</td>\n",
       "      <td>0.0</td>\n",
       "      <td>0.0</td>\n",
       "      <td>0.0</td>\n",
       "      <td>Jeron Peter</td>\n",
       "      <td>9266</td>\n",
       "      <td>2</td>\n",
       "    </tr>\n",
       "    <tr>\n",
       "      <th>4273</th>\n",
       "      <td>9269_01</td>\n",
       "      <td>Earth</td>\n",
       "      <td>False</td>\n",
       "      <td>NaN</td>\n",
       "      <td>TRAPPIST-1e</td>\n",
       "      <td>42.0</td>\n",
       "      <td>False</td>\n",
       "      <td>0.0</td>\n",
       "      <td>847.0</td>\n",
       "      <td>17.0</td>\n",
       "      <td>10.0</td>\n",
       "      <td>144.0</td>\n",
       "      <td>Matty Scheron</td>\n",
       "      <td>9269</td>\n",
       "      <td>1</td>\n",
       "    </tr>\n",
       "    <tr>\n",
       "      <th>4274</th>\n",
       "      <td>9271_01</td>\n",
       "      <td>Mars</td>\n",
       "      <td>True</td>\n",
       "      <td>D/296/P</td>\n",
       "      <td>55 Cancri e</td>\n",
       "      <td>NaN</td>\n",
       "      <td>False</td>\n",
       "      <td>0.0</td>\n",
       "      <td>0.0</td>\n",
       "      <td>0.0</td>\n",
       "      <td>0.0</td>\n",
       "      <td>0.0</td>\n",
       "      <td>Jayrin Pore</td>\n",
       "      <td>9271</td>\n",
       "      <td>1</td>\n",
       "    </tr>\n",
       "    <tr>\n",
       "      <th>4275</th>\n",
       "      <td>9273_01</td>\n",
       "      <td>Europa</td>\n",
       "      <td>False</td>\n",
       "      <td>D/297/P</td>\n",
       "      <td>NaN</td>\n",
       "      <td>NaN</td>\n",
       "      <td>False</td>\n",
       "      <td>0.0</td>\n",
       "      <td>2680.0</td>\n",
       "      <td>0.0</td>\n",
       "      <td>0.0</td>\n",
       "      <td>523.0</td>\n",
       "      <td>Kitakan Conale</td>\n",
       "      <td>9273</td>\n",
       "      <td>1</td>\n",
       "    </tr>\n",
       "    <tr>\n",
       "      <th>4276</th>\n",
       "      <td>9277_01</td>\n",
       "      <td>Earth</td>\n",
       "      <td>True</td>\n",
       "      <td>G/1498/S</td>\n",
       "      <td>PSO J318.5-22</td>\n",
       "      <td>43.0</td>\n",
       "      <td>False</td>\n",
       "      <td>0.0</td>\n",
       "      <td>0.0</td>\n",
       "      <td>0.0</td>\n",
       "      <td>0.0</td>\n",
       "      <td>0.0</td>\n",
       "      <td>Lilace Leonzaley</td>\n",
       "      <td>9277</td>\n",
       "      <td>1</td>\n",
       "    </tr>\n",
       "  </tbody>\n",
       "</table>\n",
       "<p>4277 rows × 15 columns</p>\n",
       "</div>"
      ],
      "text/plain": [
       "     PassengerId HomePlanet CryoSleep     Cabin    Destination   Age    VIP  \\\n",
       "0        0013_01      Earth      True     G/3/S    TRAPPIST-1e  27.0  False   \n",
       "1        0018_01      Earth     False     F/4/S    TRAPPIST-1e  19.0  False   \n",
       "2        0019_01     Europa      True     C/0/S    55 Cancri e  31.0  False   \n",
       "3        0021_01     Europa     False     C/1/S    TRAPPIST-1e  38.0  False   \n",
       "4        0023_01      Earth     False     F/5/S    TRAPPIST-1e  20.0  False   \n",
       "...          ...        ...       ...       ...            ...   ...    ...   \n",
       "4272     9266_02      Earth      True  G/1496/S    TRAPPIST-1e  34.0  False   \n",
       "4273     9269_01      Earth     False       NaN    TRAPPIST-1e  42.0  False   \n",
       "4274     9271_01       Mars      True   D/296/P    55 Cancri e   NaN  False   \n",
       "4275     9273_01     Europa     False   D/297/P            NaN   NaN  False   \n",
       "4276     9277_01      Earth      True  G/1498/S  PSO J318.5-22  43.0  False   \n",
       "\n",
       "      RoomService  FoodCourt  ShoppingMall     Spa  VRDeck              Name  \\\n",
       "0             0.0        0.0           0.0     0.0     0.0   Nelly Carsoning   \n",
       "1             0.0        9.0           0.0  2823.0     0.0    Lerome Peckers   \n",
       "2             0.0        0.0           0.0     0.0     0.0   Sabih Unhearfus   \n",
       "3             0.0     6652.0           0.0   181.0   585.0  Meratz Caltilter   \n",
       "4            10.0        0.0         635.0     0.0     0.0   Brence Harperez   \n",
       "...           ...        ...           ...     ...     ...               ...   \n",
       "4272          0.0        0.0           0.0     0.0     0.0       Jeron Peter   \n",
       "4273          0.0      847.0          17.0    10.0   144.0     Matty Scheron   \n",
       "4274          0.0        0.0           0.0     0.0     0.0       Jayrin Pore   \n",
       "4275          0.0     2680.0           0.0     0.0   523.0    Kitakan Conale   \n",
       "4276          0.0        0.0           0.0     0.0     0.0  Lilace Leonzaley   \n",
       "\n",
       "      Group  GroupSize  \n",
       "0        13          1  \n",
       "1        18          1  \n",
       "2        19          1  \n",
       "3        21          1  \n",
       "4        23          1  \n",
       "...     ...        ...  \n",
       "4272   9266          2  \n",
       "4273   9269          1  \n",
       "4274   9271          1  \n",
       "4275   9273          1  \n",
       "4276   9277          1  \n",
       "\n",
       "[4277 rows x 15 columns]"
      ]
     },
     "execution_count": 63,
     "metadata": {},
     "output_type": "execute_result"
    }
   ],
   "source": [
    "data_test"
   ]
  },
  {
   "cell_type": "code",
   "execution_count": 42,
   "id": "ed887ecf",
   "metadata": {},
   "outputs": [],
   "source": [
    "data_train, data_dev = train_test_split(data, test_size=0.3, random_state=100)"
   ]
  },
  {
   "cell_type": "code",
   "execution_count": 43,
   "id": "1e338148",
   "metadata": {},
   "outputs": [
    {
     "data": {
      "text/html": [
       "<div>\n",
       "<style scoped>\n",
       "    .dataframe tbody tr th:only-of-type {\n",
       "        vertical-align: middle;\n",
       "    }\n",
       "\n",
       "    .dataframe tbody tr th {\n",
       "        vertical-align: top;\n",
       "    }\n",
       "\n",
       "    .dataframe thead th {\n",
       "        text-align: right;\n",
       "    }\n",
       "</style>\n",
       "<table border=\"1\" class=\"dataframe\">\n",
       "  <thead>\n",
       "    <tr style=\"text-align: right;\">\n",
       "      <th></th>\n",
       "      <th>PassengerId</th>\n",
       "      <th>HomePlanet</th>\n",
       "      <th>CryoSleep</th>\n",
       "      <th>Cabin</th>\n",
       "      <th>Destination</th>\n",
       "      <th>Age</th>\n",
       "      <th>VIP</th>\n",
       "      <th>RoomService</th>\n",
       "      <th>FoodCourt</th>\n",
       "      <th>ShoppingMall</th>\n",
       "      <th>Spa</th>\n",
       "      <th>VRDeck</th>\n",
       "      <th>Name</th>\n",
       "      <th>Transported</th>\n",
       "      <th>Group</th>\n",
       "      <th>GroupSize</th>\n",
       "    </tr>\n",
       "  </thead>\n",
       "  <tbody>\n",
       "    <tr>\n",
       "      <th>4825</th>\n",
       "      <td>5145_01</td>\n",
       "      <td>Earth</td>\n",
       "      <td>True</td>\n",
       "      <td>G/841/S</td>\n",
       "      <td>TRAPPIST-1e</td>\n",
       "      <td>18.0</td>\n",
       "      <td>False</td>\n",
       "      <td>0.0</td>\n",
       "      <td>0.0</td>\n",
       "      <td>0.0</td>\n",
       "      <td>0.0</td>\n",
       "      <td>0.0</td>\n",
       "      <td>Shaele Mathison</td>\n",
       "      <td>True</td>\n",
       "      <td>5145</td>\n",
       "      <td>1</td>\n",
       "    </tr>\n",
       "    <tr>\n",
       "      <th>6702</th>\n",
       "      <td>7073_01</td>\n",
       "      <td>Earth</td>\n",
       "      <td>True</td>\n",
       "      <td>G/1161/S</td>\n",
       "      <td>TRAPPIST-1e</td>\n",
       "      <td>40.0</td>\n",
       "      <td>False</td>\n",
       "      <td>0.0</td>\n",
       "      <td>0.0</td>\n",
       "      <td>0.0</td>\n",
       "      <td>0.0</td>\n",
       "      <td>NaN</td>\n",
       "      <td>Glena Hahnstonsen</td>\n",
       "      <td>True</td>\n",
       "      <td>7073</td>\n",
       "      <td>1</td>\n",
       "    </tr>\n",
       "    <tr>\n",
       "      <th>2093</th>\n",
       "      <td>2238_01</td>\n",
       "      <td>Europa</td>\n",
       "      <td>True</td>\n",
       "      <td>A/28/S</td>\n",
       "      <td>55 Cancri e</td>\n",
       "      <td>25.0</td>\n",
       "      <td>False</td>\n",
       "      <td>0.0</td>\n",
       "      <td>0.0</td>\n",
       "      <td>0.0</td>\n",
       "      <td>0.0</td>\n",
       "      <td>0.0</td>\n",
       "      <td>Wasalm Droning</td>\n",
       "      <td>True</td>\n",
       "      <td>2238</td>\n",
       "      <td>1</td>\n",
       "    </tr>\n",
       "    <tr>\n",
       "      <th>3207</th>\n",
       "      <td>3450_02</td>\n",
       "      <td>Europa</td>\n",
       "      <td>False</td>\n",
       "      <td>B/132/S</td>\n",
       "      <td>TRAPPIST-1e</td>\n",
       "      <td>21.0</td>\n",
       "      <td>False</td>\n",
       "      <td>0.0</td>\n",
       "      <td>2834.0</td>\n",
       "      <td>0.0</td>\n",
       "      <td>414.0</td>\n",
       "      <td>558.0</td>\n",
       "      <td>Weion Knocke</td>\n",
       "      <td>True</td>\n",
       "      <td>3450</td>\n",
       "      <td>2</td>\n",
       "    </tr>\n",
       "    <tr>\n",
       "      <th>175</th>\n",
       "      <td>0198_01</td>\n",
       "      <td>Earth</td>\n",
       "      <td>NaN</td>\n",
       "      <td>G/30/P</td>\n",
       "      <td>PSO J318.5-22</td>\n",
       "      <td>52.0</td>\n",
       "      <td>False</td>\n",
       "      <td>0.0</td>\n",
       "      <td>0.0</td>\n",
       "      <td>0.0</td>\n",
       "      <td>0.0</td>\n",
       "      <td>0.0</td>\n",
       "      <td>Jeroy Cookson</td>\n",
       "      <td>True</td>\n",
       "      <td>198</td>\n",
       "      <td>1</td>\n",
       "    </tr>\n",
       "    <tr>\n",
       "      <th>...</th>\n",
       "      <td>...</td>\n",
       "      <td>...</td>\n",
       "      <td>...</td>\n",
       "      <td>...</td>\n",
       "      <td>...</td>\n",
       "      <td>...</td>\n",
       "      <td>...</td>\n",
       "      <td>...</td>\n",
       "      <td>...</td>\n",
       "      <td>...</td>\n",
       "      <td>...</td>\n",
       "      <td>...</td>\n",
       "      <td>...</td>\n",
       "      <td>...</td>\n",
       "      <td>...</td>\n",
       "      <td>...</td>\n",
       "    </tr>\n",
       "    <tr>\n",
       "      <th>350</th>\n",
       "      <td>0384_01</td>\n",
       "      <td>Earth</td>\n",
       "      <td>False</td>\n",
       "      <td>G/56/S</td>\n",
       "      <td>55 Cancri e</td>\n",
       "      <td>0.0</td>\n",
       "      <td>False</td>\n",
       "      <td>0.0</td>\n",
       "      <td>0.0</td>\n",
       "      <td>0.0</td>\n",
       "      <td>0.0</td>\n",
       "      <td>0.0</td>\n",
       "      <td>Cliney Simpsonks</td>\n",
       "      <td>True</td>\n",
       "      <td>384</td>\n",
       "      <td>2</td>\n",
       "    </tr>\n",
       "    <tr>\n",
       "      <th>79</th>\n",
       "      <td>0085_01</td>\n",
       "      <td>Europa</td>\n",
       "      <td>True</td>\n",
       "      <td>C/5/S</td>\n",
       "      <td>TRAPPIST-1e</td>\n",
       "      <td>40.0</td>\n",
       "      <td>False</td>\n",
       "      <td>0.0</td>\n",
       "      <td>0.0</td>\n",
       "      <td>0.0</td>\n",
       "      <td>0.0</td>\n",
       "      <td>0.0</td>\n",
       "      <td>Furudah Ellcefulve</td>\n",
       "      <td>True</td>\n",
       "      <td>85</td>\n",
       "      <td>1</td>\n",
       "    </tr>\n",
       "    <tr>\n",
       "      <th>8039</th>\n",
       "      <td>8603_01</td>\n",
       "      <td>Earth</td>\n",
       "      <td>True</td>\n",
       "      <td>NaN</td>\n",
       "      <td>PSO J318.5-22</td>\n",
       "      <td>18.0</td>\n",
       "      <td>False</td>\n",
       "      <td>0.0</td>\n",
       "      <td>0.0</td>\n",
       "      <td>0.0</td>\n",
       "      <td>0.0</td>\n",
       "      <td>0.0</td>\n",
       "      <td>Hilip Klinson</td>\n",
       "      <td>False</td>\n",
       "      <td>8603</td>\n",
       "      <td>1</td>\n",
       "    </tr>\n",
       "    <tr>\n",
       "      <th>6936</th>\n",
       "      <td>7358_01</td>\n",
       "      <td>Earth</td>\n",
       "      <td>False</td>\n",
       "      <td>F/1522/P</td>\n",
       "      <td>55 Cancri e</td>\n",
       "      <td>23.0</td>\n",
       "      <td>False</td>\n",
       "      <td>3.0</td>\n",
       "      <td>0.0</td>\n",
       "      <td>2.0</td>\n",
       "      <td>61.0</td>\n",
       "      <td>634.0</td>\n",
       "      <td>Len Mirez</td>\n",
       "      <td>False</td>\n",
       "      <td>7358</td>\n",
       "      <td>1</td>\n",
       "    </tr>\n",
       "    <tr>\n",
       "      <th>5640</th>\n",
       "      <td>5995_01</td>\n",
       "      <td>Earth</td>\n",
       "      <td>True</td>\n",
       "      <td>G/967/P</td>\n",
       "      <td>PSO J318.5-22</td>\n",
       "      <td>33.0</td>\n",
       "      <td>False</td>\n",
       "      <td>0.0</td>\n",
       "      <td>0.0</td>\n",
       "      <td>0.0</td>\n",
       "      <td>0.0</td>\n",
       "      <td>0.0</td>\n",
       "      <td>Raque Burtiz</td>\n",
       "      <td>True</td>\n",
       "      <td>5995</td>\n",
       "      <td>1</td>\n",
       "    </tr>\n",
       "  </tbody>\n",
       "</table>\n",
       "<p>6085 rows × 16 columns</p>\n",
       "</div>"
      ],
      "text/plain": [
       "     PassengerId HomePlanet CryoSleep     Cabin    Destination   Age    VIP  \\\n",
       "4825     5145_01      Earth      True   G/841/S    TRAPPIST-1e  18.0  False   \n",
       "6702     7073_01      Earth      True  G/1161/S    TRAPPIST-1e  40.0  False   \n",
       "2093     2238_01     Europa      True    A/28/S    55 Cancri e  25.0  False   \n",
       "3207     3450_02     Europa     False   B/132/S    TRAPPIST-1e  21.0  False   \n",
       "175      0198_01      Earth       NaN    G/30/P  PSO J318.5-22  52.0  False   \n",
       "...          ...        ...       ...       ...            ...   ...    ...   \n",
       "350      0384_01      Earth     False    G/56/S    55 Cancri e   0.0  False   \n",
       "79       0085_01     Europa      True     C/5/S    TRAPPIST-1e  40.0  False   \n",
       "8039     8603_01      Earth      True       NaN  PSO J318.5-22  18.0  False   \n",
       "6936     7358_01      Earth     False  F/1522/P    55 Cancri e  23.0  False   \n",
       "5640     5995_01      Earth      True   G/967/P  PSO J318.5-22  33.0  False   \n",
       "\n",
       "      RoomService  FoodCourt  ShoppingMall    Spa  VRDeck                Name  \\\n",
       "4825          0.0        0.0           0.0    0.0     0.0     Shaele Mathison   \n",
       "6702          0.0        0.0           0.0    0.0     NaN   Glena Hahnstonsen   \n",
       "2093          0.0        0.0           0.0    0.0     0.0      Wasalm Droning   \n",
       "3207          0.0     2834.0           0.0  414.0   558.0        Weion Knocke   \n",
       "175           0.0        0.0           0.0    0.0     0.0       Jeroy Cookson   \n",
       "...           ...        ...           ...    ...     ...                 ...   \n",
       "350           0.0        0.0           0.0    0.0     0.0    Cliney Simpsonks   \n",
       "79            0.0        0.0           0.0    0.0     0.0  Furudah Ellcefulve   \n",
       "8039          0.0        0.0           0.0    0.0     0.0       Hilip Klinson   \n",
       "6936          3.0        0.0           2.0   61.0   634.0           Len Mirez   \n",
       "5640          0.0        0.0           0.0    0.0     0.0        Raque Burtiz   \n",
       "\n",
       "      Transported  Group  GroupSize  \n",
       "4825         True   5145          1  \n",
       "6702         True   7073          1  \n",
       "2093         True   2238          1  \n",
       "3207         True   3450          2  \n",
       "175          True    198          1  \n",
       "...           ...    ...        ...  \n",
       "350          True    384          2  \n",
       "79           True     85          1  \n",
       "8039        False   8603          1  \n",
       "6936        False   7358          1  \n",
       "5640         True   5995          1  \n",
       "\n",
       "[6085 rows x 16 columns]"
      ]
     },
     "execution_count": 43,
     "metadata": {},
     "output_type": "execute_result"
    }
   ],
   "source": [
    "data_train"
   ]
  },
  {
   "cell_type": "code",
   "execution_count": 45,
   "id": "29a55a07",
   "metadata": {},
   "outputs": [
    {
     "data": {
      "text/plain": [
       "<Axes: xlabel='HomePlanet', ylabel='Transported'>"
      ]
     },
     "execution_count": 45,
     "metadata": {},
     "output_type": "execute_result"
    },
    {
     "data": {
      "image/png": "[encoded data removed]",
      "text/plain": [
       "<Figure size 640x480 with 1 Axes>"
      ]
     },
     "metadata": {},
     "output_type": "display_data"
    }
   ],
   "source": [
    "sns.barplot(data=data_train, x='HomePlanet', y='Transported')"
   ]
  },
  {
   "cell_type": "code",
   "execution_count": 46,
   "id": "f500e7f0",
   "metadata": {},
   "outputs": [
    {
     "data": {
      "text/plain": [
       "<Axes: xlabel='CryoSleep', ylabel='Transported'>"
      ]
     },
     "execution_count": 46,
     "metadata": {},
     "output_type": "execute_result"
    },
    {
     "data": {
      "image/png": "[encoded data removed]",
      "text/plain": [
       "<Figure size 640x480 with 1 Axes>"
      ]
     },
     "metadata": {},
     "output_type": "display_data"
    }
   ],
   "source": [
    "sns.barplot(data=data_train, x='CryoSleep', y='Transported')"
   ]
  },
  {
   "cell_type": "code",
   "execution_count": 47,
   "id": "b22b0dd7",
   "metadata": {},
   "outputs": [
    {
     "data": {
      "text/plain": [
       "<Axes: xlabel='Destination', ylabel='Transported'>"
      ]
     },
     "execution_count": 47,
     "metadata": {},
     "output_type": "execute_result"
    },
    {
     "data": {
      "image/png": "[encoded data removed]",
      "text/plain": [
       "<Figure size 640x480 with 1 Axes>"
      ]
     },
     "metadata": {},
     "output_type": "display_data"
    }
   ],
   "source": [
    "sns.barplot(data=data_train, x='Destination', y='Transported')"
   ]
  },
  {
   "cell_type": "code",
   "execution_count": 48,
   "id": "76c6f6eb",
   "metadata": {},
   "outputs": [],
   "source": [
    "import scipy.stats\n",
    "\n",
    "def check_dependent(data_input,category1,category2):\n",
    "    a = pd.crosstab(data_input[category1], data_input[category2]).values\n",
    "    p = scipy.stats.chi2_contingency(a).pvalue\n",
    "    \n",
    "    if p > .05:\n",
    "        print('Probably Indipendent')\n",
    "    else:\n",
    "        print('Probably Dependent')"
   ]
  },
  {
   "cell_type": "code",
   "execution_count": 49,
   "id": "1c05a70c",
   "metadata": {},
   "outputs": [
    {
     "name": "stdout",
     "output_type": "stream",
     "text": [
      "Probably Dependent\n"
     ]
    }
   ],
   "source": [
    "check_dependent(data_train, \"CryoSleep\", \"Transported\")"
   ]
  },
  {
   "cell_type": "code",
   "execution_count": 50,
   "id": "eeaff935",
   "metadata": {},
   "outputs": [
    {
     "name": "stdout",
     "output_type": "stream",
     "text": [
      "Probably Dependent\n"
     ]
    }
   ],
   "source": [
    "check_dependent(data_train, \"HomePlanet\", \"Transported\")"
   ]
  },
  {
   "cell_type": "code",
   "execution_count": 51,
   "id": "363a2d84",
   "metadata": {},
   "outputs": [
    {
     "name": "stdout",
     "output_type": "stream",
     "text": [
      "Probably Dependent\n"
     ]
    }
   ],
   "source": [
    "check_dependent(data_train, \"Destination\", \"Transported\")"
   ]
  },
  {
   "cell_type": "code",
   "execution_count": 52,
   "id": "a7b6cb0f",
   "metadata": {},
   "outputs": [
    {
     "data": {
      "text/plain": [
       "<Axes: xlabel='VIP', ylabel='Transported'>"
      ]
     },
     "execution_count": 52,
     "metadata": {},
     "output_type": "execute_result"
    },
    {
     "data": {
      "image/png": "[encoded data removed]",
      "text/plain": [
       "<Figure size 640x480 with 1 Axes>"
      ]
     },
     "metadata": {},
     "output_type": "display_data"
    }
   ],
   "source": [
    "sns.barplot(data=data_train, x='VIP', y='Transported')"
   ]
  },
  {
   "cell_type": "code",
   "execution_count": 53,
   "id": "8226b223",
   "metadata": {},
   "outputs": [
    {
     "name": "stdout",
     "output_type": "stream",
     "text": [
      "Probably Dependent\n"
     ]
    }
   ],
   "source": [
    "check_dependent(data_train, \"VIP\", \"Transported\")"
   ]
  },
  {
   "cell_type": "code",
   "execution_count": 57,
   "id": "2b16f1a1",
   "metadata": {},
   "outputs": [],
   "source": [
    "def extract_deck(x):\n",
    "    try:\n",
    "        return x.split('/')[0]\n",
    "    except:\n",
    "        return np.nan\n",
    "\n",
    "def extract_side(x):\n",
    "    try:\n",
    "        return x.split('/')[2]\n",
    "    except:\n",
    "        return np.nan"
   ]
  },
  {
   "cell_type": "code",
   "execution_count": 60,
   "id": "a896e23a",
   "metadata": {},
   "outputs": [],
   "source": [
    "data_train['Deck'] = data_train['Cabin'].apply(extract_deck)\n",
    "data_train['Side'] = data_train['Cabin'].apply(extract_side)"
   ]
  },
  {
   "cell_type": "code",
   "execution_count": 62,
   "id": "0bb94e21",
   "metadata": {},
   "outputs": [],
   "source": [
    "data_dev['Deck'] = data_dev['Cabin'].apply(extract_deck)\n",
    "data_dev['Side'] = data_dev['Cabin'].apply(extract_side)"
   ]
  },
  {
   "cell_type": "code",
   "execution_count": 65,
   "id": "bf0cb1a0",
   "metadata": {},
   "outputs": [],
   "source": [
    "data_test['Deck'] = data_test['Cabin'].apply(extract_deck)\n",
    "data_test['Side'] = data_test['Cabin'].apply(extract_side)"
   ]
  },
  {
   "cell_type": "code",
   "execution_count": 66,
   "id": "b6fbd28b",
   "metadata": {},
   "outputs": [
    {
     "data": {
      "text/plain": [
       "<Axes: xlabel='Deck', ylabel='Transported'>"
      ]
     },
     "execution_count": 66,
     "metadata": {},
     "output_type": "execute_result"
    },
    {
     "data": {
      "image/png": "[encoded data removed]",
      "text/plain": [
       "<Figure size 640x480 with 1 Axes>"
      ]
     },
     "metadata": {},
     "output_type": "display_data"
    }
   ],
   "source": [
    "sns.barplot(data=data_train, x='Deck', y='Transported')"
   ]
  },
  {
   "cell_type": "code",
   "execution_count": 67,
   "id": "33fbcd54",
   "metadata": {},
   "outputs": [
    {
     "data": {
      "text/plain": [
       "F    1978\n",
       "G    1772\n",
       "E     609\n",
       "B     538\n",
       "C     533\n",
       "D     339\n",
       "A     176\n",
       "T       4\n",
       "Name: Deck, dtype: int64"
      ]
     },
     "execution_count": 67,
     "metadata": {},
     "output_type": "execute_result"
    }
   ],
   "source": [
    "data_train['Deck'].value_counts()"
   ]
  },
  {
   "cell_type": "code",
   "execution_count": 68,
   "id": "40bf91e3",
   "metadata": {},
   "outputs": [
    {
     "data": {
      "text/plain": [
       "F    816\n",
       "G    787\n",
       "E    267\n",
       "B    241\n",
       "C    214\n",
       "D    139\n",
       "A     80\n",
       "T      1\n",
       "Name: Deck, dtype: int64"
      ]
     },
     "execution_count": 68,
     "metadata": {},
     "output_type": "execute_result"
    }
   ],
   "source": [
    "data_dev['Deck'].value_counts()"
   ]
  },
  {
   "cell_type": "code",
   "execution_count": 69,
   "id": "10617510",
   "metadata": {},
   "outputs": [
    {
     "data": {
      "text/plain": [
       "F    1445\n",
       "G    1222\n",
       "E     447\n",
       "B     362\n",
       "C     355\n",
       "D     242\n",
       "A      98\n",
       "T       6\n",
       "Name: Deck, dtype: int64"
      ]
     },
     "execution_count": 69,
     "metadata": {},
     "output_type": "execute_result"
    }
   ],
   "source": [
    "data_test['Deck'].value_counts()"
   ]
  },
  {
   "cell_type": "code",
   "execution_count": 92,
   "id": "3153e4b1",
   "metadata": {},
   "outputs": [
    {
     "data": {
      "text/html": [
       "<div>\n",
       "<style scoped>\n",
       "    .dataframe tbody tr th:only-of-type {\n",
       "        vertical-align: middle;\n",
       "    }\n",
       "\n",
       "    .dataframe tbody tr th {\n",
       "        vertical-align: top;\n",
       "    }\n",
       "\n",
       "    .dataframe thead th {\n",
       "        text-align: right;\n",
       "    }\n",
       "</style>\n",
       "<table border=\"1\" class=\"dataframe\">\n",
       "  <thead>\n",
       "    <tr style=\"text-align: right;\">\n",
       "      <th></th>\n",
       "      <th>PassengerId</th>\n",
       "      <th>HomePlanet</th>\n",
       "      <th>CryoSleep</th>\n",
       "      <th>Cabin</th>\n",
       "      <th>Destination</th>\n",
       "      <th>Age</th>\n",
       "      <th>VIP</th>\n",
       "      <th>RoomService</th>\n",
       "      <th>FoodCourt</th>\n",
       "      <th>ShoppingMall</th>\n",
       "      <th>Spa</th>\n",
       "      <th>VRDeck</th>\n",
       "      <th>Name</th>\n",
       "      <th>Transported</th>\n",
       "      <th>Group</th>\n",
       "      <th>GroupSize</th>\n",
       "      <th>Deck</th>\n",
       "      <th>Side</th>\n",
       "      <th>Spending</th>\n",
       "    </tr>\n",
       "  </thead>\n",
       "  <tbody>\n",
       "    <tr>\n",
       "      <th>6626</th>\n",
       "      <td>6990_01</td>\n",
       "      <td>Earth</td>\n",
       "      <td>False</td>\n",
       "      <td>NaN</td>\n",
       "      <td>PSO J318.5-22</td>\n",
       "      <td>21.0</td>\n",
       "      <td>False</td>\n",
       "      <td>1.0</td>\n",
       "      <td>22.0</td>\n",
       "      <td>0.0</td>\n",
       "      <td>649.0</td>\n",
       "      <td>2.0</td>\n",
       "      <td>Lison Franton</td>\n",
       "      <td>False</td>\n",
       "      <td>6990</td>\n",
       "      <td>1</td>\n",
       "      <td>NaN</td>\n",
       "      <td>NaN</td>\n",
       "      <td>674.0</td>\n",
       "    </tr>\n",
       "    <tr>\n",
       "      <th>7244</th>\n",
       "      <td>7746_01</td>\n",
       "      <td>Europa</td>\n",
       "      <td>True</td>\n",
       "      <td>NaN</td>\n",
       "      <td>55 Cancri e</td>\n",
       "      <td>NaN</td>\n",
       "      <td>False</td>\n",
       "      <td>0.0</td>\n",
       "      <td>0.0</td>\n",
       "      <td>0.0</td>\n",
       "      <td>0.0</td>\n",
       "      <td>0.0</td>\n",
       "      <td>Antinon Patoetic</td>\n",
       "      <td>True</td>\n",
       "      <td>7746</td>\n",
       "      <td>1</td>\n",
       "      <td>NaN</td>\n",
       "      <td>NaN</td>\n",
       "      <td>0.0</td>\n",
       "    </tr>\n",
       "    <tr>\n",
       "      <th>2726</th>\n",
       "      <td>2926_01</td>\n",
       "      <td>Mars</td>\n",
       "      <td>False</td>\n",
       "      <td>NaN</td>\n",
       "      <td>TRAPPIST-1e</td>\n",
       "      <td>43.0</td>\n",
       "      <td>False</td>\n",
       "      <td>828.0</td>\n",
       "      <td>25.0</td>\n",
       "      <td>545.0</td>\n",
       "      <td>107.0</td>\n",
       "      <td>0.0</td>\n",
       "      <td>Kad Homin</td>\n",
       "      <td>False</td>\n",
       "      <td>2926</td>\n",
       "      <td>1</td>\n",
       "      <td>NaN</td>\n",
       "      <td>NaN</td>\n",
       "      <td>1505.0</td>\n",
       "    </tr>\n",
       "    <tr>\n",
       "      <th>1327</th>\n",
       "      <td>1404_02</td>\n",
       "      <td>Europa</td>\n",
       "      <td>False</td>\n",
       "      <td>NaN</td>\n",
       "      <td>TRAPPIST-1e</td>\n",
       "      <td>42.0</td>\n",
       "      <td>False</td>\n",
       "      <td>0.0</td>\n",
       "      <td>51.0</td>\n",
       "      <td>0.0</td>\n",
       "      <td>4170.0</td>\n",
       "      <td>13.0</td>\n",
       "      <td>Arkard Mornaned</td>\n",
       "      <td>False</td>\n",
       "      <td>1404</td>\n",
       "      <td>2</td>\n",
       "      <td>NaN</td>\n",
       "      <td>NaN</td>\n",
       "      <td>4234.0</td>\n",
       "    </tr>\n",
       "    <tr>\n",
       "      <th>4390</th>\n",
       "      <td>4662_03</td>\n",
       "      <td>Europa</td>\n",
       "      <td>False</td>\n",
       "      <td>NaN</td>\n",
       "      <td>TRAPPIST-1e</td>\n",
       "      <td>46.0</td>\n",
       "      <td>False</td>\n",
       "      <td>0.0</td>\n",
       "      <td>3856.0</td>\n",
       "      <td>0.0</td>\n",
       "      <td>1.0</td>\n",
       "      <td>312.0</td>\n",
       "      <td>Dyonium Ingwhed</td>\n",
       "      <td>True</td>\n",
       "      <td>4662</td>\n",
       "      <td>3</td>\n",
       "      <td>NaN</td>\n",
       "      <td>NaN</td>\n",
       "      <td>4169.0</td>\n",
       "    </tr>\n",
       "    <tr>\n",
       "      <th>...</th>\n",
       "      <td>...</td>\n",
       "      <td>...</td>\n",
       "      <td>...</td>\n",
       "      <td>...</td>\n",
       "      <td>...</td>\n",
       "      <td>...</td>\n",
       "      <td>...</td>\n",
       "      <td>...</td>\n",
       "      <td>...</td>\n",
       "      <td>...</td>\n",
       "      <td>...</td>\n",
       "      <td>...</td>\n",
       "      <td>...</td>\n",
       "      <td>...</td>\n",
       "      <td>...</td>\n",
       "      <td>...</td>\n",
       "      <td>...</td>\n",
       "      <td>...</td>\n",
       "      <td>...</td>\n",
       "    </tr>\n",
       "    <tr>\n",
       "      <th>870</th>\n",
       "      <td>0932_01</td>\n",
       "      <td>Mars</td>\n",
       "      <td>True</td>\n",
       "      <td>NaN</td>\n",
       "      <td>TRAPPIST-1e</td>\n",
       "      <td>29.0</td>\n",
       "      <td>False</td>\n",
       "      <td>0.0</td>\n",
       "      <td>0.0</td>\n",
       "      <td>0.0</td>\n",
       "      <td>0.0</td>\n",
       "      <td>0.0</td>\n",
       "      <td>Boats Pette</td>\n",
       "      <td>True</td>\n",
       "      <td>932</td>\n",
       "      <td>1</td>\n",
       "      <td>NaN</td>\n",
       "      <td>NaN</td>\n",
       "      <td>0.0</td>\n",
       "    </tr>\n",
       "    <tr>\n",
       "      <th>6282</th>\n",
       "      <td>6652_01</td>\n",
       "      <td>Earth</td>\n",
       "      <td>False</td>\n",
       "      <td>NaN</td>\n",
       "      <td>PSO J318.5-22</td>\n",
       "      <td>39.0</td>\n",
       "      <td>False</td>\n",
       "      <td>0.0</td>\n",
       "      <td>69.0</td>\n",
       "      <td>29.0</td>\n",
       "      <td>424.0</td>\n",
       "      <td>18.0</td>\n",
       "      <td>Amyra Hersons</td>\n",
       "      <td>False</td>\n",
       "      <td>6652</td>\n",
       "      <td>1</td>\n",
       "      <td>NaN</td>\n",
       "      <td>NaN</td>\n",
       "      <td>540.0</td>\n",
       "    </tr>\n",
       "    <tr>\n",
       "      <th>5939</th>\n",
       "      <td>6302_04</td>\n",
       "      <td>Earth</td>\n",
       "      <td>True</td>\n",
       "      <td>NaN</td>\n",
       "      <td>PSO J318.5-22</td>\n",
       "      <td>3.0</td>\n",
       "      <td>False</td>\n",
       "      <td>0.0</td>\n",
       "      <td>0.0</td>\n",
       "      <td>0.0</td>\n",
       "      <td>0.0</td>\n",
       "      <td>0.0</td>\n",
       "      <td>Debony Joycerton</td>\n",
       "      <td>True</td>\n",
       "      <td>6302</td>\n",
       "      <td>7</td>\n",
       "      <td>NaN</td>\n",
       "      <td>NaN</td>\n",
       "      <td>0.0</td>\n",
       "    </tr>\n",
       "    <tr>\n",
       "      <th>8209</th>\n",
       "      <td>8772_02</td>\n",
       "      <td>Europa</td>\n",
       "      <td>False</td>\n",
       "      <td>NaN</td>\n",
       "      <td>55 Cancri e</td>\n",
       "      <td>53.0</td>\n",
       "      <td>False</td>\n",
       "      <td>0.0</td>\n",
       "      <td>1127.0</td>\n",
       "      <td>0.0</td>\n",
       "      <td>3939.0</td>\n",
       "      <td>NaN</td>\n",
       "      <td>Naosura Motled</td>\n",
       "      <td>False</td>\n",
       "      <td>8772</td>\n",
       "      <td>2</td>\n",
       "      <td>NaN</td>\n",
       "      <td>NaN</td>\n",
       "      <td>5066.0</td>\n",
       "    </tr>\n",
       "    <tr>\n",
       "      <th>8039</th>\n",
       "      <td>8603_01</td>\n",
       "      <td>Earth</td>\n",
       "      <td>True</td>\n",
       "      <td>NaN</td>\n",
       "      <td>PSO J318.5-22</td>\n",
       "      <td>18.0</td>\n",
       "      <td>False</td>\n",
       "      <td>0.0</td>\n",
       "      <td>0.0</td>\n",
       "      <td>0.0</td>\n",
       "      <td>0.0</td>\n",
       "      <td>0.0</td>\n",
       "      <td>Hilip Klinson</td>\n",
       "      <td>False</td>\n",
       "      <td>8603</td>\n",
       "      <td>1</td>\n",
       "      <td>NaN</td>\n",
       "      <td>NaN</td>\n",
       "      <td>0.0</td>\n",
       "    </tr>\n",
       "  </tbody>\n",
       "</table>\n",
       "<p>136 rows × 19 columns</p>\n",
       "</div>"
      ],
      "text/plain": [
       "     PassengerId HomePlanet CryoSleep Cabin    Destination   Age    VIP  \\\n",
       "6626     6990_01      Earth     False   NaN  PSO J318.5-22  21.0  False   \n",
       "7244     7746_01     Europa      True   NaN    55 Cancri e   NaN  False   \n",
       "2726     2926_01       Mars     False   NaN    TRAPPIST-1e  43.0  False   \n",
       "1327     1404_02     Europa     False   NaN    TRAPPIST-1e  42.0  False   \n",
       "4390     4662_03     Europa     False   NaN    TRAPPIST-1e  46.0  False   \n",
       "...          ...        ...       ...   ...            ...   ...    ...   \n",
       "870      0932_01       Mars      True   NaN    TRAPPIST-1e  29.0  False   \n",
       "6282     6652_01      Earth     False   NaN  PSO J318.5-22  39.0  False   \n",
       "5939     6302_04      Earth      True   NaN  PSO J318.5-22   3.0  False   \n",
       "8209     8772_02     Europa     False   NaN    55 Cancri e  53.0  False   \n",
       "8039     8603_01      Earth      True   NaN  PSO J318.5-22  18.0  False   \n",
       "\n",
       "      RoomService  FoodCourt  ShoppingMall     Spa  VRDeck              Name  \\\n",
       "6626          1.0       22.0           0.0   649.0     2.0     Lison Franton   \n",
       "7244          0.0        0.0           0.0     0.0     0.0  Antinon Patoetic   \n",
       "2726        828.0       25.0         545.0   107.0     0.0         Kad Homin   \n",
       "1327          0.0       51.0           0.0  4170.0    13.0   Arkard Mornaned   \n",
       "4390          0.0     3856.0           0.0     1.0   312.0   Dyonium Ingwhed   \n",
       "...           ...        ...           ...     ...     ...               ...   \n",
       "870           0.0        0.0           0.0     0.0     0.0       Boats Pette   \n",
       "6282          0.0       69.0          29.0   424.0    18.0     Amyra Hersons   \n",
       "5939          0.0        0.0           0.0     0.0     0.0  Debony Joycerton   \n",
       "8209          0.0     1127.0           0.0  3939.0     NaN    Naosura Motled   \n",
       "8039          0.0        0.0           0.0     0.0     0.0     Hilip Klinson   \n",
       "\n",
       "      Transported  Group  GroupSize Deck Side  Spending  \n",
       "6626        False   6990          1  NaN  NaN     674.0  \n",
       "7244         True   7746          1  NaN  NaN       0.0  \n",
       "2726        False   2926          1  NaN  NaN    1505.0  \n",
       "1327        False   1404          2  NaN  NaN    4234.0  \n",
       "4390         True   4662          3  NaN  NaN    4169.0  \n",
       "...           ...    ...        ...  ...  ...       ...  \n",
       "870          True    932          1  NaN  NaN       0.0  \n",
       "6282        False   6652          1  NaN  NaN     540.0  \n",
       "5939         True   6302          7  NaN  NaN       0.0  \n",
       "8209        False   8772          2  NaN  NaN    5066.0  \n",
       "8039        False   8603          1  NaN  NaN       0.0  \n",
       "\n",
       "[136 rows x 19 columns]"
      ]
     },
     "execution_count": 92,
     "metadata": {},
     "output_type": "execute_result"
    }
   ],
   "source": [
    "data_train[data_train['Deck'].isna()]"
   ]
  },
  {
   "cell_type": "code",
   "execution_count": 95,
   "id": "2df0a392",
   "metadata": {},
   "outputs": [
    {
     "data": {
      "text/plain": [
       "S    3043\n",
       "P    2906\n",
       "Name: Side, dtype: int64"
      ]
     },
     "execution_count": 95,
     "metadata": {},
     "output_type": "execute_result"
    }
   ],
   "source": [
    "data_train['Side'].value_counts()"
   ]
  },
  {
   "cell_type": "code",
   "execution_count": 78,
   "id": "fdda1e93",
   "metadata": {},
   "outputs": [],
   "source": [
    "data_train['Spending'] = data_train[['RoomService', 'FoodCourt', 'ShoppingMall', 'Spa', 'VRDeck']].sum(axis=1)\n",
    "data_dev['Spending'] = data_dev[['RoomService', 'FoodCourt', 'ShoppingMall', 'Spa', 'VRDeck']].sum(axis=1)\n",
    "data_test['Spending'] = data_test[['RoomService', 'FoodCourt', 'ShoppingMall', 'Spa', 'VRDeck']].sum(axis=1)\n"
   ]
  },
  {
   "cell_type": "code",
   "execution_count": 85,
   "id": "8fbc1f28",
   "metadata": {},
   "outputs": [],
   "source": [
    "# data_train['logSpending'] = n\n",
    "data_train['logSpending'] = np.log(data_test['Spending'] + 1)"
   ]
  },
  {
   "cell_type": "code",
   "execution_count": 88,
   "id": "81f7e12a",
   "metadata": {},
   "outputs": [],
   "source": [
    "data_train.drop('logSpending', axis=1,inplace=True)"
   ]
  },
  {
   "cell_type": "code",
   "execution_count": 103,
   "id": "35684733",
   "metadata": {},
   "outputs": [
    {
     "data": {
      "text/plain": [
       "<seaborn.axisgrid.FacetGrid at 0x7fa468472bb0>"
      ]
     },
     "execution_count": 103,
     "metadata": {},
     "output_type": "execute_result"
    },
    {
     "data": {
      "image/png": "[encoded data removed]",
      "text/plain": [
       "<Figure size 593.986x500 with 1 Axes>"
      ]
     },
     "metadata": {},
     "output_type": "display_data"
    }
   ],
   "source": [
    "sns.displot(data=data_train, x='Spending', hue='Transported')"
   ]
  },
  {
   "cell_type": "code",
   "execution_count": 82,
   "id": "4227c6f7",
   "metadata": {},
   "outputs": [
    {
     "data": {
      "text/plain": [
       "<seaborn.axisgrid.FacetGrid at 0x7fa46856b5b0>"
      ]
     },
     "execution_count": 82,
     "metadata": {},
     "output_type": "execute_result"
    },
    {
     "data": {
      "image/png": "[encoded data removed]",
      "text/plain": [
       "<Figure size 593.986x500 with 1 Axes>"
      ]
     },
     "metadata": {},
     "output_type": "display_data"
    }
   ],
   "source": [
    "sns.displot(data=data_train, x='Age', hue='Transported')"
   ]
  },
  {
   "cell_type": "code",
   "execution_count": 96,
   "id": "3c3b089e",
   "metadata": {},
   "outputs": [],
   "source": [
    "def impute_deck(x):\n",
    "    if x == 'T':\n",
    "        return 'Others'\n",
    "    elif x is np.nan:\n",
    "        return 'Others'\n",
    "    else:\n",
    "        return x"
   ]
  },
  {
   "cell_type": "code",
   "execution_count": 100,
   "id": "e2d04f77",
   "metadata": {},
   "outputs": [],
   "source": [
    "data_train['Deck'] = data_train['Deck'].apply(impute_deck)\n",
    "data_dev['Deck'] = data_dev['Deck'].apply(impute_deck)\n",
    "data_test['Deck'] = data_test['Deck'].apply(impute_deck)"
   ]
  },
  {
   "cell_type": "code",
   "execution_count": 102,
   "id": "be77c8ab",
   "metadata": {},
   "outputs": [
    {
     "name": "stdout",
     "output_type": "stream",
     "text": [
      "<class 'pandas.core.frame.DataFrame'>\n",
      "Int64Index: 6085 entries, 4825 to 5640\n",
      "Data columns (total 19 columns):\n",
      " #   Column        Non-Null Count  Dtype  \n",
      "---  ------        --------------  -----  \n",
      " 0   PassengerId   6085 non-null   object \n",
      " 1   HomePlanet    5942 non-null   object \n",
      " 2   CryoSleep     5944 non-null   object \n",
      " 3   Cabin         5949 non-null   object \n",
      " 4   Destination   5969 non-null   object \n",
      " 5   Age           5963 non-null   float64\n",
      " 6   VIP           5931 non-null   object \n",
      " 7   RoomService   5954 non-null   float64\n",
      " 8   FoodCourt     5954 non-null   float64\n",
      " 9   ShoppingMall  5932 non-null   float64\n",
      " 10  Spa           5948 non-null   float64\n",
      " 11  VRDeck        5947 non-null   float64\n",
      " 12  Name          5949 non-null   object \n",
      " 13  Transported   6085 non-null   bool   \n",
      " 14  Group         6085 non-null   int64  \n",
      " 15  GroupSize     6085 non-null   int64  \n",
      " 16  Deck          6085 non-null   object \n",
      " 17  Side          5949 non-null   object \n",
      " 18  Spending      6085 non-null   float64\n",
      "dtypes: bool(1), float64(7), int64(2), object(9)\n",
      "memory usage: 1.0+ MB\n"
     ]
    }
   ],
   "source": [
    "data_train.info()"
   ]
  },
  {
   "cell_type": "code",
   "execution_count": 113,
   "id": "ba90ca48",
   "metadata": {},
   "outputs": [],
   "source": [
    "data_train['VIP'] = data_train['VIP'].astype(str)\n",
    "data_dev['VIP'] = data_dev['VIP'].astype(str)\n",
    "data_test['VIP'] = data_test['VIP'].astype(str)"
   ]
  },
  {
   "cell_type": "code",
   "execution_count": 114,
   "id": "676e4bf5",
   "metadata": {},
   "outputs": [],
   "source": [
    "from sklearn.pipeline import Pipeline\n",
    "from sklearn.compose import ColumnTransformer\n",
    "from sklearn.impute import SimpleImputer\n",
    "from sklearn.preprocessing import PowerTransformer, OneHotEncoder, StandardScaler"
   ]
  },
  {
   "cell_type": "code",
   "execution_count": 115,
   "id": "048d7402",
   "metadata": {},
   "outputs": [],
   "source": [
    "numerical_var = ['Age', 'GroupSize', 'Spending']\n",
    "categorical_var = ['HomePlanet', 'CryoSleep','Destination', 'VIP', 'Deck', 'Side']\n",
    "target = 'Transported'"
   ]
  },
  {
   "cell_type": "code",
   "execution_count": 118,
   "id": "dd4cb38c",
   "metadata": {},
   "outputs": [],
   "source": [
    "numerical_pipeline = Pipeline(\n",
    "    steps=[\n",
    "        (\"num_imputer\", SimpleImputer(strategy='median')),\n",
    "        (\"transformer\", PowerTransformer()),\n",
    "        (\"scaler\", StandardScaler())\n",
    "    ]\n",
    ")\n",
    "\n",
    "categorical_pipeline = Pipeline(\n",
    "    steps=[\n",
    "        (\"cat_imputer\", SimpleImputer(strategy='most_frequent')),\n",
    "        (\"encoder\", OneHotEncoder(drop='if_binary', handle_unknown='ignore', sparse_output=False))\n",
    "    ]\n",
    ")\n",
    "\n",
    "preprocessor = ColumnTransformer(\n",
    "    [\n",
    "        ('categorical', categorical_pipeline, categorical_var),\n",
    "        ('numerical', numerical_pipeline, numerical_var)\n",
    "    ]\n",
    ")"
   ]
  },
  {
   "cell_type": "code",
   "execution_count": 119,
   "id": "7557da70",
   "metadata": {},
   "outputs": [
    {
     "data": {
      "text/plain": [
       "array([[ 1.        ,  0.        ,  0.        , ..., -0.70613879,\n",
       "        -0.87561161, -1.13331504],\n",
       "       [ 1.        ,  0.        ,  0.        , ...,  0.79205609,\n",
       "        -0.87561161, -1.13331504],\n",
       "       [ 0.        ,  1.        ,  0.        , ..., -0.1973177 ,\n",
       "        -0.87561161, -1.13331504],\n",
       "       ...,\n",
       "       [ 1.        ,  0.        ,  0.        , ..., -0.70613879,\n",
       "        -0.87561161, -1.13331504],\n",
       "       [ 1.        ,  0.        ,  0.        , ..., -0.3387863 ,\n",
       "        -0.87561161,  0.57387182],\n",
       "       [ 1.        ,  0.        ,  0.        , ...,  0.34403779,\n",
       "        -0.87561161, -1.13331504]])"
      ]
     },
     "execution_count": 119,
     "metadata": {},
     "output_type": "execute_result"
    }
   ],
   "source": [
    "preprocessor.fit_transform(data_train[categorical_var + numerical_var])"
   ]
  },
  {
   "cell_type": "code",
   "execution_count": 124,
   "id": "20d811a5",
   "metadata": {},
   "outputs": [],
   "source": [
    "from sklearn.model_selection import KFold\n",
    "from sklearn.linear_model import LogisticRegression\n",
    "from sklearn.tree import DecisionTreeClassifier\n",
    "from sklearn.ensemble import RandomForestClassifier\n",
    "from sklearn.svm import SVC\n",
    "\n",
    "lr = LogisticRegression(random_state=10)\n",
    "dt = DecisionTreeClassifier(random_state=10)\n",
    "rf = RandomForestClassifier(random_state=10)\n",
    "svm = SVC()\n",
    "\n",
    "\n",
    "X = data_train[categorical_var+numerical_var]\n",
    "y = data_train[target]\n"
   ]
  },
  {
   "cell_type": "code",
   "execution_count": 128,
   "id": "c702c143",
   "metadata": {},
   "outputs": [],
   "source": [
    "X.reset_index(drop=True, inplace=True)"
   ]
  },
  {
   "cell_type": "code",
   "execution_count": 132,
   "id": "153c133b",
   "metadata": {},
   "outputs": [],
   "source": [
    "y.reset_index(drop=True,inplace=True)"
   ]
  },
  {
   "cell_type": "code",
   "execution_count": 133,
   "id": "b3130484",
   "metadata": {},
   "outputs": [],
   "source": [
    "kf = KFold(n_splits=5)\n",
    "\n",
    "result = {\n",
    "    \"LR\" : [],\n",
    "    \"DT\" : [],\n",
    "    \"RF\" : [],\n",
    "    \"SVM\": []\n",
    "}\n",
    "\n",
    "\n",
    "for train_index, test_index in kf.split(X):\n",
    "    X_train = X.loc[train_index]\n",
    "    X_test = X.loc[test_index]\n",
    "    y_train = y.loc[train_index]\n",
    "    y_test = y.loc[test_index]\n",
    "    \n",
    "    \n",
    "    X_train = preprocessor.fit_transform(X_train)\n",
    "    X_test = preprocessor.transform(X_test)\n",
    "    \n",
    "    lr.fit(X_train,y_train)\n",
    "    dt.fit(X_train,y_train)\n",
    "    rf.fit(X_train,y_train)\n",
    "    svm.fit(X_train,y_train)\n",
    "\n",
    "    result[\"LR\"].append(lr.score(X_test,y_test))\n",
    "    result[\"DT\"].append(dt.score(X_test,y_test))\n",
    "    result[\"RF\"].append(rf.score(X_test,y_test))\n",
    "    result[\"SVM\"].append(svm.score(X_test,y_test))"
   ]
  },
  {
   "cell_type": "code",
   "execution_count": 139,
   "id": "bbe50840",
   "metadata": {},
   "outputs": [
    {
     "name": "stdout",
     "output_type": "stream",
     "text": [
      "Logistic Evaluation: 0.7406737880032868\n",
      "DT Evaluation: 0.676417419884963\n",
      "RF Evaluation: 0.7055053410024652\n",
      "SVM Evaluation: 0.742810188989318\n"
     ]
    }
   ],
   "source": [
    "print('Logistic Evaluation:',np.mean(result['LR']))\n",
    "print('DT Evaluation:',np.mean(result['DT']))\n",
    "print('RF Evaluation:',np.mean(result['RF']))\n",
    "print('SVM Evaluation:',np.mean(result['SVM']))"
   ]
  },
  {
   "cell_type": "code",
   "execution_count": 143,
   "id": "dcb7b652",
   "metadata": {},
   "outputs": [
    {
     "data": {
      "text/html": [
       "<style>#sk-container-id-1 {color: black;background-color: white;}#sk-container-id-1 pre{padding: 0;}#sk-container-id-1 div.sk-toggleable {background-color: white;}#sk-container-id-1 label.sk-toggleable__label {cursor: pointer;display: block;width: 100%;margin-bottom: 0;padding: 0.3em;box-sizing: border-box;text-align: center;}#sk-container-id-1 label.sk-toggleable__label-arrow:before {content: \"▸\";float: left;margin-right: 0.25em;color: #696969;}#sk-container-id-1 label.sk-toggleable__label-arrow:hover:before {color: black;}#sk-container-id-1 div.sk-estimator:hover label.sk-toggleable__label-arrow:before {color: black;}#sk-container-id-1 div.sk-toggleable__content {max-height: 0;max-width: 0;overflow: hidden;text-align: left;background-color: #f0f8ff;}#sk-container-id-1 div.sk-toggleable__content pre {margin: 0.2em;color: black;border-radius: 0.25em;background-color: #f0f8ff;}#sk-container-id-1 input.sk-toggleable__control:checked~div.sk-toggleable__content {max-height: 200px;max-width: 100%;overflow: auto;}#sk-container-id-1 input.sk-toggleable__control:checked~label.sk-toggleable__label-arrow:before {content: \"▾\";}#sk-container-id-1 div.sk-estimator input.sk-toggleable__control:checked~label.sk-toggleable__label {background-color: #d4ebff;}#sk-container-id-1 div.sk-label input.sk-toggleable__control:checked~label.sk-toggleable__label {background-color: #d4ebff;}#sk-container-id-1 input.sk-hidden--visually {border: 0;clip: rect(1px 1px 1px 1px);clip: rect(1px, 1px, 1px, 1px);height: 1px;margin: -1px;overflow: hidden;padding: 0;position: absolute;width: 1px;}#sk-container-id-1 div.sk-estimator {font-family: monospace;background-color: #f0f8ff;border: 1px dotted black;border-radius: 0.25em;box-sizing: border-box;margin-bottom: 0.5em;}#sk-container-id-1 div.sk-estimator:hover {background-color: #d4ebff;}#sk-container-id-1 div.sk-parallel-item::after {content: \"\";width: 100%;border-bottom: 1px solid gray;flex-grow: 1;}#sk-container-id-1 div.sk-label:hover label.sk-toggleable__label {background-color: #d4ebff;}#sk-container-id-1 div.sk-serial::before {content: \"\";position: absolute;border-left: 1px solid gray;box-sizing: border-box;top: 0;bottom: 0;left: 50%;z-index: 0;}#sk-container-id-1 div.sk-serial {display: flex;flex-direction: column;align-items: center;background-color: white;padding-right: 0.2em;padding-left: 0.2em;position: relative;}#sk-container-id-1 div.sk-item {position: relative;z-index: 1;}#sk-container-id-1 div.sk-parallel {display: flex;align-items: stretch;justify-content: center;background-color: white;position: relative;}#sk-container-id-1 div.sk-item::before, #sk-container-id-1 div.sk-parallel-item::before {content: \"\";position: absolute;border-left: 1px solid gray;box-sizing: border-box;top: 0;bottom: 0;left: 50%;z-index: -1;}#sk-container-id-1 div.sk-parallel-item {display: flex;flex-direction: column;z-index: 1;position: relative;background-color: white;}#sk-container-id-1 div.sk-parallel-item:first-child::after {align-self: flex-end;width: 50%;}#sk-container-id-1 div.sk-parallel-item:last-child::after {align-self: flex-start;width: 50%;}#sk-container-id-1 div.sk-parallel-item:only-child::after {width: 0;}#sk-container-id-1 div.sk-dashed-wrapped {border: 1px dashed gray;margin: 0 0.4em 0.5em 0.4em;box-sizing: border-box;padding-bottom: 0.4em;background-color: white;}#sk-container-id-1 div.sk-label label {font-family: monospace;font-weight: bold;display: inline-block;line-height: 1.2em;}#sk-container-id-1 div.sk-label-container {text-align: center;}#sk-container-id-1 div.sk-container {/* jupyter's `normalize.less` sets `[hidden] { display: none; }` but bootstrap.min.css set `[hidden] { display: none !important; }` so we also need the `!important` here to be able to override the default hidden behavior on the sphinx rendered scikit-learn.org. See: https://github.com/scikit-learn/scikit-learn/issues/21755 */display: inline-block !important;position: relative;}#sk-container-id-1 div.sk-text-repr-fallback {display: none;}</style><div id=\"sk-container-id-1\" class=\"sk-top-container\"><div class=\"sk-text-repr-fallback\"><pre>LogisticRegression(random_state=10)</pre><b>In a Jupyter environment, please rerun this cell to show the HTML representation or trust the notebook. <br />On GitHub, the HTML representation is unable to render, please try loading this page with nbviewer.org.</b></div><div class=\"sk-container\" hidden><div class=\"sk-item\"><div class=\"sk-estimator sk-toggleable\"><input class=\"sk-toggleable__control sk-hidden--visually\" id=\"sk-estimator-id-1\" type=\"checkbox\" checked><label for=\"sk-estimator-id-1\" class=\"sk-toggleable__label sk-toggleable__label-arrow\">LogisticRegression</label><div class=\"sk-toggleable__content\"><pre>LogisticRegression(random_state=10)</pre></div></div></div></div></div>"
      ],
      "text/plain": [
       "LogisticRegression(random_state=10)"
      ]
     },
     "execution_count": 143,
     "metadata": {},
     "output_type": "execute_result"
    }
   ],
   "source": [
    "X_input = preprocessor.fit_transform(X)\n",
    "model = LogisticRegression(random_state=10)\n",
    "model.fit(X_input, y)"
   ]
  },
  {
   "cell_type": "code",
   "execution_count": 145,
   "id": "466766dc",
   "metadata": {},
   "outputs": [],
   "source": [
    "X_dev = data_dev[categorical_var+numerical_var]\n",
    "y_dev = data_dev[target]"
   ]
  },
  {
   "cell_type": "code",
   "execution_count": 149,
   "id": "8d233f44",
   "metadata": {},
   "outputs": [
    {
     "data": {
      "text/plain": [
       "0.7450153374233128"
      ]
     },
     "execution_count": 149,
     "metadata": {},
     "output_type": "execute_result"
    }
   ],
   "source": [
    "model.score(preprocessor.transform(X_dev),y_dev)"
   ]
  },
  {
   "cell_type": "code",
   "execution_count": null,
   "id": "7126c96f",
   "metadata": {},
   "outputs": [],
   "source": []
  }
 ],
 "metadata": {
  "kernelspec": {
   "display_name": "Python 3 (ipykernel)",
   "language": "python",
   "name": "python3"
  },
  "language_info": {
   "codemirror_mode": {
    "name": "ipython",
    "version": 3
   },
   "file_extension": ".py",
   "mimetype": "text/x-python",
   "name": "python",
   "nbconvert_exporter": "python",
   "pygments_lexer": "ipython3",
   "version": "3.9.16"
  }
 },
 "nbformat": 4,
 "nbformat_minor": 5
}
