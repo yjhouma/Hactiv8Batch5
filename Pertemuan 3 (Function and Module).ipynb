{
 "cells": [
  {
   "cell_type": "code",
   "execution_count": 21,
   "id": "61fbc6f7",
   "metadata": {},
   "outputs": [],
   "source": [
    "\"\"\"\n",
    "    f(x) = x^2 + 3x + 2\n",
    "    f(x,y) = x(y^2)\n",
    "\"\"\"\n",
    "\n",
    "def f(x):\n",
    "    return x**2 + 3*x + 2\n",
    "\n",
    "def g(x):\n",
    "    s = x**2 + 3*x + 2\n",
    "    print(s)"
   ]
  },
  {
   "cell_type": "code",
   "execution_count": 15,
   "id": "b87386b0",
   "metadata": {},
   "outputs": [],
   "source": [
    "hasil = f(5)"
   ]
  },
  {
   "cell_type": "code",
   "execution_count": 16,
   "id": "9faa44e3",
   "metadata": {},
   "outputs": [
    {
     "data": {
      "text/plain": [
       "42"
      ]
     },
     "execution_count": 16,
     "metadata": {},
     "output_type": "execute_result"
    }
   ],
   "source": [
    "hasil"
   ]
  },
  {
   "cell_type": "code",
   "execution_count": 17,
   "id": "02f8ff62",
   "metadata": {},
   "outputs": [
    {
     "data": {
      "text/plain": [
       "int"
      ]
     },
     "execution_count": 17,
     "metadata": {},
     "output_type": "execute_result"
    }
   ],
   "source": [
    "type(hasil)"
   ]
  },
  {
   "cell_type": "code",
   "execution_count": 22,
   "id": "c4f48a4a",
   "metadata": {},
   "outputs": [
    {
     "name": "stdout",
     "output_type": "stream",
     "text": [
      "42\n"
     ]
    }
   ],
   "source": [
    "g(5)"
   ]
  },
  {
   "cell_type": "code",
   "execution_count": 23,
   "id": "81bb2509",
   "metadata": {},
   "outputs": [
    {
     "name": "stdout",
     "output_type": "stream",
     "text": [
      "42\n"
     ]
    }
   ],
   "source": [
    "hasil = g(5)"
   ]
  },
  {
   "cell_type": "code",
   "execution_count": 24,
   "id": "4a0ca61c",
   "metadata": {},
   "outputs": [
    {
     "data": {
      "text/plain": [
       "NoneType"
      ]
     },
     "execution_count": 24,
     "metadata": {},
     "output_type": "execute_result"
    }
   ],
   "source": [
    "type(hasil)"
   ]
  },
  {
   "cell_type": "code",
   "execution_count": 46,
   "id": "818da63c",
   "metadata": {},
   "outputs": [],
   "source": [
    "l = [1,3,5,6,4]"
   ]
  },
  {
   "cell_type": "code",
   "execution_count": 47,
   "id": "c2216ae3",
   "metadata": {},
   "outputs": [],
   "source": [
    "def sortlist(l):\n",
    "    l.sort()\n",
    "    print(l)\n",
    "    "
   ]
  },
  {
   "cell_type": "code",
   "execution_count": 48,
   "id": "f8448c7e",
   "metadata": {},
   "outputs": [
    {
     "name": "stdout",
     "output_type": "stream",
     "text": [
      "[1, 3, 4, 5, 6]\n"
     ]
    }
   ],
   "source": [
    "sortlist(l)"
   ]
  },
  {
   "cell_type": "code",
   "execution_count": 49,
   "id": "e7fa7297",
   "metadata": {},
   "outputs": [],
   "source": [
    "def changeList(l):\n",
    "    l.append([2,3,4])\n",
    "    a = l\n",
    "    print(\"list di dalam function\", l)\n",
    "    return a\n",
    "    "
   ]
  },
  {
   "cell_type": "code",
   "execution_count": 50,
   "id": "53bf049b",
   "metadata": {},
   "outputs": [
    {
     "name": "stdout",
     "output_type": "stream",
     "text": [
      "list di dalam function [1, 3, 4, 5, 6, [2, 3, 4]]\n"
     ]
    },
    {
     "data": {
      "text/plain": [
       "[1, 3, 4, 5, 6, [2, 3, 4]]"
      ]
     },
     "execution_count": 50,
     "metadata": {},
     "output_type": "execute_result"
    }
   ],
   "source": [
    "changeList(l)"
   ]
  },
  {
   "cell_type": "code",
   "execution_count": 51,
   "id": "d2cfba9a",
   "metadata": {},
   "outputs": [
    {
     "name": "stdout",
     "output_type": "stream",
     "text": [
      "list di dalam function [1, 3, 4, 5, 6, [2, 3, 4], [2, 3, 4]]\n"
     ]
    }
   ],
   "source": [
    "l = changeList(l)"
   ]
  },
  {
   "cell_type": "code",
   "execution_count": 52,
   "id": "116e8a59",
   "metadata": {},
   "outputs": [
    {
     "data": {
      "text/plain": [
       "[1, 3, 4, 5, 6, [2, 3, 4], [2, 3, 4]]"
      ]
     },
     "execution_count": 52,
     "metadata": {},
     "output_type": "execute_result"
    }
   ],
   "source": [
    "l"
   ]
  },
  {
   "cell_type": "code",
   "execution_count": 53,
   "id": "b0035b3b",
   "metadata": {},
   "outputs": [
    {
     "name": "stdout",
     "output_type": "stream",
     "text": [
      "l inside [1, 2, 3, 4]\n",
      "[3, 3, 3, 3, 3]\n"
     ]
    }
   ],
   "source": [
    "def changeList2(l):\n",
    "    l = [1,2,3,4]\n",
    "    print(\"l inside\", l)\n",
    "    \n",
    "l = [3,3,3,3,3]\n",
    "changeList2(l)\n",
    "print(l)"
   ]
  },
  {
   "cell_type": "code",
   "execution_count": 54,
   "id": "c569e7cd",
   "metadata": {},
   "outputs": [],
   "source": [
    "def printinfo(nama, umur, alamat):\n",
    "    print(\"Nama:\", nama)\n",
    "    print(\"Umur:\", umur)\n",
    "    print(\"Alamat:\", alamat)"
   ]
  },
  {
   "cell_type": "code",
   "execution_count": 56,
   "id": "2b6ddff9",
   "metadata": {},
   "outputs": [
    {
     "name": "stdout",
     "output_type": "stream",
     "text": [
      "Nama: Agus\n",
      "Umur: 18\n",
      "Alamat: Sudirman\n"
     ]
    }
   ],
   "source": [
    "printinfo(\"Agus\", 18, \"Sudirman\")"
   ]
  },
  {
   "cell_type": "code",
   "execution_count": 57,
   "id": "9fca8efd",
   "metadata": {},
   "outputs": [
    {
     "name": "stdout",
     "output_type": "stream",
     "text": [
      "Nama: Agus\n",
      "Umur: 18\n",
      "Alamat: Sudirman\n"
     ]
    }
   ],
   "source": [
    "printinfo(umur=18, nama='Agus', alamat='Sudirman')"
   ]
  },
  {
   "cell_type": "code",
   "execution_count": 59,
   "id": "33dc9e04",
   "metadata": {},
   "outputs": [],
   "source": [
    "def printinfo2(nama,umur=20,alamat='Tidak Diketahui'):\n",
    "    print(\"Nama:\", nama)\n",
    "    print(\"Umur:\", umur)\n",
    "    print(\"Alamat:\", alamat)\n",
    "    "
   ]
  },
  {
   "cell_type": "code",
   "execution_count": 60,
   "id": "8f5374f9",
   "metadata": {},
   "outputs": [
    {
     "name": "stdout",
     "output_type": "stream",
     "text": [
      "Nama: Agus\n",
      "Umur: 18\n",
      "Alamat: Sudirman\n"
     ]
    }
   ],
   "source": [
    "printinfo2(\"Agus\", 18, \"Sudirman\")"
   ]
  },
  {
   "cell_type": "code",
   "execution_count": 61,
   "id": "e72cfc83",
   "metadata": {},
   "outputs": [
    {
     "name": "stdout",
     "output_type": "stream",
     "text": [
      "Nama: Agus\n",
      "Umur: 18\n",
      "Alamat: Sudirman\n"
     ]
    }
   ],
   "source": [
    "printinfo(umur=18, nama='Agus', alamat='Sudirman')"
   ]
  },
  {
   "cell_type": "code",
   "execution_count": 63,
   "id": "ecc8c957",
   "metadata": {},
   "outputs": [
    {
     "name": "stdout",
     "output_type": "stream",
     "text": [
      "Nama: Budi\n",
      "Umur: 20\n",
      "Alamat: Depok\n"
     ]
    }
   ],
   "source": [
    "printinfo2(nama=\"Budi\",alamat=\"Depok\")"
   ]
  },
  {
   "cell_type": "code",
   "execution_count": 65,
   "id": "32458457",
   "metadata": {},
   "outputs": [],
   "source": [
    "tambah = lambda x, y: x+y"
   ]
  },
  {
   "cell_type": "code",
   "execution_count": 66,
   "id": "3b6d510b",
   "metadata": {},
   "outputs": [
    {
     "data": {
      "text/plain": [
       "8"
      ]
     },
     "execution_count": 66,
     "metadata": {},
     "output_type": "execute_result"
    }
   ],
   "source": [
    "tambah(3,5)"
   ]
  },
  {
   "cell_type": "code",
   "execution_count": 67,
   "id": "fcfeb390",
   "metadata": {},
   "outputs": [],
   "source": [
    "f = lambda x: x**2 + 3*x +2"
   ]
  },
  {
   "cell_type": "code",
   "execution_count": 68,
   "id": "b31b3b15",
   "metadata": {},
   "outputs": [
    {
     "data": {
      "text/plain": [
       "42"
      ]
     },
     "execution_count": 68,
     "metadata": {},
     "output_type": "execute_result"
    }
   ],
   "source": [
    "f(5)"
   ]
  },
  {
   "cell_type": "code",
   "execution_count": 69,
   "id": "f1d4a884",
   "metadata": {},
   "outputs": [
    {
     "data": {
      "text/plain": [
       "132"
      ]
     },
     "execution_count": 69,
     "metadata": {},
     "output_type": "execute_result"
    }
   ],
   "source": [
    "a = 10\n",
    "f(a)"
   ]
  },
  {
   "cell_type": "code",
   "execution_count": 79,
   "id": "928eba2a",
   "metadata": {},
   "outputs": [],
   "source": [
    "s = 10\n",
    "\n",
    "\n",
    "def jumlahkan(a,b):\n",
    "    global s\n",
    "    s = a + b\n",
    "    return s"
   ]
  },
  {
   "cell_type": "code",
   "execution_count": 80,
   "id": "81afb9b2",
   "metadata": {},
   "outputs": [
    {
     "data": {
      "text/plain": [
       "20"
      ]
     },
     "execution_count": 80,
     "metadata": {},
     "output_type": "execute_result"
    }
   ],
   "source": [
    "jumlahkan(10,10)"
   ]
  },
  {
   "cell_type": "code",
   "execution_count": 81,
   "id": "fbe62d42",
   "metadata": {},
   "outputs": [
    {
     "data": {
      "text/plain": [
       "20"
      ]
     },
     "execution_count": 81,
     "metadata": {},
     "output_type": "execute_result"
    }
   ],
   "source": [
    "s"
   ]
  },
  {
   "cell_type": "code",
   "execution_count": null,
   "id": "e1d33167",
   "metadata": {},
   "outputs": [],
   "source": []
  },
  {
   "cell_type": "code",
   "execution_count": null,
   "id": "02265c47",
   "metadata": {},
   "outputs": [],
   "source": []
  },
  {
   "cell_type": "code",
   "execution_count": 1,
   "id": "5fdb48ec",
   "metadata": {},
   "outputs": [],
   "source": [
    "import modulepertama"
   ]
  },
  {
   "cell_type": "code",
   "execution_count": 2,
   "id": "6838ba09",
   "metadata": {},
   "outputs": [
    {
     "data": {
      "text/plain": [
       "3"
      ]
     },
     "execution_count": 2,
     "metadata": {},
     "output_type": "execute_result"
    }
   ],
   "source": [
    "modulepertama.tambah(1,2)"
   ]
  },
  {
   "cell_type": "code",
   "execution_count": 3,
   "id": "1c721a07",
   "metadata": {},
   "outputs": [],
   "source": [
    "import sys\n",
    "sys.path.append('/Users/yjhouma/Documents/Hacktiv8/')"
   ]
  },
  {
   "cell_type": "code",
   "execution_count": null,
   "id": "b53bc244",
   "metadata": {},
   "outputs": [],
   "source": []
  },
  {
   "cell_type": "code",
   "execution_count": 4,
   "id": "34566877",
   "metadata": {},
   "outputs": [],
   "source": [
    "import modulepertama as mp"
   ]
  },
  {
   "cell_type": "code",
   "execution_count": 5,
   "id": "73654f57",
   "metadata": {},
   "outputs": [
    {
     "data": {
      "text/plain": [
       "3"
      ]
     },
     "execution_count": 5,
     "metadata": {},
     "output_type": "execute_result"
    }
   ],
   "source": [
    "mp.tambah(1,2)"
   ]
  },
  {
   "cell_type": "code",
   "execution_count": 6,
   "id": "3cab18ca",
   "metadata": {},
   "outputs": [],
   "source": [
    "import math as m"
   ]
  },
  {
   "cell_type": "code",
   "execution_count": 7,
   "id": "8eb62889",
   "metadata": {},
   "outputs": [
    {
     "data": {
      "text/plain": [
       "3.1622776601683795"
      ]
     },
     "execution_count": 7,
     "metadata": {},
     "output_type": "execute_result"
    }
   ],
   "source": [
    "m.sqrt(10)"
   ]
  },
  {
   "cell_type": "code",
   "execution_count": 8,
   "id": "2890d7c1",
   "metadata": {},
   "outputs": [
    {
     "data": {
      "text/plain": [
       "2.302585092994046"
      ]
     },
     "execution_count": 8,
     "metadata": {},
     "output_type": "execute_result"
    }
   ],
   "source": [
    "m.log(10)"
   ]
  },
  {
   "cell_type": "code",
   "execution_count": 9,
   "id": "a5cbab61",
   "metadata": {},
   "outputs": [
    {
     "data": {
      "text/plain": [
       "3.141592653589793"
      ]
     },
     "execution_count": 9,
     "metadata": {},
     "output_type": "execute_result"
    }
   ],
   "source": [
    "m.pi"
   ]
  },
  {
   "cell_type": "code",
   "execution_count": 10,
   "id": "87e05c99",
   "metadata": {},
   "outputs": [
    {
     "data": {
      "text/plain": [
       "2.718281828459045"
      ]
     },
     "execution_count": 10,
     "metadata": {},
     "output_type": "execute_result"
    }
   ],
   "source": [
    "m.e"
   ]
  },
  {
   "cell_type": "code",
   "execution_count": 11,
   "id": "e5d66638",
   "metadata": {},
   "outputs": [],
   "source": [
    "from modulepertama import kali as k"
   ]
  },
  {
   "cell_type": "code",
   "execution_count": 12,
   "id": "4bbbbb9c",
   "metadata": {},
   "outputs": [
    {
     "data": {
      "text/plain": [
       "15"
      ]
     },
     "execution_count": 12,
     "metadata": {},
     "output_type": "execute_result"
    }
   ],
   "source": [
    "k(5,3)"
   ]
  },
  {
   "cell_type": "code",
   "execution_count": null,
   "id": "43072821",
   "metadata": {},
   "outputs": [],
   "source": []
  },
  {
   "cell_type": "code",
   "execution_count": null,
   "id": "ec66041e",
   "metadata": {},
   "outputs": [],
   "source": []
  },
  {
   "cell_type": "code",
   "execution_count": 2,
   "id": "d36c4ae8",
   "metadata": {},
   "outputs": [],
   "source": [
    "import pkg.modulkedua as m2"
   ]
  },
  {
   "cell_type": "code",
   "execution_count": 4,
   "id": "0c0c25f6",
   "metadata": {},
   "outputs": [
    {
     "name": "stdout",
     "output_type": "stream",
     "text": [
      "Nama: Agus\n",
      "Umur: 20\n",
      "Alamat: Tidak Diketahui\n"
     ]
    }
   ],
   "source": [
    "m2.cetakinfo(nama=\"Agus\")"
   ]
  },
  {
   "cell_type": "code",
   "execution_count": 1,
   "id": "5cee3086",
   "metadata": {},
   "outputs": [],
   "source": [
    "import sklearn.linear_model"
   ]
  },
  {
   "cell_type": "code",
   "execution_count": 2,
   "id": "eb57a116",
   "metadata": {},
   "outputs": [
    {
     "data": {
      "text/plain": [
       "<module 'sklearn.linear_model' from '/Users/yjhouma/opt/anaconda3/envs/batch5/lib/python3.8/site-packages/sklearn/linear_model/__init__.py'>"
      ]
     },
     "execution_count": 2,
     "metadata": {},
     "output_type": "execute_result"
    }
   ],
   "source": [
    "sklearn.linear_model"
   ]
  },
  {
   "cell_type": "code",
   "execution_count": 1,
   "id": "3f8b52de",
   "metadata": {},
   "outputs": [],
   "source": [
    "import pandas"
   ]
  },
  {
   "cell_type": "code",
   "execution_count": 2,
   "id": "47e93517",
   "metadata": {},
   "outputs": [
    {
     "data": {
      "text/plain": [
       "<module 'pandas' from '/Users/yjhouma/opt/anaconda3/envs/batch5/lib/python3.8/site-packages/pandas/__init__.py'>"
      ]
     },
     "execution_count": 2,
     "metadata": {},
     "output_type": "execute_result"
    }
   ],
   "source": [
    "pandas"
   ]
  },
  {
   "cell_type": "code",
   "execution_count": null,
   "id": "40f5b76b",
   "metadata": {},
   "outputs": [],
   "source": []
  }
 ],
 "metadata": {
  "kernelspec": {
   "display_name": "Python 3 (ipykernel)",
   "language": "python",
   "name": "python3"
  },
  "language_info": {
   "codemirror_mode": {
    "name": "ipython",
    "version": 3
   },
   "file_extension": ".py",
   "mimetype": "text/x-python",
   "name": "python",
   "nbconvert_exporter": "python",
   "pygments_lexer": "ipython3",
   "version": "3.8.17"
  }
 },
 "nbformat": 4,
 "nbformat_minor": 5
}
