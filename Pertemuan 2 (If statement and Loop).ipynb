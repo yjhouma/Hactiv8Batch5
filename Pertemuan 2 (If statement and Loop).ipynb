{
 "cells": [
  {
   "cell_type": "code",
   "execution_count": 1,
   "id": "e55ea23e",
   "metadata": {},
   "outputs": [
    {
     "name": "stdout",
     "output_type": "stream",
     "text": [
      "False\n"
     ]
    }
   ],
   "source": [
    "a = 10\n",
    "b = 5\n",
    "print(a == b)"
   ]
  },
  {
   "cell_type": "code",
   "execution_count": 3,
   "id": "f2e98a9e",
   "metadata": {},
   "outputs": [],
   "source": [
    "# \n",
    "a = 10\n",
    "b = 50\n",
    "if a > b:\n",
    "    print(a)"
   ]
  },
  {
   "cell_type": "code",
   "execution_count": 6,
   "id": "31863965",
   "metadata": {},
   "outputs": [
    {
     "name": "stdout",
     "output_type": "stream",
     "text": [
      "aaaa\n"
     ]
    }
   ],
   "source": [
    "'''\n",
    "if <expr>/bool:\n",
    "    <statement>\n",
    "<statement>\n",
    "'''\n",
    "\n",
    "a = 10\n",
    "b = 50\n",
    "if a > b:\n",
    "    print(\"masuk sini\")\n",
    "    print(a)\n",
    "    \n",
    "print(\"aaaa\")"
   ]
  },
  {
   "cell_type": "code",
   "execution_count": 8,
   "id": "f47affcc",
   "metadata": {},
   "outputs": [
    {
     "name": "stdout",
     "output_type": "stream",
     "text": [
      "Ini di luar percabangan\n"
     ]
    }
   ],
   "source": [
    "s = \"foos\"\n",
    "a = 10\n",
    "\n",
    "if s in \"this food is good\":\n",
    "    print(\"Cabang 1\")\n",
    "    \n",
    "    if a < 5:\n",
    "        print(\"Cabang 2\")\n",
    "        print(\"Nilai a lebih kecil dari lima\")\n",
    "        \n",
    "    print(\"Kembali ke Cabang 1\")\n",
    "    \n",
    "    if a > 7:\n",
    "        print(\"Cabang 3\")\n",
    "        print(\"NIlai a lebih besar dari tujuh\")\n",
    "    \n",
    "    print(\"Kembali lagi ke cabang 1\")\n",
    "\n",
    "print(\"Ini di luar percabangan\")\n",
    "    "
   ]
  },
  {
   "cell_type": "code",
   "execution_count": 11,
   "id": "8f3d4074",
   "metadata": {},
   "outputs": [
    {
     "name": "stdout",
     "output_type": "stream",
     "text": [
      "a lebih besar dari b\n",
      "100\n"
     ]
    }
   ],
   "source": [
    "a = 100\n",
    "b = 50\n",
    "if a > b:\n",
    "    print(\"a lebih besar dari b\")\n",
    "    print(a)    \n",
    "else:\n",
    "    print(\"a lebih kecil dari b\")\n",
    "    print(b)"
   ]
  },
  {
   "cell_type": "code",
   "execution_count": 13,
   "id": "b149f1e3",
   "metadata": {},
   "outputs": [
    {
     "name": "stdout",
     "output_type": "stream",
     "text": [
      "Cabang 1\n",
      "else cabang 2\n",
      "Nilai a lebih besar dari lima\n",
      "Kembali ke Cabang 1\n",
      "Cabang 3\n",
      "NIlai a lebih besar dari tujuh\n",
      "Kembali lagi ke cabang 1\n",
      "Ini di luar percabangan\n"
     ]
    }
   ],
   "source": [
    "s = \"foo\"\n",
    "a = 10\n",
    "\n",
    "if s in \"this food is good\":\n",
    "    print(\"Cabang 1\")\n",
    "    \n",
    "    if a < 5:\n",
    "        print(\"Cabang 2\")\n",
    "        print(\"Nilai a lebih kecil dari lima\")\n",
    "    else:\n",
    "        print(\"else cabang 2\")\n",
    "        print(\"Nilai a lebih besar dari lima\")\n",
    "        \n",
    "    \n",
    "    print(\"Kembali ke Cabang 1\")\n",
    "    \n",
    "    if a > 7:\n",
    "        print(\"Cabang 3\")\n",
    "        print(\"NIlai a lebih besar dari tujuh\")\n",
    "    else:\n",
    "        print(\"else cabang 3\")\n",
    "        print(\"Nilai a lebih kecil dari tujuh\")\n",
    "    \n",
    "    print(\"Kembali lagi ke cabang 1\")\n",
    "\n",
    "print(\"Ini di luar percabangan\")"
   ]
  },
  {
   "cell_type": "code",
   "execution_count": 17,
   "id": "a27405fe",
   "metadata": {},
   "outputs": [
    {
     "name": "stdout",
     "output_type": "stream",
     "text": [
      "beli majalah\n"
     ]
    }
   ],
   "source": [
    "hargaBuku = 20000\n",
    "hargaMajalah = 5000\n",
    "uang = 6000\n",
    "\n",
    "if uang > hargaBuku:\n",
    "    print(\"beli buku\")\n",
    "elif uang > hargaMajalah:\n",
    "    print(\"beli majalah\")\n",
    "else:\n",
    "    print(\"uang tidak cukup\")"
   ]
  },
  {
   "cell_type": "code",
   "execution_count": 24,
   "id": "344fd535",
   "metadata": {},
   "outputs": [
    {
     "name": "stdout",
     "output_type": "stream",
     "text": [
      "500\n",
      "a sama dengan b\n"
     ]
    }
   ],
   "source": [
    "a = 500\n",
    "b = 500\n",
    "if a > b: print(a); print(\"a lebih besar dari b\")\n",
    "elif a == b: print(a); print(\"a sama dengan b\")\n",
    "else: print(b); print(\"a lebih kecil dari b\")"
   ]
  },
  {
   "cell_type": "code",
   "execution_count": 29,
   "id": "648885e6",
   "metadata": {},
   "outputs": [
    {
     "name": "stdout",
     "output_type": "stream",
     "text": [
      "800\n"
     ]
    }
   ],
   "source": [
    "a = 500\n",
    "b = 800\n",
    "\n",
    "maximum = a if a > b else b\n",
    "print(maximum)"
   ]
  },
  {
   "cell_type": "code",
   "execution_count": 30,
   "id": "f8bb6449",
   "metadata": {},
   "outputs": [
    {
     "name": "stdout",
     "output_type": "stream",
     "text": [
      "Ke pantai\n"
     ]
    }
   ],
   "source": [
    "raining = False\n",
    "\n",
    "print(\"Ke pantai\" if not raining else \"ke warnet\")"
   ]
  },
  {
   "cell_type": "code",
   "execution_count": 31,
   "id": "3f52ee21",
   "metadata": {},
   "outputs": [
    {
     "name": "stdout",
     "output_type": "stream",
     "text": [
      "ke warnet\n"
     ]
    }
   ],
   "source": [
    "raining = True\n",
    "\n",
    "print(\"Ke pantai\" if not raining else \"ke warnet\")"
   ]
  },
  {
   "cell_type": "code",
   "execution_count": null,
   "id": "c306d37f",
   "metadata": {},
   "outputs": [],
   "source": []
  },
  {
   "cell_type": "code",
   "execution_count": 37,
   "id": "44337fb7",
   "metadata": {},
   "outputs": [
    {
     "name": "stdout",
     "output_type": "stream",
     "text": [
      "10\n",
      "dibawah pass\n",
      "100\n"
     ]
    }
   ],
   "source": [
    "a = 100\n",
    "b = 10\n",
    "if a > b:\n",
    "    pass    \n",
    "print(a)"
   ]
  },
  {
   "cell_type": "code",
   "execution_count": null,
   "id": "773474d0",
   "metadata": {},
   "outputs": [],
   "source": [
    "\n"
   ]
  },
  {
   "cell_type": "code",
   "execution_count": null,
   "id": "4220e3f5",
   "metadata": {},
   "outputs": [],
   "source": []
  },
  {
   "cell_type": "code",
   "execution_count": 38,
   "id": "6b0ae327",
   "metadata": {},
   "outputs": [
    {
     "data": {
      "text/plain": [
       "'\\nwhile <expr>/bool:\\n    <statement>\\n    <statement>\\n    <statement>\\n    <statement>\\n<statement>\\n\\n'"
      ]
     },
     "execution_count": 38,
     "metadata": {},
     "output_type": "execute_result"
    }
   ],
   "source": [
    "'''\n",
    "while <expr>/bool:\n",
    "    <statement>\n",
    "    <statement>\n",
    "    <statement>\n",
    "    <statement>\n",
    "<statement>\n",
    "\n",
    "'''"
   ]
  },
  {
   "cell_type": "code",
   "execution_count": 43,
   "id": "8c2e6724",
   "metadata": {},
   "outputs": [
    {
     "name": "stdout",
     "output_type": "stream",
     "text": [
      "1\n",
      "2\n",
      "3\n",
      "4\n",
      "5\n",
      "6\n",
      "7\n",
      "8\n",
      "9\n",
      "10\n"
     ]
    }
   ],
   "source": [
    "# 1 + 2 + 3 + ... + 100\n",
    "\n",
    "n = 1\n",
    "un = 10\n",
    "s = 0\n",
    "\n",
    "while n <= un:\n",
    "    print(n)\n",
    "    s += n # s = s+n\n",
    "    n+=1\n",
    "\n",
    "# print(s)"
   ]
  },
  {
   "cell_type": "code",
   "execution_count": 44,
   "id": "36ce833d",
   "metadata": {},
   "outputs": [
    {
     "name": "stdout",
     "output_type": "stream",
     "text": [
      "11\n"
     ]
    }
   ],
   "source": [
    "print(n)"
   ]
  },
  {
   "cell_type": "code",
   "execution_count": 47,
   "id": "393d0ebf",
   "metadata": {},
   "outputs": [
    {
     "name": "stdout",
     "output_type": "stream",
     "text": [
      "0\n",
      "di bawah break\n",
      "1\n",
      "di bawah break\n",
      "2\n",
      "di bawah break\n",
      "3\n",
      "di bawah break\n",
      "4\n",
      "di luar loop\n"
     ]
    }
   ],
   "source": [
    "i = 0 \n",
    "while i < 10:\n",
    "    print(i)\n",
    "    if i == 4:\n",
    "        break\n",
    "    print(\"di bawah break\")\n",
    "    i += 1\n",
    "\n",
    "print(\"di luar loop\")"
   ]
  },
  {
   "cell_type": "code",
   "execution_count": 52,
   "id": "aee5693a",
   "metadata": {},
   "outputs": [
    {
     "name": "stdout",
     "output_type": "stream",
     "text": [
      "1\n",
      "di bawah continue\n",
      "2\n",
      "di bawah continue\n",
      "3\n",
      "di bawah continue\n",
      "5\n",
      "di bawah continue\n",
      "6\n",
      "di bawah continue\n",
      "7\n",
      "di bawah continue\n",
      "8\n",
      "di bawah continue\n",
      "9\n",
      "di bawah continue\n",
      "10\n",
      "di bawah continue\n",
      "di luar loop\n"
     ]
    }
   ],
   "source": [
    "i = 0 \n",
    "while i < 10:\n",
    "    i += 1\n",
    "    if i == 4:\n",
    "        continue\n",
    "    print(i)\n",
    "    print(\"di bawah continue\")\n",
    "\n",
    "print(\"di luar loop\")"
   ]
  },
  {
   "cell_type": "code",
   "execution_count": 57,
   "id": "3cac24b8",
   "metadata": {},
   "outputs": [
    {
     "name": "stdout",
     "output_type": "stream",
     "text": [
      "1\n",
      "2\n",
      "3\n",
      "4\n",
      "5\n",
      "6\n",
      "7\n",
      "8\n",
      "9\n",
      "10\n",
      "loop selesai\n",
      "di luar loop\n"
     ]
    }
   ],
   "source": [
    "i = 0 \n",
    "while i < 10:\n",
    "    i += 1\n",
    "    print(i)\n",
    "else:\n",
    "    print(\"loop selesai\")\n",
    "    \n",
    "print(\"di luar loop\")"
   ]
  },
  {
   "cell_type": "code",
   "execution_count": 60,
   "id": "dbcf52a6",
   "metadata": {},
   "outputs": [
    {
     "name": "stdout",
     "output_type": "stream",
     "text": [
      "0\n",
      "di bawah break\n",
      "1\n",
      "di bawah break\n",
      "2\n",
      "di bawah break\n",
      "3\n",
      "di bawah break\n",
      "4\n",
      "di luar loop\n"
     ]
    }
   ],
   "source": [
    "i = 0 \n",
    "while i < 10:\n",
    "    print(i)\n",
    "    if i == 4:\n",
    "        break\n",
    "    print(\"di bawah break\")\n",
    "    i += 1\n",
    "else:\n",
    "    print(\"loop selesai\")\n",
    "\n",
    "print(\"di luar loop\")"
   ]
  },
  {
   "cell_type": "code",
   "execution_count": 62,
   "id": "2d1efbb3",
   "metadata": {},
   "outputs": [
    {
     "name": "stdout",
     "output_type": "stream",
     "text": [
      "0\n",
      "a b c d \n",
      "1\n",
      "a b c d \n",
      "2\n",
      "a b c d \n",
      "3\n",
      "a b c d \n",
      "4\n",
      "a b c d \n",
      "5\n",
      "a b c d \n",
      "6\n",
      "a b c d \n",
      "7\n",
      "a b c d \n",
      "8\n",
      "a b c d \n",
      "9\n",
      "a b c d \n"
     ]
    }
   ],
   "source": [
    "a = ['a','b','c','d']\n",
    "n = len(a)\n",
    "\n",
    "i = 0\n",
    "\n",
    "while i < 10:\n",
    "    print(i)\n",
    "    j = 0\n",
    "    while j < n:\n",
    "        print(a[j], end=\" \")\n",
    "        j+=1\n",
    "    i+=1\n",
    "    print()\n",
    "        "
   ]
  },
  {
   "cell_type": "code",
   "execution_count": 63,
   "id": "a872af4a",
   "metadata": {},
   "outputs": [
    {
     "name": "stdout",
     "output_type": "stream",
     "text": [
      "4\n",
      "3\n",
      "2\n",
      "1\n",
      "0\n"
     ]
    }
   ],
   "source": [
    "n = 5\n",
    "while n > 0: n-=1; print(n) "
   ]
  },
  {
   "cell_type": "code",
   "execution_count": null,
   "id": "5aa8ccad",
   "metadata": {},
   "outputs": [],
   "source": []
  },
  {
   "cell_type": "code",
   "execution_count": 66,
   "id": "19dea7d0",
   "metadata": {},
   "outputs": [
    {
     "name": "stdout",
     "output_type": "stream",
     "text": [
      "True\n",
      "False\n",
      "False\n"
     ]
    }
   ],
   "source": [
    "l = ['fa', 'fi', 'fu']\n",
    "i = 0\n",
    "\n",
    "\n",
    "for s in l:\n",
    "    print('a' in s)\n"
   ]
  },
  {
   "cell_type": "code",
   "execution_count": 69,
   "id": "3e71e301",
   "metadata": {},
   "outputs": [
    {
     "name": "stdout",
     "output_type": "stream",
     "text": [
      "fa\n",
      "fi\n",
      "fu\n"
     ]
    }
   ],
   "source": [
    "d = {'fa': 1, 'fi': 2, 'fu':3}\n",
    "\n",
    "for k in d:\n",
    "    print(k)"
   ]
  },
  {
   "cell_type": "code",
   "execution_count": 70,
   "id": "6ddf4f3c",
   "metadata": {},
   "outputs": [
    {
     "data": {
      "text/plain": [
       "dict_items([('fa', 1), ('fi', 2), ('fu', 3)])"
      ]
     },
     "execution_count": 70,
     "metadata": {},
     "output_type": "execute_result"
    }
   ],
   "source": [
    "d.items()"
   ]
  },
  {
   "cell_type": "code",
   "execution_count": 71,
   "id": "efe31477",
   "metadata": {},
   "outputs": [
    {
     "name": "stdout",
     "output_type": "stream",
     "text": [
      "fa - 1\n",
      "fi - 2\n",
      "fu - 3\n"
     ]
    }
   ],
   "source": [
    "for k, v in d.items():\n",
    "    print(k, \"-\", v)"
   ]
  },
  {
   "cell_type": "code",
   "execution_count": 73,
   "id": "1d093325",
   "metadata": {},
   "outputs": [
    {
     "name": "stdout",
     "output_type": "stream",
     "text": [
      "1 1 1\n",
      "2 1 3\n",
      "2 0 2\n"
     ]
    }
   ],
   "source": [
    "coor = [(1,1,1),(2,1,3),(2,0,2)]\n",
    "\n",
    "for x,y,z in coor:\n",
    "    print(x, y, z)"
   ]
  },
  {
   "cell_type": "code",
   "execution_count": 82,
   "id": "c3a1cdad",
   "metadata": {},
   "outputs": [
    {
     "name": "stdout",
     "output_type": "stream",
     "text": [
      "10\n",
      "8\n",
      "6\n",
      "4\n",
      "2\n"
     ]
    }
   ],
   "source": [
    "for i in range(10,0,-2):\n",
    "    print(i)"
   ]
  },
  {
   "cell_type": "code",
   "execution_count": 85,
   "id": "89e85156",
   "metadata": {},
   "outputs": [
    {
     "name": "stdout",
     "output_type": "stream",
     "text": [
      "0\n",
      "di bawah break\n",
      "1\n",
      "di bawah break\n",
      "2\n",
      "di bawah break\n",
      "3\n",
      "di bawah break\n",
      "5\n",
      "di bawah break\n",
      "6\n",
      "di bawah break\n",
      "7\n",
      "di bawah break\n",
      "8\n",
      "di bawah break\n",
      "9\n",
      "di bawah break\n"
     ]
    }
   ],
   "source": [
    "# i = 0 \n",
    "# while i < 10:\n",
    "#     i += 1\n",
    "#     if i == 4:\n",
    "#         continue\n",
    "#     print(i)\n",
    "#     print(\"di bawah continue\")\n",
    "\n",
    "for i in range(0,10):\n",
    "    if i == 4:\n",
    "        continue\n",
    "    print(i)\n",
    "    print(\"di bawah break\")\n",
    "        "
   ]
  },
  {
   "cell_type": "code",
   "execution_count": 88,
   "id": "80368e36",
   "metadata": {},
   "outputs": [
    {
     "name": "stdout",
     "output_type": "stream",
     "text": [
      "0\n",
      "di bawah break\n",
      "1\n",
      "di bawah break\n",
      "2\n",
      "di bawah break\n",
      "3\n",
      "di bawah break\n"
     ]
    }
   ],
   "source": [
    "for i in range(0,10):\n",
    "    if i == 4:\n",
    "        break\n",
    "    print(i)\n",
    "    print(\"di bawah break\")\n",
    "else:\n",
    "    print(\"Done.\")"
   ]
  },
  {
   "cell_type": "code",
   "execution_count": null,
   "id": "9f9e56b2",
   "metadata": {},
   "outputs": [],
   "source": []
  }
 ],
 "metadata": {
  "kernelspec": {
   "display_name": "Python 3 (ipykernel)",
   "language": "python",
   "name": "python3"
  },
  "language_info": {
   "codemirror_mode": {
    "name": "ipython",
    "version": 3
   },
   "file_extension": ".py",
   "mimetype": "text/x-python",
   "name": "python",
   "nbconvert_exporter": "python",
   "pygments_lexer": "ipython3",
   "version": "3.8.17"
  }
 },
 "nbformat": 4,
 "nbformat_minor": 5
}
