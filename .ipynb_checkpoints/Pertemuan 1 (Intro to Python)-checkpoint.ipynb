{
 "cells": [
  {
   "cell_type": "markdown",
   "id": "e6d8f89a",
   "metadata": {},
   "source": [
    "# Tipe Data\n",
    "\n",
    "## Integer (Bilangan Bulat)"
   ]
  },
  {
   "cell_type": "code",
   "execution_count": 1,
   "id": "c209f72a",
   "metadata": {},
   "outputs": [
    {
     "data": {
      "text/plain": [
       "15"
      ]
     },
     "execution_count": 1,
     "metadata": {},
     "output_type": "execute_result"
    }
   ],
   "source": [
    "10 + 5"
   ]
  },
  {
   "cell_type": "code",
   "execution_count": 2,
   "id": "ea0fa49b",
   "metadata": {},
   "outputs": [
    {
     "data": {
      "text/plain": [
       "28"
      ]
     },
     "execution_count": 2,
     "metadata": {},
     "output_type": "execute_result"
    }
   ],
   "source": [
    "7*4"
   ]
  },
  {
   "cell_type": "code",
   "execution_count": 3,
   "id": "4dc4cf4e",
   "metadata": {},
   "outputs": [
    {
     "data": {
      "text/plain": [
       "0.8571428571428571"
      ]
     },
     "execution_count": 3,
     "metadata": {},
     "output_type": "execute_result"
    }
   ],
   "source": [
    "6/7"
   ]
  },
  {
   "cell_type": "code",
   "execution_count": 7,
   "id": "f12edbff",
   "metadata": {},
   "outputs": [
    {
     "name": "stdout",
     "output_type": "stream",
     "text": [
      "<class 'int'>\n"
     ]
    }
   ],
   "source": [
    "print(type(10))"
   ]
  },
  {
   "cell_type": "markdown",
   "id": "5c5a374e",
   "metadata": {},
   "source": [
    "## Float"
   ]
  },
  {
   "cell_type": "code",
   "execution_count": 8,
   "id": "7d27a9d8",
   "metadata": {},
   "outputs": [
    {
     "name": "stdout",
     "output_type": "stream",
     "text": [
      "<class 'float'>\n"
     ]
    }
   ],
   "source": [
    "print(type(0.8571428571428571))"
   ]
  },
  {
   "cell_type": "code",
   "execution_count": 9,
   "id": "77bfcc69",
   "metadata": {},
   "outputs": [
    {
     "data": {
      "text/plain": [
       "0.8571428571428571"
      ]
     },
     "execution_count": 9,
     "metadata": {},
     "output_type": "execute_result"
    }
   ],
   "source": [
    "0.8571428571428571"
   ]
  },
  {
   "cell_type": "markdown",
   "id": "26e04add",
   "metadata": {},
   "source": [
    "## String"
   ]
  },
  {
   "cell_type": "code",
   "execution_count": 12,
   "id": "bd931174",
   "metadata": {},
   "outputs": [
    {
     "name": "stdout",
     "output_type": "stream",
     "text": [
      "Agus10\n"
     ]
    }
   ],
   "source": [
    "print(\"Agus10\")"
   ]
  },
  {
   "cell_type": "code",
   "execution_count": 13,
   "id": "f8665091",
   "metadata": {},
   "outputs": [
    {
     "name": "stdout",
     "output_type": "stream",
     "text": [
      "<class 'str'>\n"
     ]
    }
   ],
   "source": [
    "print(type(\"Agus10\"))"
   ]
  },
  {
   "cell_type": "code",
   "execution_count": 14,
   "id": "aa280f63",
   "metadata": {},
   "outputs": [
    {
     "name": "stdout",
     "output_type": "stream",
     "text": [
      "Agus10\n"
     ]
    }
   ],
   "source": [
    "print('Agus10')"
   ]
  },
  {
   "cell_type": "code",
   "execution_count": 17,
   "id": "0c15d327",
   "metadata": {},
   "outputs": [
    {
     "name": "stdout",
     "output_type": "stream",
     "text": [
      "\"\"\n"
     ]
    }
   ],
   "source": [
    "print('\"\"')"
   ]
  },
  {
   "cell_type": "code",
   "execution_count": 18,
   "id": "247cd8c1",
   "metadata": {},
   "outputs": [
    {
     "name": "stdout",
     "output_type": "stream",
     "text": [
      "a\n"
     ]
    }
   ],
   "source": [
    "print(\"a\")"
   ]
  },
  {
   "cell_type": "code",
   "execution_count": 19,
   "id": "cc0a2cfa",
   "metadata": {},
   "outputs": [
    {
     "name": "stdout",
     "output_type": "stream",
     "text": [
      "\n"
     ]
    }
   ],
   "source": [
    "print('')"
   ]
  },
  {
   "cell_type": "code",
   "execution_count": 20,
   "id": "665ca4d0",
   "metadata": {},
   "outputs": [
    {
     "name": "stdout",
     "output_type": "stream",
     "text": [
      "<class 'str'>\n"
     ]
    }
   ],
   "source": [
    "print(type(''))"
   ]
  },
  {
   "cell_type": "markdown",
   "id": "7e1baa8c",
   "metadata": {},
   "source": [
    "## Boolean"
   ]
  },
  {
   "cell_type": "code",
   "execution_count": 22,
   "id": "1bcefce0",
   "metadata": {},
   "outputs": [
    {
     "name": "stdout",
     "output_type": "stream",
     "text": [
      "True\n",
      "False\n"
     ]
    }
   ],
   "source": [
    "print(True)\n",
    "print(False)"
   ]
  },
  {
   "cell_type": "code",
   "execution_count": 24,
   "id": "e9313577",
   "metadata": {},
   "outputs": [
    {
     "name": "stdout",
     "output_type": "stream",
     "text": [
      "<class 'bool'>\n",
      "<class 'bool'>\n"
     ]
    }
   ],
   "source": [
    "print(type(True))\n",
    "print(type(False))"
   ]
  },
  {
   "cell_type": "markdown",
   "id": "5e5f7aef",
   "metadata": {},
   "source": [
    "# Variable"
   ]
  },
  {
   "cell_type": "code",
   "execution_count": 25,
   "id": "daf36d75",
   "metadata": {},
   "outputs": [],
   "source": [
    "n = 100"
   ]
  },
  {
   "cell_type": "code",
   "execution_count": 26,
   "id": "f1179f7d",
   "metadata": {},
   "outputs": [
    {
     "name": "stdout",
     "output_type": "stream",
     "text": [
      "100\n"
     ]
    }
   ],
   "source": [
    "print(n)"
   ]
  },
  {
   "cell_type": "code",
   "execution_count": 28,
   "id": "516e035c",
   "metadata": {},
   "outputs": [
    {
     "name": "stdout",
     "output_type": "stream",
     "text": [
      "50.0\n",
      "50\n"
     ]
    }
   ],
   "source": [
    "print(n/2)\n",
    "print(n//2)"
   ]
  },
  {
   "cell_type": "code",
   "execution_count": 30,
   "id": "e91decac",
   "metadata": {},
   "outputs": [
    {
     "data": {
      "text/plain": [
       "90"
      ]
     },
     "execution_count": 30,
     "metadata": {},
     "output_type": "execute_result"
    }
   ],
   "source": [
    "n - 10"
   ]
  },
  {
   "cell_type": "code",
   "execution_count": 31,
   "id": "c411eccb",
   "metadata": {},
   "outputs": [],
   "source": [
    "n = 2000"
   ]
  },
  {
   "cell_type": "code",
   "execution_count": 32,
   "id": "da1ed315",
   "metadata": {},
   "outputs": [
    {
     "data": {
      "text/plain": [
       "2000"
      ]
     },
     "execution_count": 32,
     "metadata": {},
     "output_type": "execute_result"
    }
   ],
   "source": [
    "n"
   ]
  },
  {
   "cell_type": "code",
   "execution_count": 33,
   "id": "3b5ca504",
   "metadata": {},
   "outputs": [
    {
     "name": "stdout",
     "output_type": "stream",
     "text": [
      "1000.0\n",
      "1000\n"
     ]
    }
   ],
   "source": [
    "print(n/2)\n",
    "print(n//2)"
   ]
  },
  {
   "cell_type": "code",
   "execution_count": 34,
   "id": "4a7c3e27",
   "metadata": {},
   "outputs": [],
   "source": [
    "a = b = c = 2000"
   ]
  },
  {
   "cell_type": "code",
   "execution_count": 36,
   "id": "89eda296",
   "metadata": {},
   "outputs": [
    {
     "data": {
      "text/plain": [
       "2000"
      ]
     },
     "execution_count": 36,
     "metadata": {},
     "output_type": "execute_result"
    }
   ],
   "source": [
    "a"
   ]
  },
  {
   "cell_type": "code",
   "execution_count": 37,
   "id": "9abc7a8a",
   "metadata": {},
   "outputs": [
    {
     "name": "stdout",
     "output_type": "stream",
     "text": [
      "<class 'int'>\n"
     ]
    }
   ],
   "source": [
    "print(type(a))"
   ]
  },
  {
   "cell_type": "code",
   "execution_count": 38,
   "id": "0e5eec52",
   "metadata": {},
   "outputs": [],
   "source": [
    "a =  b / 3"
   ]
  },
  {
   "cell_type": "code",
   "execution_count": 39,
   "id": "3ec13d37",
   "metadata": {},
   "outputs": [
    {
     "data": {
      "text/plain": [
       "666.6666666666666"
      ]
     },
     "execution_count": 39,
     "metadata": {},
     "output_type": "execute_result"
    }
   ],
   "source": [
    "a"
   ]
  },
  {
   "cell_type": "code",
   "execution_count": 40,
   "id": "2384565f",
   "metadata": {},
   "outputs": [
    {
     "name": "stdout",
     "output_type": "stream",
     "text": [
      "<class 'float'>\n"
     ]
    }
   ],
   "source": [
    "print(type(a))"
   ]
  },
  {
   "cell_type": "code",
   "execution_count": 41,
   "id": "3db4c288",
   "metadata": {},
   "outputs": [],
   "source": [
    "a = \"String a\""
   ]
  },
  {
   "cell_type": "code",
   "execution_count": 43,
   "id": "2dacfcfd",
   "metadata": {},
   "outputs": [
    {
     "name": "stdout",
     "output_type": "stream",
     "text": [
      "<class 'str'>\n"
     ]
    }
   ],
   "source": [
    "print(type(a))"
   ]
  },
  {
   "cell_type": "code",
   "execution_count": 51,
   "id": "bdc5eccd",
   "metadata": {},
   "outputs": [
    {
     "name": "stdout",
     "output_type": "stream",
     "text": [
      "Agus 18 True\n"
     ]
    }
   ],
   "source": [
    "nama = \"Agus\"\n",
    "umur = 18\n",
    "has_laptops = True\n",
    "\n",
    "print(nama, umur, has_laptops)"
   ]
  },
  {
   "cell_type": "code",
   "execution_count": 48,
   "id": "1237a26a",
   "metadata": {},
   "outputs": [],
   "source": [
    "_nama = \"Budi\""
   ]
  },
  {
   "cell_type": "code",
   "execution_count": 49,
   "id": "e93f029b",
   "metadata": {},
   "outputs": [
    {
     "data": {
      "text/plain": [
       "'Budi'"
      ]
     },
     "execution_count": 49,
     "metadata": {},
     "output_type": "execute_result"
    }
   ],
   "source": [
    "_nama"
   ]
  },
  {
   "cell_type": "code",
   "execution_count": 52,
   "id": "b390ade8",
   "metadata": {},
   "outputs": [],
   "source": [
    "jumlahSiswaKelasTiga = 100"
   ]
  },
  {
   "cell_type": "code",
   "execution_count": 53,
   "id": "3acf740a",
   "metadata": {},
   "outputs": [
    {
     "data": {
      "text/plain": [
       "100"
      ]
     },
     "execution_count": 53,
     "metadata": {},
     "output_type": "execute_result"
    }
   ],
   "source": [
    "jumlahSiswaKelasTiga"
   ]
  },
  {
   "cell_type": "markdown",
   "id": "13b4cfd4",
   "metadata": {},
   "source": [
    "# Operators"
   ]
  },
  {
   "cell_type": "code",
   "execution_count": 54,
   "id": "70e31b55",
   "metadata": {},
   "outputs": [],
   "source": [
    "a = 10\n",
    "b = 15"
   ]
  },
  {
   "cell_type": "code",
   "execution_count": 55,
   "id": "eb5f06dd",
   "metadata": {},
   "outputs": [
    {
     "data": {
      "text/plain": [
       "25"
      ]
     },
     "execution_count": 55,
     "metadata": {},
     "output_type": "execute_result"
    }
   ],
   "source": [
    "a + b"
   ]
  },
  {
   "cell_type": "code",
   "execution_count": 57,
   "id": "2c864eb5",
   "metadata": {},
   "outputs": [
    {
     "data": {
      "text/plain": [
       "20"
      ]
     },
     "execution_count": 57,
     "metadata": {},
     "output_type": "execute_result"
    }
   ],
   "source": [
    "a + b - 5"
   ]
  },
  {
   "cell_type": "code",
   "execution_count": 59,
   "id": "09ea55b5",
   "metadata": {},
   "outputs": [
    {
     "data": {
      "text/plain": [
       "5"
      ]
     },
     "execution_count": 59,
     "metadata": {},
     "output_type": "execute_result"
    }
   ],
   "source": [
    "a + b - 5 * 4"
   ]
  },
  {
   "cell_type": "code",
   "execution_count": 60,
   "id": "69d695fb",
   "metadata": {},
   "outputs": [
    {
     "data": {
      "text/plain": [
       "50"
      ]
     },
     "execution_count": 60,
     "metadata": {},
     "output_type": "execute_result"
    }
   ],
   "source": [
    "a + (b - 5) * 4"
   ]
  },
  {
   "cell_type": "code",
   "execution_count": 61,
   "id": "e661eef5",
   "metadata": {},
   "outputs": [
    {
     "data": {
      "text/plain": [
       "0.6666666666666666"
      ]
     },
     "execution_count": 61,
     "metadata": {},
     "output_type": "execute_result"
    }
   ],
   "source": [
    "a/b"
   ]
  },
  {
   "cell_type": "code",
   "execution_count": 62,
   "id": "197a2c66",
   "metadata": {},
   "outputs": [
    {
     "data": {
      "text/plain": [
       "1.5"
      ]
     },
     "execution_count": 62,
     "metadata": {},
     "output_type": "execute_result"
    }
   ],
   "source": [
    "b/a"
   ]
  },
  {
   "cell_type": "code",
   "execution_count": 64,
   "id": "f97d1a6d",
   "metadata": {},
   "outputs": [
    {
     "data": {
      "text/plain": [
       "2"
      ]
     },
     "execution_count": 64,
     "metadata": {},
     "output_type": "execute_result"
    }
   ],
   "source": [
    "b//a"
   ]
  },
  {
   "cell_type": "code",
   "execution_count": 65,
   "id": "fe162658",
   "metadata": {},
   "outputs": [
    {
     "data": {
      "text/plain": [
       "5"
      ]
     },
     "execution_count": 65,
     "metadata": {},
     "output_type": "execute_result"
    }
   ],
   "source": [
    "b % a"
   ]
  },
  {
   "cell_type": "code",
   "execution_count": 66,
   "id": "557e872c",
   "metadata": {},
   "outputs": [
    {
     "data": {
      "text/plain": [
       "1000000000000000"
      ]
     },
     "execution_count": 66,
     "metadata": {},
     "output_type": "execute_result"
    }
   ],
   "source": [
    "a ** b"
   ]
  },
  {
   "cell_type": "code",
   "execution_count": null,
   "id": "f22493b8",
   "metadata": {},
   "outputs": [],
   "source": []
  },
  {
   "cell_type": "code",
   "execution_count": 71,
   "id": "aff0483b",
   "metadata": {},
   "outputs": [
    {
     "name": "stdout",
     "output_type": "stream",
     "text": [
      "False\n",
      "True\n",
      "True\n",
      "False\n",
      "True\n",
      "False\n"
     ]
    }
   ],
   "source": [
    "a = 10\n",
    "b = 20\n",
    "\n",
    "print(a == b)\n",
    "print(a != b)\n",
    "print(a <= b)\n",
    "print(a >= b)\n",
    "print(a < b)\n",
    "print(a > b)"
   ]
  },
  {
   "cell_type": "code",
   "execution_count": 72,
   "id": "cc46e96b",
   "metadata": {},
   "outputs": [
    {
     "data": {
      "text/plain": [
       "True"
      ]
     },
     "execution_count": 72,
     "metadata": {},
     "output_type": "execute_result"
    }
   ],
   "source": [
    "10 >= 10"
   ]
  },
  {
   "cell_type": "code",
   "execution_count": 73,
   "id": "8e65c820",
   "metadata": {},
   "outputs": [
    {
     "data": {
      "text/plain": [
       "False"
      ]
     },
     "execution_count": 73,
     "metadata": {},
     "output_type": "execute_result"
    }
   ],
   "source": [
    "10 > 10"
   ]
  },
  {
   "cell_type": "code",
   "execution_count": null,
   "id": "5b04f694",
   "metadata": {},
   "outputs": [],
   "source": []
  },
  {
   "cell_type": "code",
   "execution_count": 74,
   "id": "3b4de752",
   "metadata": {},
   "outputs": [],
   "source": [
    "s = \"string\"\n",
    "t = \"tatatat\"\n",
    "u = \"uzuzuzuz\""
   ]
  },
  {
   "cell_type": "code",
   "execution_count": 78,
   "id": "16f7a0ca",
   "metadata": {},
   "outputs": [
    {
     "name": "stdout",
     "output_type": "stream",
     "text": [
      "string tatatat\n"
     ]
    }
   ],
   "source": [
    "print(s + \" \" + t)"
   ]
  },
  {
   "cell_type": "code",
   "execution_count": 79,
   "id": "81bef42c",
   "metadata": {},
   "outputs": [
    {
     "data": {
      "text/plain": [
       "'stringtatatatuzuzuzuz'"
      ]
     },
     "execution_count": 79,
     "metadata": {},
     "output_type": "execute_result"
    }
   ],
   "source": [
    "s + t + u"
   ]
  },
  {
   "cell_type": "code",
   "execution_count": 80,
   "id": "ec3c24b4",
   "metadata": {},
   "outputs": [],
   "source": [
    "s = \"abc.\""
   ]
  },
  {
   "cell_type": "code",
   "execution_count": 81,
   "id": "31f80987",
   "metadata": {},
   "outputs": [
    {
     "data": {
      "text/plain": [
       "'abc.abc.abc.abc.abc.'"
      ]
     },
     "execution_count": 81,
     "metadata": {},
     "output_type": "execute_result"
    }
   ],
   "source": [
    "s * 5"
   ]
  },
  {
   "cell_type": "code",
   "execution_count": 83,
   "id": "80a86653",
   "metadata": {},
   "outputs": [
    {
     "name": "stdout",
     "output_type": "stream",
     "text": [
      "True\n",
      "False\n"
     ]
    }
   ],
   "source": [
    "s = 'foo'\n",
    "\n",
    "print(s in \"That food is good\")\n",
    "print(s in \"That soup is good\")"
   ]
  },
  {
   "cell_type": "code",
   "execution_count": 92,
   "id": "780b8837",
   "metadata": {},
   "outputs": [
    {
     "name": "stdout",
     "output_type": "stream",
     "text": [
      "String kedua\n",
      "string kedua\n",
      "STRinG KeDUa\n",
      "String Kedua\n",
      "STRING KEDUA\n"
     ]
    }
   ],
   "source": [
    "s = \"strINg kEduA\"\n",
    "\n",
    "print(s.capitalize())\n",
    "print(s.lower())\n",
    "print(s.swapcase())\n",
    "print(s.title())\n",
    "print(s.upper())"
   ]
  },
  {
   "cell_type": "code",
   "execution_count": null,
   "id": "fa10c52d",
   "metadata": {},
   "outputs": [],
   "source": []
  },
  {
   "cell_type": "code",
   "execution_count": 94,
   "id": "8e5b4990",
   "metadata": {},
   "outputs": [],
   "source": [
    "nama_peserta_kelas = [\"Agus\", \"Budi\", \"Cinta\", \"Dono\", \"Erwin\"]"
   ]
  },
  {
   "cell_type": "code",
   "execution_count": 96,
   "id": "1d5ecd45",
   "metadata": {},
   "outputs": [
    {
     "name": "stdout",
     "output_type": "stream",
     "text": [
      "['Agus', 'Budi', 'Cinta', 'Dono', 'Erwin']\n"
     ]
    }
   ],
   "source": [
    "print(nama_peserta_kelas)"
   ]
  },
  {
   "cell_type": "code",
   "execution_count": 97,
   "id": "3568d65e",
   "metadata": {},
   "outputs": [],
   "source": [
    "nama_peserta_kelas_2 = [\"Budi\", \"Agus\", \"Cinta\", \"Erwin\", \"Dono\"]"
   ]
  },
  {
   "cell_type": "code",
   "execution_count": 100,
   "id": "1cc667b8",
   "metadata": {},
   "outputs": [
    {
     "data": {
      "text/plain": [
       "False"
      ]
     },
     "execution_count": 100,
     "metadata": {},
     "output_type": "execute_result"
    }
   ],
   "source": [
    "nama_peserta_kelas == nama_peserta_kelas_2"
   ]
  },
  {
   "cell_type": "code",
   "execution_count": 101,
   "id": "3da6af7e",
   "metadata": {},
   "outputs": [],
   "source": [
    "data_siswa = [\"Agus\", 10, 8.7, \"Jl. Sudirman\", True]"
   ]
  },
  {
   "cell_type": "code",
   "execution_count": 102,
   "id": "3bac74dd",
   "metadata": {},
   "outputs": [
    {
     "data": {
      "text/plain": [
       "['Agus', 10, 8.7, 'Jl. Sudirman', True]"
      ]
     },
     "execution_count": 102,
     "metadata": {},
     "output_type": "execute_result"
    }
   ],
   "source": [
    "data_siswa"
   ]
  },
  {
   "cell_type": "code",
   "execution_count": 105,
   "id": "e66a9467",
   "metadata": {},
   "outputs": [
    {
     "data": {
      "text/plain": [
       "'Budi'"
      ]
     },
     "execution_count": 105,
     "metadata": {},
     "output_type": "execute_result"
    }
   ],
   "source": [
    "nama_peserta_kelas[1]"
   ]
  },
  {
   "cell_type": "code",
   "execution_count": 106,
   "id": "cc20d504",
   "metadata": {},
   "outputs": [
    {
     "data": {
      "text/plain": [
       "'Agus'"
      ]
     },
     "execution_count": 106,
     "metadata": {},
     "output_type": "execute_result"
    }
   ],
   "source": [
    "nama_peserta_kelas[0]"
   ]
  },
  {
   "cell_type": "code",
   "execution_count": 109,
   "id": "ecfda322",
   "metadata": {},
   "outputs": [
    {
     "data": {
      "text/plain": [
       "'Cinta'"
      ]
     },
     "execution_count": 109,
     "metadata": {},
     "output_type": "execute_result"
    }
   ],
   "source": [
    "nama_peserta_kelas[-3]"
   ]
  },
  {
   "cell_type": "code",
   "execution_count": 110,
   "id": "e03fd9df",
   "metadata": {},
   "outputs": [
    {
     "data": {
      "text/plain": [
       "['Agus', 'Budi', 'Cinta', 'Dono', 'Erwin']"
      ]
     },
     "execution_count": 110,
     "metadata": {},
     "output_type": "execute_result"
    }
   ],
   "source": [
    "nama_peserta_kelas"
   ]
  },
  {
   "cell_type": "code",
   "execution_count": 114,
   "id": "dc5610d5",
   "metadata": {},
   "outputs": [
    {
     "data": {
      "text/plain": [
       "['Budi', 'Cinta', 'Dono']"
      ]
     },
     "execution_count": 114,
     "metadata": {},
     "output_type": "execute_result"
    }
   ],
   "source": [
    "nama_peserta_kelas[1:4]"
   ]
  },
  {
   "cell_type": "code",
   "execution_count": 116,
   "id": "a96ca3f1",
   "metadata": {},
   "outputs": [],
   "source": [
    "# lst[n:m] # darin index n sampai m-1"
   ]
  },
  {
   "cell_type": "code",
   "execution_count": 120,
   "id": "2966bcd9",
   "metadata": {},
   "outputs": [],
   "source": [
    "nama_peserta_kelas = nama_peserta_kelas + [\"Fikri\", \"Gina\"]"
   ]
  },
  {
   "cell_type": "code",
   "execution_count": 121,
   "id": "3646efdf",
   "metadata": {},
   "outputs": [
    {
     "data": {
      "text/plain": [
       "['Agus', 'Budi', 'Cinta', 'Dono', 'Erwin', 'Fikri', 'Gina']"
      ]
     },
     "execution_count": 121,
     "metadata": {},
     "output_type": "execute_result"
    }
   ],
   "source": [
    "nama_peserta_kelas"
   ]
  },
  {
   "cell_type": "code",
   "execution_count": 124,
   "id": "9a4f7f23",
   "metadata": {},
   "outputs": [
    {
     "data": {
      "text/plain": [
       "['Agus',\n",
       " 'Budi',\n",
       " 'Cinta',\n",
       " 'Dono',\n",
       " 'Erwin',\n",
       " 'Fikri',\n",
       " 'Gina',\n",
       " 'Agus',\n",
       " 'Budi',\n",
       " 'Cinta',\n",
       " 'Dono',\n",
       " 'Erwin',\n",
       " 'Fikri',\n",
       " 'Gina']"
      ]
     },
     "execution_count": 124,
     "metadata": {},
     "output_type": "execute_result"
    }
   ],
   "source": [
    "nama_peserta_kelas * 2"
   ]
  },
  {
   "cell_type": "code",
   "execution_count": 125,
   "id": "c0306b40",
   "metadata": {},
   "outputs": [
    {
     "name": "stdout",
     "output_type": "stream",
     "text": [
      "7\n"
     ]
    }
   ],
   "source": [
    "print(len(nama_peserta_kelas))"
   ]
  },
  {
   "cell_type": "code",
   "execution_count": 126,
   "id": "c73a2427",
   "metadata": {},
   "outputs": [
    {
     "data": {
      "text/plain": [
       "'Gina'"
      ]
     },
     "execution_count": 126,
     "metadata": {},
     "output_type": "execute_result"
    }
   ],
   "source": [
    "max(nama_peserta_kelas)"
   ]
  },
  {
   "cell_type": "code",
   "execution_count": 127,
   "id": "99277f94",
   "metadata": {},
   "outputs": [
    {
     "data": {
      "text/plain": [
       "'Agus'"
      ]
     },
     "execution_count": 127,
     "metadata": {},
     "output_type": "execute_result"
    }
   ],
   "source": [
    "min(nama_peserta_kelas)"
   ]
  },
  {
   "cell_type": "code",
   "execution_count": 128,
   "id": "c335ecfa",
   "metadata": {},
   "outputs": [],
   "source": [
    "l = [10,20,100, 4, 5 ,90]"
   ]
  },
  {
   "cell_type": "code",
   "execution_count": 130,
   "id": "3846f89e",
   "metadata": {},
   "outputs": [
    {
     "data": {
      "text/plain": [
       "100"
      ]
     },
     "execution_count": 130,
     "metadata": {},
     "output_type": "execute_result"
    }
   ],
   "source": [
    "max(l)"
   ]
  },
  {
   "cell_type": "code",
   "execution_count": 131,
   "id": "2ad0141c",
   "metadata": {},
   "outputs": [
    {
     "data": {
      "text/plain": [
       "4"
      ]
     },
     "execution_count": 131,
     "metadata": {},
     "output_type": "execute_result"
    }
   ],
   "source": [
    "min(l)"
   ]
  },
  {
   "cell_type": "code",
   "execution_count": 132,
   "id": "9a46640a",
   "metadata": {},
   "outputs": [
    {
     "data": {
      "text/plain": [
       "['Agus', 'Budi', 'Cinta', 'Dono', 'Erwin', 'Fikri', 'Gina']"
      ]
     },
     "execution_count": 132,
     "metadata": {},
     "output_type": "execute_result"
    }
   ],
   "source": [
    "nama_peserta_kelas"
   ]
  },
  {
   "cell_type": "code",
   "execution_count": 133,
   "id": "0397d148",
   "metadata": {},
   "outputs": [],
   "source": [
    "nama_peserta_kelas[0] = \"Andi\""
   ]
  },
  {
   "cell_type": "code",
   "execution_count": 134,
   "id": "4443836d",
   "metadata": {},
   "outputs": [
    {
     "data": {
      "text/plain": [
       "['Andi', 'Budi', 'Cinta', 'Dono', 'Erwin', 'Fikri', 'Gina']"
      ]
     },
     "execution_count": 134,
     "metadata": {},
     "output_type": "execute_result"
    }
   ],
   "source": [
    "nama_peserta_kelas"
   ]
  },
  {
   "cell_type": "code",
   "execution_count": 135,
   "id": "0fb351a6",
   "metadata": {},
   "outputs": [],
   "source": [
    "nama_peserta_kelas[-1] = \"Gigi\""
   ]
  },
  {
   "cell_type": "code",
   "execution_count": 136,
   "id": "e80c4a48",
   "metadata": {},
   "outputs": [
    {
     "data": {
      "text/plain": [
       "['Andi', 'Budi', 'Cinta', 'Dono', 'Erwin', 'Fikri', 'Gigi']"
      ]
     },
     "execution_count": 136,
     "metadata": {},
     "output_type": "execute_result"
    }
   ],
   "source": [
    "nama_peserta_kelas"
   ]
  },
  {
   "cell_type": "code",
   "execution_count": 137,
   "id": "2228b066",
   "metadata": {},
   "outputs": [],
   "source": [
    "del nama_peserta_kelas[3]"
   ]
  },
  {
   "cell_type": "code",
   "execution_count": 138,
   "id": "b7168ae1",
   "metadata": {},
   "outputs": [
    {
     "data": {
      "text/plain": [
       "['Andi', 'Budi', 'Cinta', 'Erwin', 'Fikri', 'Gigi']"
      ]
     },
     "execution_count": 138,
     "metadata": {},
     "output_type": "execute_result"
    }
   ],
   "source": [
    "nama_peserta_kelas"
   ]
  },
  {
   "cell_type": "code",
   "execution_count": 139,
   "id": "f3839514",
   "metadata": {},
   "outputs": [
    {
     "data": {
      "text/plain": [
       "'Erwin'"
      ]
     },
     "execution_count": 139,
     "metadata": {},
     "output_type": "execute_result"
    }
   ],
   "source": [
    "nama_peserta_kelas[3]"
   ]
  },
  {
   "cell_type": "code",
   "execution_count": 141,
   "id": "0ce14529",
   "metadata": {},
   "outputs": [
    {
     "data": {
      "text/plain": [
       "['Cinta', 'Erwin', 'Fikri']"
      ]
     },
     "execution_count": 141,
     "metadata": {},
     "output_type": "execute_result"
    }
   ],
   "source": [
    "nama_peserta_kelas[2:5]"
   ]
  },
  {
   "cell_type": "code",
   "execution_count": 142,
   "id": "18b3d153",
   "metadata": {},
   "outputs": [],
   "source": [
    "nama_peserta_kelas[2:5] = [\"Caca\", \"Eka\", \"Fauzan\"]"
   ]
  },
  {
   "cell_type": "code",
   "execution_count": 143,
   "id": "4e03ec18",
   "metadata": {},
   "outputs": [
    {
     "data": {
      "text/plain": [
       "['Andi', 'Budi', 'Caca', 'Eka', 'Fauzan', 'Gigi']"
      ]
     },
     "execution_count": 143,
     "metadata": {},
     "output_type": "execute_result"
    }
   ],
   "source": [
    "nama_peserta_kelas"
   ]
  },
  {
   "cell_type": "code",
   "execution_count": null,
   "id": "dfd0e0ff",
   "metadata": {},
   "outputs": [],
   "source": []
  },
  {
   "cell_type": "code",
   "execution_count": 144,
   "id": "5e6e836a",
   "metadata": {},
   "outputs": [],
   "source": [
    "t = (10,23)"
   ]
  },
  {
   "cell_type": "code",
   "execution_count": 145,
   "id": "c71061f2",
   "metadata": {},
   "outputs": [
    {
     "name": "stdout",
     "output_type": "stream",
     "text": [
      "(10, 23)\n"
     ]
    }
   ],
   "source": [
    "print(t)"
   ]
  },
  {
   "cell_type": "code",
   "execution_count": 147,
   "id": "457d6243",
   "metadata": {},
   "outputs": [],
   "source": [
    "t = (1,2,3,4,5)"
   ]
  },
  {
   "cell_type": "code",
   "execution_count": 149,
   "id": "982cfbee",
   "metadata": {},
   "outputs": [],
   "source": [
    "t = (10, 7)"
   ]
  },
  {
   "cell_type": "code",
   "execution_count": 150,
   "id": "7d2c1da6",
   "metadata": {},
   "outputs": [],
   "source": [
    "x, y = t"
   ]
  },
  {
   "cell_type": "code",
   "execution_count": 151,
   "id": "89599fcb",
   "metadata": {},
   "outputs": [
    {
     "data": {
      "text/plain": [
       "10"
      ]
     },
     "execution_count": 151,
     "metadata": {},
     "output_type": "execute_result"
    }
   ],
   "source": [
    "x"
   ]
  },
  {
   "cell_type": "code",
   "execution_count": 152,
   "id": "2811b2d6",
   "metadata": {},
   "outputs": [
    {
     "data": {
      "text/plain": [
       "7"
      ]
     },
     "execution_count": 152,
     "metadata": {},
     "output_type": "execute_result"
    }
   ],
   "source": [
    "y"
   ]
  },
  {
   "cell_type": "code",
   "execution_count": null,
   "id": "f1015542",
   "metadata": {},
   "outputs": [],
   "source": [
    "data_siswa = [\"Agus\", 10, 8.7, \"Jl. Sudirman\", True]"
   ]
  },
  {
   "cell_type": "code",
   "execution_count": 153,
   "id": "379fb7be",
   "metadata": {},
   "outputs": [],
   "source": [
    "data_siswa = {\n",
    "    \"nama\": \"Agus\",\n",
    "    \"no_absen\": 10,\n",
    "    \"nilai_akhir\": 8.7,\n",
    "    \"alamat\": \"Jl. Sudirman\",\n",
    "    \"lulus\" : True\n",
    "}"
   ]
  },
  {
   "cell_type": "code",
   "execution_count": 157,
   "id": "6e3c4579",
   "metadata": {},
   "outputs": [
    {
     "data": {
      "text/plain": [
       "8.7"
      ]
     },
     "execution_count": 157,
     "metadata": {},
     "output_type": "execute_result"
    }
   ],
   "source": [
    "data_siswa['nilai_akhir']"
   ]
  },
  {
   "cell_type": "code",
   "execution_count": 158,
   "id": "a8ca7034",
   "metadata": {},
   "outputs": [],
   "source": [
    "data_siswa[\"tanggal_lahir\"] = \"19 Maret 2003\""
   ]
  },
  {
   "cell_type": "code",
   "execution_count": 159,
   "id": "d7e63709",
   "metadata": {},
   "outputs": [
    {
     "data": {
      "text/plain": [
       "{'nama': 'Agus',\n",
       " 'no_absen': 10,\n",
       " 'nilai_akhir': 8.7,\n",
       " 'alamat': 'Jl. Sudirman',\n",
       " 'lulus': True,\n",
       " 'tanggal_lahir': '19 Maret 2003'}"
      ]
     },
     "execution_count": 159,
     "metadata": {},
     "output_type": "execute_result"
    }
   ],
   "source": [
    "data_siswa"
   ]
  },
  {
   "cell_type": "code",
   "execution_count": 160,
   "id": "91a9b559",
   "metadata": {},
   "outputs": [
    {
     "data": {
      "text/plain": [
       "'19 Maret 2003'"
      ]
     },
     "execution_count": 160,
     "metadata": {},
     "output_type": "execute_result"
    }
   ],
   "source": [
    "data_siswa['tanggal_lahir']"
   ]
  },
  {
   "cell_type": "code",
   "execution_count": 161,
   "id": "4fe6eb74",
   "metadata": {},
   "outputs": [],
   "source": [
    "data_siswa[\"nilai_akhir\"] = 9.3"
   ]
  },
  {
   "cell_type": "code",
   "execution_count": 162,
   "id": "e468386b",
   "metadata": {},
   "outputs": [
    {
     "data": {
      "text/plain": [
       "{'nama': 'Agus',\n",
       " 'no_absen': 10,\n",
       " 'nilai_akhir': 9.3,\n",
       " 'alamat': 'Jl. Sudirman',\n",
       " 'lulus': True,\n",
       " 'tanggal_lahir': '19 Maret 2003'}"
      ]
     },
     "execution_count": 162,
     "metadata": {},
     "output_type": "execute_result"
    }
   ],
   "source": [
    "data_siswa"
   ]
  },
  {
   "cell_type": "code",
   "execution_count": 163,
   "id": "97709599",
   "metadata": {},
   "outputs": [],
   "source": [
    "del data_siswa['alamat']"
   ]
  },
  {
   "cell_type": "code",
   "execution_count": 164,
   "id": "80d9349a",
   "metadata": {},
   "outputs": [
    {
     "data": {
      "text/plain": [
       "{'nama': 'Agus',\n",
       " 'no_absen': 10,\n",
       " 'nilai_akhir': 9.3,\n",
       " 'lulus': True,\n",
       " 'tanggal_lahir': '19 Maret 2003'}"
      ]
     },
     "execution_count": 164,
     "metadata": {},
     "output_type": "execute_result"
    }
   ],
   "source": [
    "data_siswa"
   ]
  },
  {
   "cell_type": "code",
   "execution_count": 173,
   "id": "3d2d2d96",
   "metadata": {},
   "outputs": [],
   "source": [
    "data_siswa = {}"
   ]
  },
  {
   "cell_type": "code",
   "execution_count": 174,
   "id": "06cb8ac3",
   "metadata": {},
   "outputs": [],
   "source": [
    "data_siswa['nama'] = \"Budi\"\n",
    "data_siswa['no_absen'] = 15"
   ]
  },
  {
   "cell_type": "code",
   "execution_count": 176,
   "id": "1227e1d2",
   "metadata": {},
   "outputs": [],
   "source": [
    "data_siswa['mata_kuliah'] = [\"Fisika\", \"Kalkulus\", \"Kimia\"]"
   ]
  },
  {
   "cell_type": "code",
   "execution_count": 177,
   "id": "fa17813a",
   "metadata": {},
   "outputs": [
    {
     "data": {
      "text/plain": [
       "{'nama': 'Budi',\n",
       " 'no_absen': 15,\n",
       " 'mata_kuliah': ['Fisika', 'Kalkulus', 'Kimia']}"
      ]
     },
     "execution_count": 177,
     "metadata": {},
     "output_type": "execute_result"
    }
   ],
   "source": [
    "data_siswa"
   ]
  },
  {
   "cell_type": "code",
   "execution_count": 179,
   "id": "9d264265",
   "metadata": {},
   "outputs": [
    {
     "data": {
      "text/plain": [
       "'Fisika'"
      ]
     },
     "execution_count": 179,
     "metadata": {},
     "output_type": "execute_result"
    }
   ],
   "source": [
    "data_siswa['mata_kuliah'][0]"
   ]
  },
  {
   "cell_type": "code",
   "execution_count": 181,
   "id": "f7d8885e",
   "metadata": {},
   "outputs": [],
   "source": [
    "data_siswa['nilai'] = {\n",
    "    \"Fisika\": \"A\",\n",
    "    \"Kalkulus\": \"B\",\n",
    "    \"Kimia\": \"B+\"\n",
    "}"
   ]
  },
  {
   "cell_type": "code",
   "execution_count": 183,
   "id": "1ceeaca7",
   "metadata": {},
   "outputs": [
    {
     "data": {
      "text/plain": [
       "'A'"
      ]
     },
     "execution_count": 183,
     "metadata": {},
     "output_type": "execute_result"
    }
   ],
   "source": [
    "data_siswa['nilai'][data_siswa['mata_kuliah'][0]]"
   ]
  },
  {
   "cell_type": "code",
   "execution_count": 184,
   "id": "b9aabb69",
   "metadata": {},
   "outputs": [
    {
     "data": {
      "text/plain": [
       "dict_items([('nama', 'Budi'), ('no_absen', 15), ('mata_kuliah', ['Fisika', 'Kalkulus', 'Kimia']), ('nilai', {'Fisika': 'A', 'Kalkulus': 'B', 'Kimia': 'B+'})])"
      ]
     },
     "execution_count": 184,
     "metadata": {},
     "output_type": "execute_result"
    }
   ],
   "source": [
    "data_siswa.items()"
   ]
  },
  {
   "cell_type": "code",
   "execution_count": 185,
   "id": "530f0fcf",
   "metadata": {},
   "outputs": [
    {
     "data": {
      "text/plain": [
       "dict_keys(['nama', 'no_absen', 'mata_kuliah', 'nilai'])"
      ]
     },
     "execution_count": 185,
     "metadata": {},
     "output_type": "execute_result"
    }
   ],
   "source": [
    "data_siswa.keys()"
   ]
  },
  {
   "cell_type": "code",
   "execution_count": 186,
   "id": "ec7a2cf7",
   "metadata": {},
   "outputs": [
    {
     "data": {
      "text/plain": [
       "dict_values(['Budi', 15, ['Fisika', 'Kalkulus', 'Kimia'], {'Fisika': 'A', 'Kalkulus': 'B', 'Kimia': 'B+'}])"
      ]
     },
     "execution_count": 186,
     "metadata": {},
     "output_type": "execute_result"
    }
   ],
   "source": [
    "data_siswa.values()"
   ]
  },
  {
   "cell_type": "code",
   "execution_count": 188,
   "id": "0c9bf864",
   "metadata": {},
   "outputs": [
    {
     "data": {
      "text/plain": [
       "{'nama': 'Budi',\n",
       " 'no_absen': 15,\n",
       " 'mata_kuliah': ['Fisika', 'Kalkulus', 'Kimia'],\n",
       " 'nilai': {'Fisika': 'A', 'Kalkulus': 'B', 'Kimia': 'B+'}}"
      ]
     },
     "execution_count": 188,
     "metadata": {},
     "output_type": "execute_result"
    }
   ],
   "source": [
    "data_siswa"
   ]
  },
  {
   "cell_type": "code",
   "execution_count": null,
   "id": "b0232745",
   "metadata": {},
   "outputs": [],
   "source": []
  }
 ],
 "metadata": {
  "kernelspec": {
   "display_name": "Python 3 (ipykernel)",
   "language": "python",
   "name": "python3"
  },
  "language_info": {
   "codemirror_mode": {
    "name": "ipython",
    "version": 3
   },
   "file_extension": ".py",
   "mimetype": "text/x-python",
   "name": "python",
   "nbconvert_exporter": "python",
   "pygments_lexer": "ipython3",
   "version": "3.8.17"
  }
 },
 "nbformat": 4,
 "nbformat_minor": 5
}
