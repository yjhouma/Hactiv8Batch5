{
 "cells": [
  {
   "cell_type": "code",
   "execution_count": 1,
   "id": "d4570904",
   "metadata": {},
   "outputs": [],
   "source": [
    "import math\n",
    "import statistics\n",
    "import numpy as np\n",
    "import scipy.stats\n",
    "\n",
    "import pandas as pd\n",
    "\n",
    "\n",
    "import matplotlib as mpl\n",
    "import matplotlib.pyplot as plt\n",
    "import seaborn as sns"
   ]
  },
  {
   "cell_type": "markdown",
   "id": "56abcef1",
   "metadata": {},
   "source": [
    "## Mean"
   ]
  },
  {
   "cell_type": "code",
   "execution_count": 2,
   "id": "2a4c5403",
   "metadata": {},
   "outputs": [],
   "source": [
    "X = np.random.normal(loc=0,scale=1,size=10)"
   ]
  },
  {
   "cell_type": "code",
   "execution_count": 3,
   "id": "fde99d96",
   "metadata": {},
   "outputs": [
    {
     "data": {
      "text/plain": [
       "array([ 1.18208495, -0.04286834,  1.80247852, -0.84138445, -0.50759525,\n",
       "       -1.05393414,  0.59601693,  1.05979839,  0.54229063,  0.04386237])"
      ]
     },
     "execution_count": 3,
     "metadata": {},
     "output_type": "execute_result"
    }
   ],
   "source": [
    "X"
   ]
  },
  {
   "cell_type": "code",
   "execution_count": 4,
   "id": "9444b817",
   "metadata": {},
   "outputs": [
    {
     "data": {
      "text/plain": [
       "0.2780749606317845"
      ]
     },
     "execution_count": 4,
     "metadata": {},
     "output_type": "execute_result"
    }
   ],
   "source": [
    "sum(X)/len(X)"
   ]
  },
  {
   "cell_type": "code",
   "execution_count": 5,
   "id": "28fd036b",
   "metadata": {},
   "outputs": [
    {
     "data": {
      "text/plain": [
       "0.27807496063178455"
      ]
     },
     "execution_count": 5,
     "metadata": {},
     "output_type": "execute_result"
    }
   ],
   "source": [
    "np.mean(X)"
   ]
  },
  {
   "cell_type": "code",
   "execution_count": 6,
   "id": "f9133c2e",
   "metadata": {},
   "outputs": [
    {
     "data": {
      "text/plain": [
       "0.27807496063178455"
      ]
     },
     "execution_count": 6,
     "metadata": {},
     "output_type": "execute_result"
    }
   ],
   "source": [
    "X.mean()"
   ]
  },
  {
   "cell_type": "code",
   "execution_count": 8,
   "id": "df89afb7",
   "metadata": {},
   "outputs": [
    {
     "data": {
      "text/plain": [
       "0.2780749606317845"
      ]
     },
     "execution_count": 8,
     "metadata": {},
     "output_type": "execute_result"
    }
   ],
   "source": [
    "pd.Series(X).mean()"
   ]
  },
  {
   "cell_type": "code",
   "execution_count": 9,
   "id": "a5dc7b27",
   "metadata": {},
   "outputs": [],
   "source": [
    "X[2] = np.nan"
   ]
  },
  {
   "cell_type": "code",
   "execution_count": 10,
   "id": "d62433e3",
   "metadata": {},
   "outputs": [
    {
     "data": {
      "text/plain": [
       "array([ 1.18208495, -0.04286834,         nan, -0.84138445, -0.50759525,\n",
       "       -1.05393414,  0.59601693,  1.05979839,  0.54229063,  0.04386237])"
      ]
     },
     "execution_count": 10,
     "metadata": {},
     "output_type": "execute_result"
    }
   ],
   "source": [
    "X"
   ]
  },
  {
   "cell_type": "code",
   "execution_count": 12,
   "id": "a0c24e09",
   "metadata": {},
   "outputs": [
    {
     "data": {
      "text/plain": [
       "nan"
      ]
     },
     "execution_count": 12,
     "metadata": {},
     "output_type": "execute_result"
    }
   ],
   "source": [
    "sum(X)/len(X)"
   ]
  },
  {
   "cell_type": "code",
   "execution_count": 13,
   "id": "521b62b6",
   "metadata": {},
   "outputs": [
    {
     "data": {
      "text/plain": [
       "nan"
      ]
     },
     "execution_count": 13,
     "metadata": {},
     "output_type": "execute_result"
    }
   ],
   "source": [
    "X.mean()"
   ]
  },
  {
   "cell_type": "code",
   "execution_count": 14,
   "id": "66a38cca",
   "metadata": {},
   "outputs": [
    {
     "data": {
      "text/plain": [
       "nan"
      ]
     },
     "execution_count": 14,
     "metadata": {},
     "output_type": "execute_result"
    }
   ],
   "source": [
    "np.mean(X)"
   ]
  },
  {
   "cell_type": "code",
   "execution_count": 15,
   "id": "0620abfe",
   "metadata": {},
   "outputs": [
    {
     "data": {
      "text/plain": [
       "0.10869678717555883"
      ]
     },
     "execution_count": 15,
     "metadata": {},
     "output_type": "execute_result"
    }
   ],
   "source": [
    "pd.Series(X).mean()"
   ]
  },
  {
   "cell_type": "markdown",
   "id": "cc9ca272",
   "metadata": {},
   "source": [
    "## Median"
   ]
  },
  {
   "cell_type": "code",
   "execution_count": 16,
   "id": "4de94163",
   "metadata": {},
   "outputs": [],
   "source": [
    "X = np.random.normal(loc=0,scale=1,size=10)"
   ]
  },
  {
   "cell_type": "code",
   "execution_count": 17,
   "id": "0b6666e9",
   "metadata": {},
   "outputs": [
    {
     "data": {
      "text/plain": [
       "-0.3141233438597652"
      ]
     },
     "execution_count": 17,
     "metadata": {},
     "output_type": "execute_result"
    }
   ],
   "source": [
    "np.median(X)"
   ]
  },
  {
   "cell_type": "code",
   "execution_count": 18,
   "id": "28febf09",
   "metadata": {},
   "outputs": [
    {
     "data": {
      "text/plain": [
       "-0.3141233438597652"
      ]
     },
     "execution_count": 18,
     "metadata": {},
     "output_type": "execute_result"
    }
   ],
   "source": [
    "np.quantile(X,0.5)"
   ]
  },
  {
   "cell_type": "code",
   "execution_count": 19,
   "id": "a88c9d23",
   "metadata": {},
   "outputs": [
    {
     "data": {
      "text/plain": [
       "-0.3141233438597652"
      ]
     },
     "execution_count": 19,
     "metadata": {},
     "output_type": "execute_result"
    }
   ],
   "source": [
    "statistics.median(X)"
   ]
  },
  {
   "cell_type": "code",
   "execution_count": 20,
   "id": "86accad9",
   "metadata": {},
   "outputs": [
    {
     "data": {
      "text/plain": [
       "-0.3141233438597652"
      ]
     },
     "execution_count": 20,
     "metadata": {},
     "output_type": "execute_result"
    }
   ],
   "source": [
    "pd.Series(X).median()"
   ]
  },
  {
   "cell_type": "code",
   "execution_count": 21,
   "id": "b17bd96a",
   "metadata": {},
   "outputs": [],
   "source": [
    "X[2] = np.nan"
   ]
  },
  {
   "cell_type": "code",
   "execution_count": 22,
   "id": "6797e13b",
   "metadata": {},
   "outputs": [
    {
     "data": {
      "text/plain": [
       "nan"
      ]
     },
     "execution_count": 22,
     "metadata": {},
     "output_type": "execute_result"
    }
   ],
   "source": [
    "np.median(X)"
   ]
  },
  {
   "cell_type": "code",
   "execution_count": 23,
   "id": "0f5fcd3c",
   "metadata": {},
   "outputs": [
    {
     "data": {
      "text/plain": [
       "-0.6991649622149958"
      ]
     },
     "execution_count": 23,
     "metadata": {},
     "output_type": "execute_result"
    }
   ],
   "source": [
    "statistics.median(X)"
   ]
  },
  {
   "cell_type": "code",
   "execution_count": 24,
   "id": "ef776f56",
   "metadata": {},
   "outputs": [
    {
     "data": {
      "text/plain": [
       "-0.2955224702542422"
      ]
     },
     "execution_count": 24,
     "metadata": {},
     "output_type": "execute_result"
    }
   ],
   "source": [
    "pd.Series(X).median()"
   ]
  },
  {
   "cell_type": "markdown",
   "id": "79bbdc6d",
   "metadata": {},
   "source": [
    "## Mode"
   ]
  },
  {
   "cell_type": "code",
   "execution_count": 32,
   "id": "bedf99b4",
   "metadata": {},
   "outputs": [
    {
     "data": {
      "text/plain": [
       "2"
      ]
     },
     "execution_count": 32,
     "metadata": {},
     "output_type": "execute_result"
    }
   ],
   "source": [
    "X = [1,2,2,2,2,3,3,3,3,4,4,4,4]\n",
    "\n",
    "statistics.mode(X)"
   ]
  },
  {
   "cell_type": "code",
   "execution_count": 33,
   "id": "0854193e",
   "metadata": {},
   "outputs": [
    {
     "data": {
      "text/plain": [
       "ModeResult(mode=array([2]), count=array([4]))"
      ]
     },
     "execution_count": 33,
     "metadata": {},
     "output_type": "execute_result"
    }
   ],
   "source": [
    "scipy.stats.mode(X)"
   ]
  },
  {
   "cell_type": "code",
   "execution_count": 34,
   "id": "74759c73",
   "metadata": {},
   "outputs": [
    {
     "data": {
      "text/plain": [
       "0    2\n",
       "1    3\n",
       "2    4\n",
       "dtype: int64"
      ]
     },
     "execution_count": 34,
     "metadata": {},
     "output_type": "execute_result"
    }
   ],
   "source": [
    "pd.Series(X).mode()"
   ]
  },
  {
   "cell_type": "markdown",
   "id": "be02ee96",
   "metadata": {},
   "source": [
    "## Weighted Mean"
   ]
  },
  {
   "cell_type": "code",
   "execution_count": 47,
   "id": "a2724a97",
   "metadata": {},
   "outputs": [],
   "source": [
    "X = abs(np.random.normal(loc=0,scale=1,size=10))\n",
    "w = abs(np.random.normal(loc=0,scale=1,size=10))"
   ]
  },
  {
   "cell_type": "code",
   "execution_count": 50,
   "id": "79fef1ad",
   "metadata": {},
   "outputs": [
    {
     "data": {
      "text/plain": [
       "0.8617203477302559"
      ]
     },
     "execution_count": 50,
     "metadata": {},
     "output_type": "execute_result"
    }
   ],
   "source": [
    "sum(X*w)/sum(w)"
   ]
  },
  {
   "cell_type": "code",
   "execution_count": 51,
   "id": "9e1ff3e6",
   "metadata": {},
   "outputs": [
    {
     "data": {
      "text/plain": [
       "0.776988378532635"
      ]
     },
     "execution_count": 51,
     "metadata": {},
     "output_type": "execute_result"
    }
   ],
   "source": [
    "X.mean()"
   ]
  },
  {
   "cell_type": "code",
   "execution_count": 52,
   "id": "926453e6",
   "metadata": {},
   "outputs": [
    {
     "data": {
      "text/plain": [
       "0.861720347730256"
      ]
     },
     "execution_count": 52,
     "metadata": {},
     "output_type": "execute_result"
    }
   ],
   "source": [
    "np.average(X,weights=w)"
   ]
  },
  {
   "cell_type": "markdown",
   "id": "1ffc7d2c",
   "metadata": {},
   "source": [
    "## Harmonic Mean"
   ]
  },
  {
   "cell_type": "code",
   "execution_count": 48,
   "id": "3cdcba13",
   "metadata": {},
   "outputs": [
    {
     "data": {
      "text/plain": [
       "0.6321223456625479"
      ]
     },
     "execution_count": 48,
     "metadata": {},
     "output_type": "execute_result"
    }
   ],
   "source": [
    "len(X) / sum(1/x for x in X)"
   ]
  },
  {
   "cell_type": "code",
   "execution_count": 49,
   "id": "a5fe305c",
   "metadata": {},
   "outputs": [
    {
     "data": {
      "text/plain": [
       "0.6321223456625479"
      ]
     },
     "execution_count": 49,
     "metadata": {},
     "output_type": "execute_result"
    }
   ],
   "source": [
    "scipy.stats.hmean(X)"
   ]
  },
  {
   "cell_type": "markdown",
   "id": "52efcd62",
   "metadata": {},
   "source": [
    "## Geometric Mean"
   ]
  },
  {
   "cell_type": "code",
   "execution_count": 54,
   "id": "079626f1",
   "metadata": {},
   "outputs": [
    {
     "data": {
      "text/plain": [
       "0.6976356844183902"
      ]
     },
     "execution_count": 54,
     "metadata": {},
     "output_type": "execute_result"
    }
   ],
   "source": [
    "gmean = 1\n",
    "\n",
    "for x in X:\n",
    "    gmean *= x\n",
    "    \n",
    "gmean**(1/len(X))"
   ]
  },
  {
   "cell_type": "code",
   "execution_count": null,
   "id": "8f1677d3",
   "metadata": {},
   "outputs": [],
   "source": []
  }
 ],
 "metadata": {
  "kernelspec": {
   "display_name": "Python 3 (ipykernel)",
   "language": "python",
   "name": "python3"
  },
  "language_info": {
   "codemirror_mode": {
    "name": "ipython",
    "version": 3
   },
   "file_extension": ".py",
   "mimetype": "text/x-python",
   "name": "python",
   "nbconvert_exporter": "python",
   "pygments_lexer": "ipython3",
   "version": "3.9.12"
  }
 },
 "nbformat": 4,
 "nbformat_minor": 5
}
