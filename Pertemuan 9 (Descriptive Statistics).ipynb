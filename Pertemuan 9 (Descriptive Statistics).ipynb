{
 "cells": [
  {
   "cell_type": "code",
   "execution_count": 1,
   "id": "b03bd0cc",
   "metadata": {},
   "outputs": [],
   "source": [
    "import math\n",
    "import statistics\n",
    "import numpy as np\n",
    "import scipy.stats\n",
    "\n",
    "import pandas as pd\n",
    "\n",
    "\n",
    "import matplotlib as mpl\n",
    "import matplotlib.pyplot as plt\n",
    "import seaborn as sns"
   ]
  },
  {
   "cell_type": "markdown",
   "id": "e1f21e47",
   "metadata": {},
   "source": [
    "## Mean"
   ]
  },
  {
   "cell_type": "code",
   "execution_count": 2,
   "id": "3f563ee4",
   "metadata": {},
   "outputs": [],
   "source": [
    "X = np.random.normal(loc=0,scale=1,size=10)"
   ]
  },
  {
   "cell_type": "code",
   "execution_count": 3,
   "id": "92ac98a5",
   "metadata": {},
   "outputs": [
    {
     "data": {
      "text/plain": [
       "array([ 1.18208495, -0.04286834,  1.80247852, -0.84138445, -0.50759525,\n",
       "       -1.05393414,  0.59601693,  1.05979839,  0.54229063,  0.04386237])"
      ]
     },
     "execution_count": 3,
     "metadata": {},
     "output_type": "execute_result"
    }
   ],
   "source": [
    "X"
   ]
  },
  {
   "cell_type": "code",
   "execution_count": 4,
   "id": "5df33784",
   "metadata": {},
   "outputs": [
    {
     "data": {
      "text/plain": [
       "0.2780749606317845"
      ]
     },
     "execution_count": 4,
     "metadata": {},
     "output_type": "execute_result"
    }
   ],
   "source": [
    "sum(X)/len(X)"
   ]
  },
  {
   "cell_type": "code",
   "execution_count": 5,
   "id": "f57dfe57",
   "metadata": {},
   "outputs": [
    {
     "data": {
      "text/plain": [
       "0.27807496063178455"
      ]
     },
     "execution_count": 5,
     "metadata": {},
     "output_type": "execute_result"
    }
   ],
   "source": [
    "np.mean(X)"
   ]
  },
  {
   "cell_type": "code",
   "execution_count": 6,
   "id": "d63cf724",
   "metadata": {},
   "outputs": [
    {
     "data": {
      "text/plain": [
       "0.27807496063178455"
      ]
     },
     "execution_count": 6,
     "metadata": {},
     "output_type": "execute_result"
    }
   ],
   "source": [
    "X.mean()"
   ]
  },
  {
   "cell_type": "code",
   "execution_count": 8,
   "id": "f5442320",
   "metadata": {},
   "outputs": [
    {
     "data": {
      "text/plain": [
       "0.2780749606317845"
      ]
     },
     "execution_count": 8,
     "metadata": {},
     "output_type": "execute_result"
    }
   ],
   "source": [
    "pd.Series(X).mean()"
   ]
  },
  {
   "cell_type": "code",
   "execution_count": 9,
   "id": "bcf69c89",
   "metadata": {},
   "outputs": [],
   "source": [
    "X[2] = np.nan"
   ]
  },
  {
   "cell_type": "code",
   "execution_count": 10,
   "id": "bebc6fc4",
   "metadata": {},
   "outputs": [
    {
     "data": {
      "text/plain": [
       "array([ 1.18208495, -0.04286834,         nan, -0.84138445, -0.50759525,\n",
       "       -1.05393414,  0.59601693,  1.05979839,  0.54229063,  0.04386237])"
      ]
     },
     "execution_count": 10,
     "metadata": {},
     "output_type": "execute_result"
    }
   ],
   "source": [
    "X"
   ]
  },
  {
   "cell_type": "code",
   "execution_count": 12,
   "id": "70fa313d",
   "metadata": {},
   "outputs": [
    {
     "data": {
      "text/plain": [
       "nan"
      ]
     },
     "execution_count": 12,
     "metadata": {},
     "output_type": "execute_result"
    }
   ],
   "source": [
    "sum(X)/len(X)"
   ]
  },
  {
   "cell_type": "code",
   "execution_count": 13,
   "id": "d1663b9a",
   "metadata": {},
   "outputs": [
    {
     "data": {
      "text/plain": [
       "nan"
      ]
     },
     "execution_count": 13,
     "metadata": {},
     "output_type": "execute_result"
    }
   ],
   "source": [
    "X.mean()"
   ]
  },
  {
   "cell_type": "code",
   "execution_count": 14,
   "id": "05811945",
   "metadata": {},
   "outputs": [
    {
     "data": {
      "text/plain": [
       "nan"
      ]
     },
     "execution_count": 14,
     "metadata": {},
     "output_type": "execute_result"
    }
   ],
   "source": [
    "np.mean(X)"
   ]
  },
  {
   "cell_type": "code",
   "execution_count": 15,
   "id": "251dc625",
   "metadata": {},
   "outputs": [
    {
     "data": {
      "text/plain": [
       "0.10869678717555883"
      ]
     },
     "execution_count": 15,
     "metadata": {},
     "output_type": "execute_result"
    }
   ],
   "source": [
    "pd.Series(X).mean()"
   ]
  },
  {
   "cell_type": "markdown",
   "id": "89a93054",
   "metadata": {},
   "source": [
    "## Median"
   ]
  },
  {
   "cell_type": "code",
   "execution_count": 16,
   "id": "6b4d3d1d",
   "metadata": {},
   "outputs": [],
   "source": [
    "X = np.random.normal(loc=0,scale=1,size=10)"
   ]
  },
  {
   "cell_type": "code",
   "execution_count": 17,
   "id": "f990d2de",
   "metadata": {},
   "outputs": [
    {
     "data": {
      "text/plain": [
       "-0.3141233438597652"
      ]
     },
     "execution_count": 17,
     "metadata": {},
     "output_type": "execute_result"
    }
   ],
   "source": [
    "np.median(X)"
   ]
  },
  {
   "cell_type": "code",
   "execution_count": 18,
   "id": "febf070f",
   "metadata": {},
   "outputs": [
    {
     "data": {
      "text/plain": [
       "-0.3141233438597652"
      ]
     },
     "execution_count": 18,
     "metadata": {},
     "output_type": "execute_result"
    }
   ],
   "source": [
    "np.quantile(X,0.5)"
   ]
  },
  {
   "cell_type": "code",
   "execution_count": 19,
   "id": "0431007c",
   "metadata": {},
   "outputs": [
    {
     "data": {
      "text/plain": [
       "-0.3141233438597652"
      ]
     },
     "execution_count": 19,
     "metadata": {},
     "output_type": "execute_result"
    }
   ],
   "source": [
    "statistics.median(X)"
   ]
  },
  {
   "cell_type": "code",
   "execution_count": 20,
   "id": "a412fe6d",
   "metadata": {},
   "outputs": [
    {
     "data": {
      "text/plain": [
       "-0.3141233438597652"
      ]
     },
     "execution_count": 20,
     "metadata": {},
     "output_type": "execute_result"
    }
   ],
   "source": [
    "pd.Series(X).median()"
   ]
  },
  {
   "cell_type": "code",
   "execution_count": 21,
   "id": "a773ea7d",
   "metadata": {},
   "outputs": [],
   "source": [
    "X[2] = np.nan"
   ]
  },
  {
   "cell_type": "code",
   "execution_count": 22,
   "id": "24a16d43",
   "metadata": {},
   "outputs": [
    {
     "data": {
      "text/plain": [
       "nan"
      ]
     },
     "execution_count": 22,
     "metadata": {},
     "output_type": "execute_result"
    }
   ],
   "source": [
    "np.median(X)"
   ]
  },
  {
   "cell_type": "code",
   "execution_count": 23,
   "id": "9e3e9ea1",
   "metadata": {},
   "outputs": [
    {
     "data": {
      "text/plain": [
       "-0.6991649622149958"
      ]
     },
     "execution_count": 23,
     "metadata": {},
     "output_type": "execute_result"
    }
   ],
   "source": [
    "statistics.median(X)"
   ]
  },
  {
   "cell_type": "code",
   "execution_count": 24,
   "id": "e177a7fe",
   "metadata": {},
   "outputs": [
    {
     "data": {
      "text/plain": [
       "-0.2955224702542422"
      ]
     },
     "execution_count": 24,
     "metadata": {},
     "output_type": "execute_result"
    }
   ],
   "source": [
    "pd.Series(X).median()"
   ]
  },
  {
   "cell_type": "markdown",
   "id": "607404e7",
   "metadata": {},
   "source": [
    "## Mode"
   ]
  },
  {
   "cell_type": "code",
   "execution_count": 32,
   "id": "4c737378",
   "metadata": {},
   "outputs": [
    {
     "data": {
      "text/plain": [
       "2"
      ]
     },
     "execution_count": 32,
     "metadata": {},
     "output_type": "execute_result"
    }
   ],
   "source": [
    "X = [1,2,2,2,2,3,3,3,3,4,4,4,4]\n",
    "\n",
    "statistics.mode(X)"
   ]
  },
  {
   "cell_type": "code",
   "execution_count": 33,
   "id": "8c90aa02",
   "metadata": {},
   "outputs": [
    {
     "data": {
      "text/plain": [
       "ModeResult(mode=array([2]), count=array([4]))"
      ]
     },
     "execution_count": 33,
     "metadata": {},
     "output_type": "execute_result"
    }
   ],
   "source": [
    "scipy.stats.mode(X)"
   ]
  },
  {
   "cell_type": "code",
   "execution_count": 34,
   "id": "b7adab23",
   "metadata": {},
   "outputs": [
    {
     "data": {
      "text/plain": [
       "0    2\n",
       "1    3\n",
       "2    4\n",
       "dtype: int64"
      ]
     },
     "execution_count": 34,
     "metadata": {},
     "output_type": "execute_result"
    }
   ],
   "source": [
    "pd.Series(X).mode()"
   ]
  },
  {
   "cell_type": "markdown",
   "id": "8272e5a4",
   "metadata": {},
   "source": [
    "## Weighted Mean"
   ]
  },
  {
   "cell_type": "code",
   "execution_count": 75,
   "id": "4a9f8042",
   "metadata": {},
   "outputs": [],
   "source": [
    "X = abs(np.random.normal(loc=0,scale=1,size=10))\n",
    "w = abs(np.random.normal(loc=0,scale=1,size=10))"
   ]
  },
  {
   "cell_type": "code",
   "execution_count": 50,
   "id": "8b6ac21b",
   "metadata": {},
   "outputs": [
    {
     "data": {
      "text/plain": [
       "0.8617203477302559"
      ]
     },
     "execution_count": 50,
     "metadata": {},
     "output_type": "execute_result"
    }
   ],
   "source": [
    "sum(X*w)/sum(w)"
   ]
  },
  {
   "cell_type": "code",
   "execution_count": 51,
   "id": "1475d7a9",
   "metadata": {},
   "outputs": [
    {
     "data": {
      "text/plain": [
       "0.776988378532635"
      ]
     },
     "execution_count": 51,
     "metadata": {},
     "output_type": "execute_result"
    }
   ],
   "source": [
    "X.mean()"
   ]
  },
  {
   "cell_type": "code",
   "execution_count": 52,
   "id": "b17712c4",
   "metadata": {},
   "outputs": [
    {
     "data": {
      "text/plain": [
       "0.861720347730256"
      ]
     },
     "execution_count": 52,
     "metadata": {},
     "output_type": "execute_result"
    }
   ],
   "source": [
    "np.average(X,weights=w)"
   ]
  },
  {
   "cell_type": "code",
   "execution_count": 58,
   "id": "4b77e69c",
   "metadata": {},
   "outputs": [
    {
     "data": {
      "text/plain": [
       "0.7956496717978048"
      ]
     },
     "execution_count": 58,
     "metadata": {},
     "output_type": "execute_result"
    }
   ],
   "source": [
    "X.mean()"
   ]
  },
  {
   "cell_type": "markdown",
   "id": "a8b7b247",
   "metadata": {},
   "source": [
    "## Harmonic Mean"
   ]
  },
  {
   "cell_type": "code",
   "execution_count": 59,
   "id": "85c67c36",
   "metadata": {},
   "outputs": [
    {
     "data": {
      "text/plain": [
       "0.07793105754834753"
      ]
     },
     "execution_count": 59,
     "metadata": {},
     "output_type": "execute_result"
    }
   ],
   "source": [
    "len(X) / sum(1/x for x in X)"
   ]
  },
  {
   "cell_type": "code",
   "execution_count": 60,
   "id": "6787c4f7",
   "metadata": {},
   "outputs": [
    {
     "data": {
      "text/plain": [
       "0.07793105754834753"
      ]
     },
     "execution_count": 60,
     "metadata": {},
     "output_type": "execute_result"
    }
   ],
   "source": [
    "scipy.stats.hmean(X)"
   ]
  },
  {
   "cell_type": "markdown",
   "id": "895e62ee",
   "metadata": {},
   "source": [
    "## Geometric Mean"
   ]
  },
  {
   "cell_type": "code",
   "execution_count": 61,
   "id": "60d6a797",
   "metadata": {},
   "outputs": [
    {
     "data": {
      "text/plain": [
       "0.5082810027555665"
      ]
     },
     "execution_count": 61,
     "metadata": {},
     "output_type": "execute_result"
    }
   ],
   "source": [
    "gmean = 1\n",
    "\n",
    "for x in X:\n",
    "    gmean *= x\n",
    "    \n",
    "gmean**(1/len(X))"
   ]
  },
  {
   "cell_type": "code",
   "execution_count": 62,
   "id": "603d0284",
   "metadata": {},
   "outputs": [
    {
     "data": {
      "text/plain": [
       "0.5082810027555666"
      ]
     },
     "execution_count": 62,
     "metadata": {},
     "output_type": "execute_result"
    }
   ],
   "source": [
    "scipy.stats.gmean(X)"
   ]
  },
  {
   "cell_type": "markdown",
   "id": "f9607fe5",
   "metadata": {},
   "source": [
    "## MAD"
   ]
  },
  {
   "cell_type": "code",
   "execution_count": 70,
   "id": "b092c017",
   "metadata": {},
   "outputs": [],
   "source": [
    "X_bar = np.mean(X)\n",
    "sum(abs(X-X_bar))/len(X)"
   ]
  },
  {
   "cell_type": "markdown",
   "id": "f5e6510d",
   "metadata": {},
   "source": [
    "## Variance"
   ]
  },
  {
   "cell_type": "code",
   "execution_count": 79,
   "id": "37719b02",
   "metadata": {},
   "outputs": [
    {
     "data": {
      "text/plain": [
       "0.14194682918297796"
      ]
     },
     "execution_count": 79,
     "metadata": {},
     "output_type": "execute_result"
    }
   ],
   "source": [
    "X.var()"
   ]
  },
  {
   "cell_type": "code",
   "execution_count": 78,
   "id": "e91abeee",
   "metadata": {},
   "outputs": [
    {
     "data": {
      "text/plain": [
       "0.15771869909219774"
      ]
     },
     "execution_count": 78,
     "metadata": {},
     "output_type": "execute_result"
    }
   ],
   "source": [
    "X.var(ddof=1)"
   ]
  },
  {
   "cell_type": "code",
   "execution_count": 77,
   "id": "52d23d9a",
   "metadata": {},
   "outputs": [
    {
     "data": {
      "text/plain": [
       "0.15771869909219774"
      ]
     },
     "execution_count": 77,
     "metadata": {},
     "output_type": "execute_result"
    }
   ],
   "source": [
    "pd.Series(X).var()"
   ]
  },
  {
   "cell_type": "markdown",
   "id": "559aaaa5",
   "metadata": {},
   "source": [
    "## Standard Deviation"
   ]
  },
  {
   "cell_type": "code",
   "execution_count": 80,
   "id": "03953b23",
   "metadata": {},
   "outputs": [
    {
     "data": {
      "text/plain": [
       "0.39713813603354403"
      ]
     },
     "execution_count": 80,
     "metadata": {},
     "output_type": "execute_result"
    }
   ],
   "source": [
    "np.sqrt(X.var(ddof=1))"
   ]
  },
  {
   "cell_type": "code",
   "execution_count": 82,
   "id": "bbeb6bce",
   "metadata": {},
   "outputs": [
    {
     "data": {
      "text/plain": [
       "0.39713813603354403"
      ]
     },
     "execution_count": 82,
     "metadata": {},
     "output_type": "execute_result"
    }
   ],
   "source": [
    "X.std(ddof=1)"
   ]
  },
  {
   "cell_type": "code",
   "execution_count": 83,
   "id": "3846c674",
   "metadata": {},
   "outputs": [
    {
     "data": {
      "text/plain": [
       "0.39713813603354403"
      ]
     },
     "execution_count": 83,
     "metadata": {},
     "output_type": "execute_result"
    }
   ],
   "source": [
    "pd.Series(X).std()"
   ]
  },
  {
   "cell_type": "code",
   "execution_count": 87,
   "id": "19fbb9d3",
   "metadata": {},
   "outputs": [
    {
     "data": {
      "text/plain": [
       "array([0.15578055, 0.22528969, 0.34749041, 0.55030346, 0.60986133,\n",
       "       0.72583479, 0.87190145, 1.11460095, 1.18365364, 1.25431632])"
      ]
     },
     "execution_count": 87,
     "metadata": {},
     "output_type": "execute_result"
    }
   ],
   "source": [
    "X"
   ]
  },
  {
   "cell_type": "code",
   "execution_count": 85,
   "id": "0f7c480c",
   "metadata": {},
   "outputs": [
    {
     "data": {
      "text/plain": [
       "0.7039032584825371"
      ]
     },
     "execution_count": 85,
     "metadata": {},
     "output_type": "execute_result"
    }
   ],
   "source": [
    "X.mean()"
   ]
  },
  {
   "cell_type": "code",
   "execution_count": 92,
   "id": "227eb81f",
   "metadata": {},
   "outputs": [
    {
     "data": {
      "text/plain": [
       "0.667848059661341"
      ]
     },
     "execution_count": 92,
     "metadata": {},
     "output_type": "execute_result"
    }
   ],
   "source": [
    "pd.Series(X).median()"
   ]
  },
  {
   "cell_type": "code",
   "execution_count": 90,
   "id": "27793b92",
   "metadata": {},
   "outputs": [
    {
     "data": {
      "text/plain": [
       "0.667848059661341"
      ]
     },
     "execution_count": 90,
     "metadata": {},
     "output_type": "execute_result"
    }
   ],
   "source": [
    "np.percentile(X, 50)"
   ]
  },
  {
   "cell_type": "code",
   "execution_count": 93,
   "id": "a205dad8",
   "metadata": {},
   "outputs": [
    {
     "data": {
      "text/plain": [
       "0.3230502669729948"
      ]
     },
     "execution_count": 93,
     "metadata": {},
     "output_type": "execute_result"
    }
   ],
   "source": [
    "np.percentile(X, 20)"
   ]
  },
  {
   "cell_type": "code",
   "execution_count": 94,
   "id": "f20dcdf0",
   "metadata": {},
   "outputs": [
    {
     "data": {
      "text/plain": [
       "1.128411491265281"
      ]
     },
     "execution_count": 94,
     "metadata": {},
     "output_type": "execute_result"
    }
   ],
   "source": [
    "np.percentile(X, 80)"
   ]
  },
  {
   "cell_type": "code",
   "execution_count": 96,
   "id": "411aacc6",
   "metadata": {},
   "outputs": [],
   "source": [
    "Q1 = np.percentile(X, 25)\n",
    "Q2 = np.percentile(X, 50)\n",
    "Q3 = np.percentile(X, 75)"
   ]
  },
  {
   "cell_type": "code",
   "execution_count": 97,
   "id": "79ac7b44",
   "metadata": {},
   "outputs": [
    {
     "name": "stdout",
     "output_type": "stream",
     "text": [
      "0.6557324054508762\n"
     ]
    }
   ],
   "source": [
    "IQR = Q3-Q1\n",
    "\n",
    "print(IQR)"
   ]
  },
  {
   "cell_type": "code",
   "execution_count": 98,
   "id": "1bc4e512",
   "metadata": {},
   "outputs": [],
   "source": [
    "r = max(X) - min(X)"
   ]
  },
  {
   "cell_type": "code",
   "execution_count": 99,
   "id": "5bd9a255",
   "metadata": {},
   "outputs": [
    {
     "data": {
      "text/plain": [
       "1.098535766789362"
      ]
     },
     "execution_count": 99,
     "metadata": {},
     "output_type": "execute_result"
    }
   ],
   "source": [
    "r"
   ]
  },
  {
   "cell_type": "code",
   "execution_count": null,
   "id": "6ffb1057",
   "metadata": {},
   "outputs": [],
   "source": []
  },
  {
   "cell_type": "code",
   "execution_count": null,
   "id": "b54f5ecf",
   "metadata": {},
   "outputs": [],
   "source": []
  },
  {
   "cell_type": "code",
   "execution_count": 112,
   "id": "5b87f0c1",
   "metadata": {},
   "outputs": [],
   "source": [
    "X = scipy.stats.skewnorm.rvs(a=-10,size=1000,loc=0)"
   ]
  },
  {
   "cell_type": "code",
   "execution_count": 113,
   "id": "95d93108",
   "metadata": {},
   "outputs": [
    {
     "data": {
      "text/plain": [
       "<seaborn.axisgrid.FacetGrid at 0x7fbb881b3e80>"
      ]
     },
     "execution_count": 113,
     "metadata": {},
     "output_type": "execute_result"
    },
    {
     "data": {
      "image/png": "[encoded data removed]",
      "text/plain": [
       "<Figure size 360x360 with 1 Axes>"
      ]
     },
     "metadata": {
      "needs_background": "light"
     },
     "output_type": "display_data"
    }
   ],
   "source": [
    "sns.displot(X)"
   ]
  },
  {
   "cell_type": "code",
   "execution_count": 114,
   "id": "8c790a70",
   "metadata": {},
   "outputs": [
    {
     "data": {
      "text/plain": [
       "-0.9214659179207975"
      ]
     },
     "execution_count": 114,
     "metadata": {},
     "output_type": "execute_result"
    }
   ],
   "source": [
    "scipy.stats.skew(X)"
   ]
  },
  {
   "cell_type": "code",
   "execution_count": 116,
   "id": "4eb38632",
   "metadata": {},
   "outputs": [
    {
     "data": {
      "text/plain": [
       "<seaborn.axisgrid.FacetGrid at 0x7fbba893a970>"
      ]
     },
     "execution_count": 116,
     "metadata": {},
     "output_type": "execute_result"
    },
    {
     "data": {
      "image/png": "[encoded data removed]",
      "text/plain": [
       "<Figure size 360x360 with 1 Axes>"
      ]
     },
     "metadata": {
      "needs_background": "light"
     },
     "output_type": "display_data"
    }
   ],
   "source": [
    "X = scipy.stats.skewnorm.rvs(a=10,size=1000,loc=0)\n",
    "sns.displot(X)"
   ]
  },
  {
   "cell_type": "code",
   "execution_count": 132,
   "id": "3d027473",
   "metadata": {},
   "outputs": [
    {
     "data": {
      "text/plain": [
       "<seaborn.axisgrid.FacetGrid at 0x7fbba8f28a60>"
      ]
     },
     "execution_count": 132,
     "metadata": {},
     "output_type": "execute_result"
    },
    {
     "data": {
      "image/png": "[encoded data removed]",
      "text/plain": [
       "<Figure size 360x360 with 1 Axes>"
      ]
     },
     "metadata": {
      "needs_background": "light"
     },
     "output_type": "display_data"
    }
   ],
   "source": [
    "sns.displot(np.log(X+1))"
   ]
  },
  {
   "cell_type": "code",
   "execution_count": 133,
   "id": "9399d123",
   "metadata": {},
   "outputs": [
    {
     "data": {
      "text/plain": [
       "0.10683145776538708"
      ]
     },
     "execution_count": 133,
     "metadata": {},
     "output_type": "execute_result"
    }
   ],
   "source": [
    "scipy.stats.skew(np.log(X+1))"
   ]
  },
  {
   "cell_type": "code",
   "execution_count": 148,
   "id": "11f5a630",
   "metadata": {},
   "outputs": [
    {
     "data": {
      "text/plain": [
       "<seaborn.axisgrid.FacetGrid at 0x7fbba9698910>"
      ]
     },
     "execution_count": 148,
     "metadata": {},
     "output_type": "execute_result"
    },
    {
     "data": {
      "image/png": "[encoded data removed]",
      "text/plain": [
       "<Figure size 360x360 with 1 Axes>"
      ]
     },
     "metadata": {
      "needs_background": "light"
     },
     "output_type": "display_data"
    }
   ],
   "source": [
    "X = np.random.normal(loc=0,scale=1,size=100000)\n",
    "X2 = np.random.normal(loc=0,scale=1,size=100000)\n",
    "\n",
    "sns.displot(X)"
   ]
  },
  {
   "cell_type": "code",
   "execution_count": 153,
   "id": "76a5ee73",
   "metadata": {},
   "outputs": [
    {
     "data": {
      "text/plain": [
       "DescribeResult(nobs=100000, minmax=(-4.6128781319987215, 4.3236815872902685), mean=-0.005630197032392183, variance=0.9942684523275093, skewness=0.0015380219191105547, kurtosis=0.026809944003555408)"
      ]
     },
     "execution_count": 153,
     "metadata": {},
     "output_type": "execute_result"
    }
   ],
   "source": [
    "scipy.stats.describe(X)"
   ]
  },
  {
   "cell_type": "code",
   "execution_count": 154,
   "id": "bfcf1c73",
   "metadata": {},
   "outputs": [
    {
     "data": {
      "text/plain": [
       "<seaborn.axisgrid.FacetGrid at 0x7fbba9aa5880>"
      ]
     },
     "execution_count": 154,
     "metadata": {},
     "output_type": "execute_result"
    },
    {
     "data": {
      "image/png": "[encoded data removed]",
      "text/plain": [
       "<Figure size 360x360 with 1 Axes>"
      ]
     },
     "metadata": {
      "needs_background": "light"
     },
     "output_type": "display_data"
    }
   ],
   "source": [
    "X = scipy.stats.skewnorm.rvs(a=10,size=1000,loc=0)\n",
    "sns.displot(X)"
   ]
  },
  {
   "cell_type": "code",
   "execution_count": 156,
   "id": "7981d47d",
   "metadata": {},
   "outputs": [],
   "source": [
    "result = scipy.stats.describe(X)"
   ]
  },
  {
   "cell_type": "code",
   "execution_count": 163,
   "id": "9c8026ac",
   "metadata": {},
   "outputs": [
    {
     "data": {
      "text/plain": [
       "DescribeResult(nobs=1000, minmax=(-0.19208515735392948, 4.1104233884781), mean=0.7894533945485334, variance=0.36301657439878227, skewness=0.9960799912161349, kurtosis=1.1055312198895102)"
      ]
     },
     "execution_count": 163,
     "metadata": {},
     "output_type": "execute_result"
    }
   ],
   "source": [
    "result"
   ]
  },
  {
   "cell_type": "code",
   "execution_count": 162,
   "id": "296533f4",
   "metadata": {},
   "outputs": [
    {
     "data": {
      "text/plain": [
       "count    1000.000000\n",
       "mean        0.789453\n",
       "std         0.602509\n",
       "min        -0.192085\n",
       "25%         0.306383\n",
       "50%         0.669216\n",
       "75%         1.129633\n",
       "max         4.110423\n",
       "dtype: float64"
      ]
     },
     "execution_count": 162,
     "metadata": {},
     "output_type": "execute_result"
    }
   ],
   "source": [
    "pd.Series(X).describe()"
   ]
  },
  {
   "cell_type": "code",
   "execution_count": 164,
   "id": "8e2e71c8",
   "metadata": {},
   "outputs": [],
   "source": [
    "X = np.random.random(size=100)\n",
    "\n",
    "Y1 = np.random.random(size=100)\n",
    "\n",
    "Y2 = 2*X + np.random.random(size=100)\n",
    "Y3 = -2*X + np.random.random(size=100)"
   ]
  },
  {
   "cell_type": "code",
   "execution_count": 165,
   "id": "b92630dc",
   "metadata": {},
   "outputs": [
    {
     "data": {
      "text/plain": [
       "<matplotlib.collections.PathCollection at 0x7fbbbc5ee640>"
      ]
     },
     "execution_count": 165,
     "metadata": {},
     "output_type": "execute_result"
    },
    {
     "data": {
      "image/png": "[encoded data removed]",
      "text/plain": [
       "<Figure size 432x288 with 1 Axes>"
      ]
     },
     "metadata": {
      "needs_background": "light"
     },
     "output_type": "display_data"
    }
   ],
   "source": [
    "plt.scatter(x=X,y=Y1)"
   ]
  },
  {
   "cell_type": "code",
   "execution_count": 166,
   "id": "0a239038",
   "metadata": {},
   "outputs": [
    {
     "data": {
      "text/plain": [
       "<matplotlib.collections.PathCollection at 0x7fbbbc57b220>"
      ]
     },
     "execution_count": 166,
     "metadata": {},
     "output_type": "execute_result"
    },
    {
     "data": {
      "image/png": "[encoded data removed]",
      "text/plain": [
       "<Figure size 432x288 with 1 Axes>"
      ]
     },
     "metadata": {
      "needs_background": "light"
     },
     "output_type": "display_data"
    }
   ],
   "source": [
    "plt.scatter(x=X,y=Y2)"
   ]
  },
  {
   "cell_type": "code",
   "execution_count": 167,
   "id": "f3781c81",
   "metadata": {},
   "outputs": [
    {
     "data": {
      "text/plain": [
       "<matplotlib.collections.PathCollection at 0x7fbbbc65cd30>"
      ]
     },
     "execution_count": 167,
     "metadata": {},
     "output_type": "execute_result"
    },
    {
     "data": {
      "image/png": "[encoded data removed]",
      "text/plain": [
       "<Figure size 432x288 with 1 Axes>"
      ]
     },
     "metadata": {
      "needs_background": "light"
     },
     "output_type": "display_data"
    }
   ],
   "source": [
    "plt.scatter(x=X,y=Y3)"
   ]
  },
  {
   "cell_type": "code",
   "execution_count": 168,
   "id": "fd45c74c",
   "metadata": {},
   "outputs": [
    {
     "data": {
      "text/plain": [
       "array([[0.07093769, 0.00463653],\n",
       "       [0.00463653, 0.0914193 ]])"
      ]
     },
     "execution_count": 168,
     "metadata": {},
     "output_type": "execute_result"
    }
   ],
   "source": [
    "np.cov(X,Y1)"
   ]
  },
  {
   "cell_type": "code",
   "execution_count": 169,
   "id": "654d345f",
   "metadata": {},
   "outputs": [
    {
     "data": {
      "text/plain": [
       "array([[0.07093769, 0.16150157],\n",
       "       [0.16150157, 0.45455898]])"
      ]
     },
     "execution_count": 169,
     "metadata": {},
     "output_type": "execute_result"
    }
   ],
   "source": [
    "np.cov(X,Y2)"
   ]
  },
  {
   "cell_type": "code",
   "execution_count": 170,
   "id": "3d9bfe33",
   "metadata": {},
   "outputs": [
    {
     "data": {
      "text/plain": [
       "array([[ 0.07093769, -0.13959465],\n",
       "       [-0.13959465,  0.33615547]])"
      ]
     },
     "execution_count": 170,
     "metadata": {},
     "output_type": "execute_result"
    }
   ],
   "source": [
    "np.cov(X,Y3)"
   ]
  },
  {
   "cell_type": "code",
   "execution_count": 172,
   "id": "8bb51ff9",
   "metadata": {},
   "outputs": [
    {
     "data": {
      "text/plain": [
       "-0.13959465015126465"
      ]
     },
     "execution_count": 172,
     "metadata": {},
     "output_type": "execute_result"
    }
   ],
   "source": [
    "pd.Series(X).cov(pd.Series(Y3))"
   ]
  },
  {
   "cell_type": "code",
   "execution_count": 173,
   "id": "106f3074",
   "metadata": {},
   "outputs": [
    {
     "data": {
      "text/plain": [
       "DescribeResult(nobs=100, minmax=(0.027630079146161002, 0.9885205607804418), mean=0.5619804678232044, variance=0.07093769315529795, skewness=-0.3753897276302585, kurtosis=-1.063371683539206)"
      ]
     },
     "execution_count": 173,
     "metadata": {},
     "output_type": "execute_result"
    }
   ],
   "source": [
    "scipy.stats.describe(X)"
   ]
  },
  {
   "cell_type": "code",
   "execution_count": 174,
   "id": "c07359e8",
   "metadata": {},
   "outputs": [],
   "source": [
    "X = 10*np.random.random(size=100)\n",
    "\n",
    "Y1 = np.random.random(size=100)\n",
    "\n",
    "Y2 = 2*X + np.random.random(size=100)\n",
    "Y3 = -2*X + np.random.random(size=100)"
   ]
  },
  {
   "cell_type": "code",
   "execution_count": 176,
   "id": "60aecefa",
   "metadata": {},
   "outputs": [
    {
     "data": {
      "text/plain": [
       "DescribeResult(nobs=100, minmax=(0.008740456530981211, 9.964115558297873), mean=5.341432489674542, variance=8.547906350068454, skewness=-0.18221691936848883, kurtosis=-1.120242360156521)"
      ]
     },
     "execution_count": 176,
     "metadata": {},
     "output_type": "execute_result"
    }
   ],
   "source": [
    "scipy.stats.describe(X)"
   ]
  },
  {
   "cell_type": "code",
   "execution_count": 182,
   "id": "57ad86b4",
   "metadata": {},
   "outputs": [
    {
     "data": {
      "text/plain": [
       "-17.087135060140724"
      ]
     },
     "execution_count": 182,
     "metadata": {},
     "output_type": "execute_result"
    }
   ],
   "source": [
    "covX_Y3 = np.cov(X,Y3)[0,1]\n",
    "covX_Y3"
   ]
  },
  {
   "cell_type": "code",
   "execution_count": 181,
   "id": "0e41917c",
   "metadata": {},
   "outputs": [
    {
     "data": {
      "text/plain": [
       "-0.9986991261092971"
      ]
     },
     "execution_count": 181,
     "metadata": {},
     "output_type": "execute_result"
    }
   ],
   "source": [
    "covX_Y3 / (X.std(ddof=1)*Y3.std(ddof=1))"
   ]
  },
  {
   "cell_type": "code",
   "execution_count": 183,
   "id": "95b05ab3",
   "metadata": {},
   "outputs": [],
   "source": [
    "X = np.random.random(size=100)\n",
    "\n",
    "Y1 = np.random.random(size=100)\n",
    "\n",
    "Y2 = 2*X + np.random.random(size=100)\n",
    "Y3 = -2*X + np.random.random(size=100)"
   ]
  },
  {
   "cell_type": "code",
   "execution_count": 184,
   "id": "be351970",
   "metadata": {},
   "outputs": [
    {
     "data": {
      "text/plain": [
       "-0.15048901100939593"
      ]
     },
     "execution_count": 184,
     "metadata": {},
     "output_type": "execute_result"
    }
   ],
   "source": [
    "covX_Y3 = np.cov(X,Y3)[0,1]\n",
    "covX_Y3"
   ]
  },
  {
   "cell_type": "code",
   "execution_count": 185,
   "id": "079cab8a",
   "metadata": {},
   "outputs": [
    {
     "data": {
      "text/plain": [
       "-0.8695311131423926"
      ]
     },
     "execution_count": 185,
     "metadata": {},
     "output_type": "execute_result"
    }
   ],
   "source": [
    "covX_Y3 / (X.std(ddof=1)*Y3.std(ddof=1))"
   ]
  },
  {
   "cell_type": "code",
   "execution_count": 186,
   "id": "99165ed4",
   "metadata": {},
   "outputs": [
    {
     "data": {
      "text/plain": [
       "array([[1.        , 0.88414554],\n",
       "       [0.88414554, 1.        ]])"
      ]
     },
     "execution_count": 186,
     "metadata": {},
     "output_type": "execute_result"
    }
   ],
   "source": [
    "np.corrcoef(X,Y2)"
   ]
  },
  {
   "cell_type": "code",
   "execution_count": 187,
   "id": "d3d51b43",
   "metadata": {},
   "outputs": [
    {
     "data": {
      "text/plain": [
       "array([[ 1.        , -0.86953111],\n",
       "       [-0.86953111,  1.        ]])"
      ]
     },
     "execution_count": 187,
     "metadata": {},
     "output_type": "execute_result"
    }
   ],
   "source": [
    "np.corrcoef(X,Y3)"
   ]
  },
  {
   "cell_type": "code",
   "execution_count": 191,
   "id": "a213ae43",
   "metadata": {},
   "outputs": [],
   "source": [
    "df = pd.DataFrame({\"X\":X, \"Y1\":Y1, \"Y2\":Y2,\"Y3\":Y3})"
   ]
  },
  {
   "cell_type": "code",
   "execution_count": 192,
   "id": "f101429f",
   "metadata": {},
   "outputs": [
    {
     "data": {
      "text/html": [
       "<div>\n",
       "<style scoped>\n",
       "    .dataframe tbody tr th:only-of-type {\n",
       "        vertical-align: middle;\n",
       "    }\n",
       "\n",
       "    .dataframe tbody tr th {\n",
       "        vertical-align: top;\n",
       "    }\n",
       "\n",
       "    .dataframe thead th {\n",
       "        text-align: right;\n",
       "    }\n",
       "</style>\n",
       "<table border=\"1\" class=\"dataframe\">\n",
       "  <thead>\n",
       "    <tr style=\"text-align: right;\">\n",
       "      <th></th>\n",
       "      <th>X</th>\n",
       "      <th>Y1</th>\n",
       "      <th>Y2</th>\n",
       "      <th>Y3</th>\n",
       "    </tr>\n",
       "  </thead>\n",
       "  <tbody>\n",
       "    <tr>\n",
       "      <th>X</th>\n",
       "      <td>1.000000</td>\n",
       "      <td>0.058808</td>\n",
       "      <td>0.884146</td>\n",
       "      <td>-0.869531</td>\n",
       "    </tr>\n",
       "    <tr>\n",
       "      <th>Y1</th>\n",
       "      <td>0.058808</td>\n",
       "      <td>1.000000</td>\n",
       "      <td>-0.039515</td>\n",
       "      <td>-0.036467</td>\n",
       "    </tr>\n",
       "    <tr>\n",
       "      <th>Y2</th>\n",
       "      <td>0.884146</td>\n",
       "      <td>-0.039515</td>\n",
       "      <td>1.000000</td>\n",
       "      <td>-0.767545</td>\n",
       "    </tr>\n",
       "    <tr>\n",
       "      <th>Y3</th>\n",
       "      <td>-0.869531</td>\n",
       "      <td>-0.036467</td>\n",
       "      <td>-0.767545</td>\n",
       "      <td>1.000000</td>\n",
       "    </tr>\n",
       "  </tbody>\n",
       "</table>\n",
       "</div>"
      ],
      "text/plain": [
       "           X        Y1        Y2        Y3\n",
       "X   1.000000  0.058808  0.884146 -0.869531\n",
       "Y1  0.058808  1.000000 -0.039515 -0.036467\n",
       "Y2  0.884146 -0.039515  1.000000 -0.767545\n",
       "Y3 -0.869531 -0.036467 -0.767545  1.000000"
      ]
     },
     "execution_count": 192,
     "metadata": {},
     "output_type": "execute_result"
    }
   ],
   "source": [
    "df.corr()"
   ]
  },
  {
   "cell_type": "code",
   "execution_count": 193,
   "id": "cc28fc38",
   "metadata": {},
   "outputs": [
    {
     "data": {
      "text/html": [
       "<div>\n",
       "<style scoped>\n",
       "    .dataframe tbody tr th:only-of-type {\n",
       "        vertical-align: middle;\n",
       "    }\n",
       "\n",
       "    .dataframe tbody tr th {\n",
       "        vertical-align: top;\n",
       "    }\n",
       "\n",
       "    .dataframe thead th {\n",
       "        text-align: right;\n",
       "    }\n",
       "</style>\n",
       "<table border=\"1\" class=\"dataframe\">\n",
       "  <thead>\n",
       "    <tr style=\"text-align: right;\">\n",
       "      <th></th>\n",
       "      <th>X</th>\n",
       "      <th>Y1</th>\n",
       "      <th>Y2</th>\n",
       "      <th>Y3</th>\n",
       "    </tr>\n",
       "  </thead>\n",
       "  <tbody>\n",
       "    <tr>\n",
       "      <th>count</th>\n",
       "      <td>100.000000</td>\n",
       "      <td>100.000000</td>\n",
       "      <td>100.000000</td>\n",
       "      <td>100.000000</td>\n",
       "    </tr>\n",
       "    <tr>\n",
       "      <th>mean</th>\n",
       "      <td>0.534892</td>\n",
       "      <td>0.496700</td>\n",
       "      <td>1.574071</td>\n",
       "      <td>-0.571211</td>\n",
       "    </tr>\n",
       "    <tr>\n",
       "      <th>std</th>\n",
       "      <td>0.278842</td>\n",
       "      <td>0.300248</td>\n",
       "      <td>0.665897</td>\n",
       "      <td>0.620671</td>\n",
       "    </tr>\n",
       "    <tr>\n",
       "      <th>min</th>\n",
       "      <td>0.004195</td>\n",
       "      <td>0.010239</td>\n",
       "      <td>0.078198</td>\n",
       "      <td>-1.867646</td>\n",
       "    </tr>\n",
       "    <tr>\n",
       "      <th>25%</th>\n",
       "      <td>0.309779</td>\n",
       "      <td>0.268818</td>\n",
       "      <td>1.155295</td>\n",
       "      <td>-0.999936</td>\n",
       "    </tr>\n",
       "    <tr>\n",
       "      <th>50%</th>\n",
       "      <td>0.518670</td>\n",
       "      <td>0.480726</td>\n",
       "      <td>1.538386</td>\n",
       "      <td>-0.533339</td>\n",
       "    </tr>\n",
       "    <tr>\n",
       "      <th>75%</th>\n",
       "      <td>0.776356</td>\n",
       "      <td>0.774900</td>\n",
       "      <td>2.024508</td>\n",
       "      <td>-0.048600</td>\n",
       "    </tr>\n",
       "    <tr>\n",
       "      <th>max</th>\n",
       "      <td>0.984204</td>\n",
       "      <td>0.991891</td>\n",
       "      <td>2.844615</td>\n",
       "      <td>0.712221</td>\n",
       "    </tr>\n",
       "  </tbody>\n",
       "</table>\n",
       "</div>"
      ],
      "text/plain": [
       "                X          Y1          Y2          Y3\n",
       "count  100.000000  100.000000  100.000000  100.000000\n",
       "mean     0.534892    0.496700    1.574071   -0.571211\n",
       "std      0.278842    0.300248    0.665897    0.620671\n",
       "min      0.004195    0.010239    0.078198   -1.867646\n",
       "25%      0.309779    0.268818    1.155295   -0.999936\n",
       "50%      0.518670    0.480726    1.538386   -0.533339\n",
       "75%      0.776356    0.774900    2.024508   -0.048600\n",
       "max      0.984204    0.991891    2.844615    0.712221"
      ]
     },
     "execution_count": 193,
     "metadata": {},
     "output_type": "execute_result"
    }
   ],
   "source": [
    "df.describe()"
   ]
  },
  {
   "cell_type": "code",
   "execution_count": 194,
   "id": "417eb85d",
   "metadata": {},
   "outputs": [
    {
     "data": {
      "text/plain": [
       "X     0.534892\n",
       "Y1    0.496700\n",
       "Y2    1.574071\n",
       "Y3   -0.571211\n",
       "dtype: float64"
      ]
     },
     "execution_count": 194,
     "metadata": {},
     "output_type": "execute_result"
    }
   ],
   "source": [
    "df.mean()"
   ]
  },
  {
   "cell_type": "code",
   "execution_count": 195,
   "id": "0f6aa098",
   "metadata": {},
   "outputs": [
    {
     "data": {
      "text/plain": [
       "X     0.518670\n",
       "Y1    0.480726\n",
       "Y2    1.538386\n",
       "Y3   -0.533339\n",
       "dtype: float64"
      ]
     },
     "execution_count": 195,
     "metadata": {},
     "output_type": "execute_result"
    }
   ],
   "source": [
    "df.median()"
   ]
  },
  {
   "cell_type": "code",
   "execution_count": 197,
   "id": "82519362",
   "metadata": {},
   "outputs": [
    {
     "name": "stderr",
     "output_type": "stream",
     "text": [
      "/Users/yjhouma/opt/anaconda3/lib/python3.9/site-packages/scipy/stats/stats.py:275: RuntimeWarning: invalid value encountered in log\n",
      "  log_a = np.log(np.array(a, dtype=dtype))\n"
     ]
    },
    {
     "data": {
      "text/plain": [
       "array([0.41747707, 0.36183212, 1.37715153,        nan])"
      ]
     },
     "execution_count": 197,
     "metadata": {},
     "output_type": "execute_result"
    }
   ],
   "source": [
    "scipy.stats.gmean(df,axis=0)"
   ]
  },
  {
   "cell_type": "code",
   "execution_count": 199,
   "id": "caa4f198",
   "metadata": {},
   "outputs": [
    {
     "data": {
      "text/plain": [
       "<AxesSubplot:>"
      ]
     },
     "execution_count": 199,
     "metadata": {},
     "output_type": "execute_result"
    },
    {
     "data": {
      "image/png": "[encoded data removed]",
      "text/plain": [
       "<Figure size 432x288 with 2 Axes>"
      ]
     },
     "metadata": {
      "needs_background": "light"
     },
     "output_type": "display_data"
    }
   ],
   "source": [
    "sns.heatmap(df.corr())"
   ]
  },
  {
   "cell_type": "code",
   "execution_count": null,
   "id": "d70eb3a0",
   "metadata": {},
   "outputs": [],
   "source": []
  }
 ],
 "metadata": {
  "kernelspec": {
   "display_name": "Python 3 (ipykernel)",
   "language": "python",
   "name": "python3"
  },
  "language_info": {
   "codemirror_mode": {
    "name": "ipython",
    "version": 3
   },
   "file_extension": ".py",
   "mimetype": "text/x-python",
   "name": "python",
   "nbconvert_exporter": "python",
   "pygments_lexer": "ipython3",
   "version": "3.9.12"
  }
 },
 "nbformat": 4,
 "nbformat_minor": 5
}
